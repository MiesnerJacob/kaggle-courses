{
 "cells": [
  {
   "cell_type": "markdown",
   "metadata": {
    "papermill": {
     "duration": 0.015514,
     "end_time": "2021-01-24T20:18:25.929949",
     "exception": false,
     "start_time": "2021-01-24T20:18:25.914435",
     "status": "completed"
    },
    "tags": []
   },
   "source": [
    "**This notebook is an exercise in the [Data Cleaning](https://www.kaggle.com/learn/data-cleaning) course.  You can reference the tutorial at [this link](https://www.kaggle.com/alexisbcook/character-encodings).**\n",
    "\n",
    "---\n"
   ]
  },
  {
   "cell_type": "markdown",
   "metadata": {
    "papermill": {
     "duration": 0.011821,
     "end_time": "2021-01-24T20:18:25.954803",
     "exception": false,
     "start_time": "2021-01-24T20:18:25.942982",
     "status": "completed"
    },
    "tags": []
   },
   "source": [
    "In this exercise, you'll apply what you learned in the **Character encodings** tutorial.\n",
    "\n",
    "# Setup\n",
    "\n",
    "The questions below will give you feedback on your work. Run the following cell to set up the feedback system."
   ]
  },
  {
   "cell_type": "code",
   "execution_count": 1,
   "metadata": {
    "execution": {
     "iopub.execute_input": "2021-01-24T20:18:25.982287Z",
     "iopub.status.busy": "2021-01-24T20:18:25.981579Z",
     "iopub.status.idle": "2021-01-24T20:18:26.076492Z",
     "shell.execute_reply": "2021-01-24T20:18:26.077145Z"
    },
    "papermill": {
     "duration": 0.110567,
     "end_time": "2021-01-24T20:18:26.077321",
     "exception": false,
     "start_time": "2021-01-24T20:18:25.966754",
     "status": "completed"
    },
    "tags": []
   },
   "outputs": [
    {
     "name": "stdout",
     "output_type": "stream",
     "text": [
      "Setup Complete\n"
     ]
    }
   ],
   "source": [
    "from learntools.core import binder\n",
    "binder.bind(globals())\n",
    "from learntools.data_cleaning.ex4 import *\n",
    "print(\"Setup Complete\")"
   ]
  },
  {
   "cell_type": "markdown",
   "metadata": {
    "papermill": {
     "duration": 0.012031,
     "end_time": "2021-01-24T20:18:26.102374",
     "exception": false,
     "start_time": "2021-01-24T20:18:26.090343",
     "status": "completed"
    },
    "tags": []
   },
   "source": [
    "# Get our environment set up\n",
    "\n",
    "The first thing we'll need to do is load in the libraries we'll be using."
   ]
  },
  {
   "cell_type": "code",
   "execution_count": 2,
   "metadata": {
    "execution": {
     "iopub.execute_input": "2021-01-24T20:18:26.133160Z",
     "iopub.status.busy": "2021-01-24T20:18:26.132197Z",
     "iopub.status.idle": "2021-01-24T20:18:26.135702Z",
     "shell.execute_reply": "2021-01-24T20:18:26.135031Z"
    },
    "papermill": {
     "duration": 0.020989,
     "end_time": "2021-01-24T20:18:26.135809",
     "exception": false,
     "start_time": "2021-01-24T20:18:26.114820",
     "status": "completed"
    },
    "tags": []
   },
   "outputs": [],
   "source": [
    "# modules we'll use\n",
    "import pandas as pd\n",
    "import numpy as np\n",
    "\n",
    "# helpful character encoding module\n",
    "import chardet\n",
    "\n",
    "# set seed for reproducibility\n",
    "np.random.seed(0)"
   ]
  },
  {
   "cell_type": "markdown",
   "metadata": {
    "papermill": {
     "duration": 0.012184,
     "end_time": "2021-01-24T20:18:26.160635",
     "exception": false,
     "start_time": "2021-01-24T20:18:26.148451",
     "status": "completed"
    },
    "tags": []
   },
   "source": [
    "# 1) What are encodings?\n",
    "\n",
    "You're working with a dataset composed of bytes.  Run the code cell below to print a sample entry."
   ]
  },
  {
   "cell_type": "code",
   "execution_count": 3,
   "metadata": {
    "execution": {
     "iopub.execute_input": "2021-01-24T20:18:26.190913Z",
     "iopub.status.busy": "2021-01-24T20:18:26.190276Z",
     "iopub.status.idle": "2021-01-24T20:18:26.194296Z",
     "shell.execute_reply": "2021-01-24T20:18:26.193643Z"
    },
    "papermill": {
     "duration": 0.021366,
     "end_time": "2021-01-24T20:18:26.194419",
     "exception": false,
     "start_time": "2021-01-24T20:18:26.173053",
     "status": "completed"
    },
    "tags": []
   },
   "outputs": [
    {
     "name": "stdout",
     "output_type": "stream",
     "text": [
      "b'\\xa7A\\xa6n'\n",
      "data type: <class 'bytes'>\n"
     ]
    }
   ],
   "source": [
    "sample_entry = b'\\xa7A\\xa6n'\n",
    "print(sample_entry)\n",
    "print('data type:', type(sample_entry))"
   ]
  },
  {
   "cell_type": "markdown",
   "metadata": {
    "papermill": {
     "duration": 0.012557,
     "end_time": "2021-01-24T20:18:26.220569",
     "exception": false,
     "start_time": "2021-01-24T20:18:26.208012",
     "status": "completed"
    },
    "tags": []
   },
   "source": [
    "You notice that it doesn't use the standard UTF-8 encoding. \n",
    "\n",
    "Use the next code cell to create a variable `new_entry` that changes the encoding from `\"big5-tw\"` to `\"utf-8\"`.  `new_entry` should have the bytes datatype."
   ]
  },
  {
   "cell_type": "code",
   "execution_count": 4,
   "metadata": {
    "execution": {
     "iopub.execute_input": "2021-01-24T20:18:26.250195Z",
     "iopub.status.busy": "2021-01-24T20:18:26.249521Z",
     "iopub.status.idle": "2021-01-24T20:18:26.261825Z",
     "shell.execute_reply": "2021-01-24T20:18:26.261292Z"
    },
    "papermill": {
     "duration": 0.028309,
     "end_time": "2021-01-24T20:18:26.261944",
     "exception": false,
     "start_time": "2021-01-24T20:18:26.233635",
     "status": "completed"
    },
    "tags": []
   },
   "outputs": [
    {
     "data": {
      "application/javascript": [
       "parent.postMessage({\"jupyterEvent\": \"custom.exercise_interaction\", \"data\": {\"outcomeType\": 1, \"valueTowardsCompletion\": 0.3333333333333333, \"interactionType\": 1, \"questionType\": 1, \"questionId\": \"1_EncodingsIntro\", \"learnToolsVersion\": \"0.3.4\", \"failureMessage\": \"\", \"exceptionClass\": \"\", \"trace\": \"\"}}, \"*\")"
      ],
      "text/plain": [
       "<IPython.core.display.Javascript object>"
      ]
     },
     "metadata": {},
     "output_type": "display_data"
    },
    {
     "data": {
      "text/markdown": [
       "<span style=\"color:#33cc33\">Correct</span>"
      ],
      "text/plain": [
       "Correct"
      ]
     },
     "metadata": {},
     "output_type": "display_data"
    }
   ],
   "source": [
    "new_entry = sample_entry.decode(\"big5-tw\")\n",
    "new_entry = new_entry.encode('utf-8')\n",
    "\n",
    "# Check your answer\n",
    "q1.check()"
   ]
  },
  {
   "cell_type": "code",
   "execution_count": 5,
   "metadata": {
    "execution": {
     "iopub.execute_input": "2021-01-24T20:18:26.296889Z",
     "iopub.status.busy": "2021-01-24T20:18:26.296060Z",
     "iopub.status.idle": "2021-01-24T20:18:26.299400Z",
     "shell.execute_reply": "2021-01-24T20:18:26.298721Z"
    },
    "papermill": {
     "duration": 0.022887,
     "end_time": "2021-01-24T20:18:26.299514",
     "exception": false,
     "start_time": "2021-01-24T20:18:26.276627",
     "status": "completed"
    },
    "tags": []
   },
   "outputs": [],
   "source": [
    "# Lines below will give you a hint or solution code\n",
    "#q1.hint()\n",
    "#q1.solution()"
   ]
  },
  {
   "cell_type": "markdown",
   "metadata": {
    "papermill": {
     "duration": 0.014057,
     "end_time": "2021-01-24T20:18:26.328175",
     "exception": false,
     "start_time": "2021-01-24T20:18:26.314118",
     "status": "completed"
    },
    "tags": []
   },
   "source": [
    "# 2) Reading in files with encoding problems\n",
    "\n",
    "Use the code cell below to read in this file at path `\"../input/fatal-police-shootings-in-the-us/PoliceKillingsUS.csv\"`.  \n",
    "\n",
    "Figure out what the correct encoding should be and read in the file to a DataFrame `police_killings`."
   ]
  },
  {
   "cell_type": "code",
   "execution_count": 6,
   "metadata": {
    "execution": {
     "iopub.execute_input": "2021-01-24T20:18:26.362614Z",
     "iopub.status.busy": "2021-01-24T20:18:26.361863Z",
     "iopub.status.idle": "2021-01-24T20:18:26.385671Z",
     "shell.execute_reply": "2021-01-24T20:18:26.386238Z"
    },
    "papermill": {
     "duration": 0.04373,
     "end_time": "2021-01-24T20:18:26.386397",
     "exception": false,
     "start_time": "2021-01-24T20:18:26.342667",
     "status": "completed"
    },
    "tags": []
   },
   "outputs": [
    {
     "data": {
      "application/javascript": [
       "parent.postMessage({\"jupyterEvent\": \"custom.exercise_interaction\", \"data\": {\"outcomeType\": 1, \"valueTowardsCompletion\": 0.3333333333333333, \"interactionType\": 1, \"questionType\": 1, \"questionId\": \"2_ReadIn\", \"learnToolsVersion\": \"0.3.4\", \"failureMessage\": \"\", \"exceptionClass\": \"\", \"trace\": \"\"}}, \"*\")"
      ],
      "text/plain": [
       "<IPython.core.display.Javascript object>"
      ]
     },
     "metadata": {},
     "output_type": "display_data"
    },
    {
     "data": {
      "text/markdown": [
       "<span style=\"color:#33cc33\">Correct</span>"
      ],
      "text/plain": [
       "Correct"
      ]
     },
     "metadata": {},
     "output_type": "display_data"
    }
   ],
   "source": [
    "# TODO: Load in the DataFrame correctly.\n",
    "police_killings = pd.read_csv(\"../input/fatal-police-shootings-in-the-us/PoliceKillingsUS.csv\", encoding='Windows-1252')\n",
    "\n",
    "# Check your answer\n",
    "q2.check()"
   ]
  },
  {
   "cell_type": "markdown",
   "metadata": {
    "papermill": {
     "duration": 0.015244,
     "end_time": "2021-01-24T20:18:26.417544",
     "exception": false,
     "start_time": "2021-01-24T20:18:26.402300",
     "status": "completed"
    },
    "tags": []
   },
   "source": [
    "Feel free to use any additional code cells for supplemental work.  To get credit for finishing this question, you'll need to run `q2.check()` and get a result of **Correct**."
   ]
  },
  {
   "cell_type": "code",
   "execution_count": 7,
   "metadata": {
    "execution": {
     "iopub.execute_input": "2021-01-24T20:18:26.456156Z",
     "iopub.status.busy": "2021-01-24T20:18:26.455088Z",
     "iopub.status.idle": "2021-01-24T20:18:29.972959Z",
     "shell.execute_reply": "2021-01-24T20:18:29.973516Z"
    },
    "papermill": {
     "duration": 3.540652,
     "end_time": "2021-01-24T20:18:29.973680",
     "exception": false,
     "start_time": "2021-01-24T20:18:26.433028",
     "status": "completed"
    },
    "tags": []
   },
   "outputs": [
    {
     "name": "stdout",
     "output_type": "stream",
     "text": [
      "{'encoding': 'Windows-1252', 'confidence': 0.73, 'language': ''}\n"
     ]
    }
   ],
   "source": [
    "# (Optional) Use this code cell for any additional work.\n",
    "with open(\"../input/fatal-police-shootings-in-the-us/PoliceKillingsUS.csv\", 'rb') as rawdata:\n",
    "    result = chardet.detect(rawdata.read(10000000))\n",
    "\n",
    "# check what the character encoding might be\n",
    "print(result)"
   ]
  },
  {
   "cell_type": "code",
   "execution_count": 8,
   "metadata": {
    "execution": {
     "iopub.execute_input": "2021-01-24T20:18:30.010709Z",
     "iopub.status.busy": "2021-01-24T20:18:30.009738Z",
     "iopub.status.idle": "2021-01-24T20:18:30.013316Z",
     "shell.execute_reply": "2021-01-24T20:18:30.013822Z"
    },
    "papermill": {
     "duration": 0.024052,
     "end_time": "2021-01-24T20:18:30.013962",
     "exception": false,
     "start_time": "2021-01-24T20:18:29.989910",
     "status": "completed"
    },
    "tags": []
   },
   "outputs": [],
   "source": [
    "# Lines below will give you a hint or solution code\n",
    "#q2.hint()\n",
    "#q2.solution()"
   ]
  },
  {
   "cell_type": "markdown",
   "metadata": {
    "papermill": {
     "duration": 0.015604,
     "end_time": "2021-01-24T20:18:30.045712",
     "exception": false,
     "start_time": "2021-01-24T20:18:30.030108",
     "status": "completed"
    },
    "tags": []
   },
   "source": [
    "# 3) Saving your files with UTF-8 encoding\n",
    "\n",
    "Save a version of the police killings dataset to CSV with UTF-8 encoding.  Your answer will be marked correct after saving this file.  \n",
    "\n",
    "Note: When using the `to_csv()` method, supply only the name of the file (e.g., `\"my_file.csv\"`).  This saves the file at the filepath `\"/kaggle/working/my_file.csv\"`."
   ]
  },
  {
   "cell_type": "code",
   "execution_count": 9,
   "metadata": {
    "execution": {
     "iopub.execute_input": "2021-01-24T20:18:30.081540Z",
     "iopub.status.busy": "2021-01-24T20:18:30.080586Z",
     "iopub.status.idle": "2021-01-24T20:18:30.470176Z",
     "shell.execute_reply": "2021-01-24T20:18:30.470643Z"
    },
    "papermill": {
     "duration": 0.409098,
     "end_time": "2021-01-24T20:18:30.470786",
     "exception": false,
     "start_time": "2021-01-24T20:18:30.061688",
     "status": "completed"
    },
    "tags": []
   },
   "outputs": [
    {
     "data": {
      "application/javascript": [
       "parent.postMessage({\"jupyterEvent\": \"custom.exercise_interaction\", \"data\": {\"outcomeType\": 1, \"valueTowardsCompletion\": 0.3333333333333333, \"interactionType\": 1, \"questionType\": 2, \"questionId\": \"3_SaveCSV\", \"learnToolsVersion\": \"0.3.4\", \"failureMessage\": \"\", \"exceptionClass\": \"\", \"trace\": \"\"}}, \"*\")"
      ],
      "text/plain": [
       "<IPython.core.display.Javascript object>"
      ]
     },
     "metadata": {},
     "output_type": "display_data"
    },
    {
     "data": {
      "text/markdown": [
       "<span style=\"color:#33cc33\">Correct</span>"
      ],
      "text/plain": [
       "Correct"
      ]
     },
     "metadata": {},
     "output_type": "display_data"
    }
   ],
   "source": [
    "# TODO: Save the police killings dataset to CSV\n",
    "police_killings.to_csv('my_file.csv')\n",
    "\n",
    "# Check your answer\n",
    "q3.check()"
   ]
  },
  {
   "cell_type": "code",
   "execution_count": 10,
   "metadata": {
    "execution": {
     "iopub.execute_input": "2021-01-24T20:18:30.509633Z",
     "iopub.status.busy": "2021-01-24T20:18:30.508702Z",
     "iopub.status.idle": "2021-01-24T20:18:30.512027Z",
     "shell.execute_reply": "2021-01-24T20:18:30.512546Z"
    },
    "papermill": {
     "duration": 0.024558,
     "end_time": "2021-01-24T20:18:30.512718",
     "exception": false,
     "start_time": "2021-01-24T20:18:30.488160",
     "status": "completed"
    },
    "tags": []
   },
   "outputs": [],
   "source": [
    "# Lines below will give you a hint or solution code\n",
    "#q3.hint()\n",
    "#q3.solution()"
   ]
  },
  {
   "cell_type": "markdown",
   "metadata": {
    "papermill": {
     "duration": 0.017664,
     "end_time": "2021-01-24T20:18:30.549218",
     "exception": false,
     "start_time": "2021-01-24T20:18:30.531554",
     "status": "completed"
    },
    "tags": []
   },
   "source": [
    "# (Optional) More practice\n",
    "\n",
    "Check out [this dataset of files in different character encodings](https://www.kaggle.com/rtatman/character-encoding-examples). Can you read in all the files with their original encodings and them save them out as UTF-8 files?\n",
    "\n",
    "If you have a file that's in UTF-8 but has just a couple of weird-looking characters in it, you can try out the [ftfy module](https://ftfy.readthedocs.io/en/latest/#) and see if it helps. \n",
    "\n",
    "# Keep going\n",
    "\n",
    "In the final lesson, learn how to [**clean up inconsistent text entries**](https://www.kaggle.com/alexisbcook/inconsistent-data-entry) in your dataset."
   ]
  },
  {
   "cell_type": "markdown",
   "metadata": {
    "papermill": {
     "duration": 0.01709,
     "end_time": "2021-01-24T20:18:30.583800",
     "exception": false,
     "start_time": "2021-01-24T20:18:30.566710",
     "status": "completed"
    },
    "tags": []
   },
   "source": [
    "---\n",
    "\n",
    "\n",
    "\n",
    "\n",
    "*Have questions or comments? Visit the [Learn Discussion forum](https://www.kaggle.com/learn-forum/172650) to chat with other Learners.*"
   ]
  }
 ],
 "metadata": {
  "kernelspec": {
   "display_name": "Python 3",
   "language": "python",
   "name": "python3"
  },
  "language_info": {
   "codemirror_mode": {
    "name": "ipython",
    "version": 3
   },
   "file_extension": ".py",
   "mimetype": "text/x-python",
   "name": "python",
   "nbconvert_exporter": "python",
   "pygments_lexer": "ipython3",
   "version": "3.7.6"
  },
  "papermill": {
   "duration": 9.735405,
   "end_time": "2021-01-24T20:18:30.708917",
   "environment_variables": {},
   "exception": null,
   "input_path": "__notebook__.ipynb",
   "output_path": "__notebook__.ipynb",
   "parameters": {},
   "start_time": "2021-01-24T20:18:20.973512",
   "version": "2.1.0"
  }
 },
 "nbformat": 4,
 "nbformat_minor": 4
}
