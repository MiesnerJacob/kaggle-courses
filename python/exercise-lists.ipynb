{
 "cells": [
  {
   "cell_type": "markdown",
   "metadata": {
    "papermill": {
     "duration": 0.017764,
     "end_time": "2021-01-03T16:41:37.819147",
     "exception": false,
     "start_time": "2021-01-03T16:41:37.801383",
     "status": "completed"
    },
    "tags": []
   },
   "source": [
    "**This notebook is an exercise in the [Python](https://www.kaggle.com/learn/python) course.  You can reference the tutorial at [this link](https://www.kaggle.com/colinmorris/lists).**\n",
    "\n",
    "---\n"
   ]
  },
  {
   "cell_type": "markdown",
   "metadata": {
    "papermill": {
     "duration": 0.014411,
     "end_time": "2021-01-03T16:41:37.848483",
     "exception": false,
     "start_time": "2021-01-03T16:41:37.834072",
     "status": "completed"
    },
    "tags": []
   },
   "source": [
    "# Try It Yourself\n",
    "\n",
    "Things get more interesting with lists. See if you can solve the questions below. Remember to run the following cell first."
   ]
  },
  {
   "cell_type": "code",
   "execution_count": 1,
   "metadata": {
    "execution": {
     "iopub.execute_input": "2021-01-03T16:41:37.885221Z",
     "iopub.status.busy": "2021-01-03T16:41:37.884259Z",
     "iopub.status.idle": "2021-01-03T16:41:37.928476Z",
     "shell.execute_reply": "2021-01-03T16:41:37.929225Z"
    },
    "papermill": {
     "duration": 0.066016,
     "end_time": "2021-01-03T16:41:37.929416",
     "exception": false,
     "start_time": "2021-01-03T16:41:37.863400",
     "status": "completed"
    },
    "tags": []
   },
   "outputs": [
    {
     "name": "stdout",
     "output_type": "stream",
     "text": [
      "Setup complete.\n"
     ]
    }
   ],
   "source": [
    "from learntools.core import binder; binder.bind(globals())\n",
    "from learntools.python.ex4 import *\n",
    "print('Setup complete.')"
   ]
  },
  {
   "cell_type": "markdown",
   "metadata": {
    "papermill": {
     "duration": 0.015582,
     "end_time": "2021-01-03T16:41:37.961579",
     "exception": false,
     "start_time": "2021-01-03T16:41:37.945997",
     "status": "completed"
    },
    "tags": []
   },
   "source": [
    "# Exercises"
   ]
  },
  {
   "cell_type": "markdown",
   "metadata": {
    "papermill": {
     "duration": 0.015511,
     "end_time": "2021-01-03T16:41:37.992981",
     "exception": false,
     "start_time": "2021-01-03T16:41:37.977470",
     "status": "completed"
    },
    "tags": []
   },
   "source": [
    "## 1.\n",
    "\n",
    "Complete the function below according to its docstring."
   ]
  },
  {
   "cell_type": "code",
   "execution_count": 2,
   "metadata": {
    "execution": {
     "iopub.execute_input": "2021-01-03T16:41:38.034538Z",
     "iopub.status.busy": "2021-01-03T16:41:38.033546Z",
     "iopub.status.idle": "2021-01-03T16:41:38.040185Z",
     "shell.execute_reply": "2021-01-03T16:41:38.039443Z"
    },
    "papermill": {
     "duration": 0.03147,
     "end_time": "2021-01-03T16:41:38.040376",
     "exception": false,
     "start_time": "2021-01-03T16:41:38.008906",
     "status": "completed"
    },
    "tags": []
   },
   "outputs": [
    {
     "data": {
      "application/javascript": [
       "parent.postMessage({\"jupyterEvent\": \"custom.exercise_interaction\", \"data\": {\"outcomeType\": 1, \"valueTowardsCompletion\": 0.2, \"interactionType\": 1, \"questionType\": 2, \"questionId\": \"1_SelectSecondItem\", \"learnToolsVersion\": \"0.3.4\", \"failureMessage\": \"\", \"exceptionClass\": \"\", \"trace\": \"\"}}, \"*\")"
      ],
      "text/plain": [
       "<IPython.core.display.Javascript object>"
      ]
     },
     "metadata": {},
     "output_type": "display_data"
    },
    {
     "data": {
      "text/markdown": [
       "<span style=\"color:#33cc33\">Correct</span>"
      ],
      "text/plain": [
       "Correct"
      ]
     },
     "metadata": {},
     "output_type": "display_data"
    }
   ],
   "source": [
    "def select_second(L):\n",
    "    \"\"\"Return the second element of the given list. If the list has no second\n",
    "    element, return None.\n",
    "    \"\"\"\n",
    "    try:\n",
    "        return L[1]\n",
    "    except:\n",
    "        pass\n",
    "\n",
    "# Check your answer\n",
    "q1.check()"
   ]
  },
  {
   "cell_type": "code",
   "execution_count": 3,
   "metadata": {
    "execution": {
     "iopub.execute_input": "2021-01-03T16:41:38.080084Z",
     "iopub.status.busy": "2021-01-03T16:41:38.079312Z",
     "iopub.status.idle": "2021-01-03T16:41:38.082594Z",
     "shell.execute_reply": "2021-01-03T16:41:38.081810Z"
    },
    "papermill": {
     "duration": 0.024871,
     "end_time": "2021-01-03T16:41:38.082766",
     "exception": false,
     "start_time": "2021-01-03T16:41:38.057895",
     "status": "completed"
    },
    "tags": []
   },
   "outputs": [],
   "source": [
    "#q1.hint()\n",
    "#q1.solution()"
   ]
  },
  {
   "cell_type": "markdown",
   "metadata": {
    "papermill": {
     "duration": 0.01734,
     "end_time": "2021-01-03T16:41:38.118123",
     "exception": false,
     "start_time": "2021-01-03T16:41:38.100783",
     "status": "completed"
    },
    "tags": []
   },
   "source": [
    "## 2.\n",
    "\n",
    "You are analyzing sports teams.  Members of each team are stored in a list. The Coach is the first name in the list, the captain is the second name in the list, and other players are listed after that. \n",
    "These lists are stored in another list, which starts with the best team and proceeds through the list to the worst team last.  Complete the function below to select the **captain** of the worst team."
   ]
  },
  {
   "cell_type": "code",
   "execution_count": 4,
   "metadata": {
    "execution": {
     "iopub.execute_input": "2021-01-03T16:41:38.160899Z",
     "iopub.status.busy": "2021-01-03T16:41:38.160020Z",
     "iopub.status.idle": "2021-01-03T16:41:38.167355Z",
     "shell.execute_reply": "2021-01-03T16:41:38.166709Z"
    },
    "papermill": {
     "duration": 0.031274,
     "end_time": "2021-01-03T16:41:38.167481",
     "exception": false,
     "start_time": "2021-01-03T16:41:38.136207",
     "status": "completed"
    },
    "tags": []
   },
   "outputs": [
    {
     "data": {
      "application/javascript": [
       "parent.postMessage({\"jupyterEvent\": \"custom.exercise_interaction\", \"data\": {\"outcomeType\": 1, \"valueTowardsCompletion\": 0.2, \"interactionType\": 1, \"questionType\": 2, \"questionId\": \"2_LosingTeamCaptain\", \"learnToolsVersion\": \"0.3.4\", \"failureMessage\": \"\", \"exceptionClass\": \"\", \"trace\": \"\"}}, \"*\")"
      ],
      "text/plain": [
       "<IPython.core.display.Javascript object>"
      ]
     },
     "metadata": {},
     "output_type": "display_data"
    },
    {
     "data": {
      "text/markdown": [
       "<span style=\"color:#33cc33\">Correct</span>"
      ],
      "text/plain": [
       "Correct"
      ]
     },
     "metadata": {},
     "output_type": "display_data"
    }
   ],
   "source": [
    "def losing_team_captain(teams):\n",
    "    \"\"\"Given a list of teams, where each team is a list of names, return the 2nd player (captain)\n",
    "    from the last listed team\n",
    "    \"\"\"\n",
    "    return teams[-1][1]\n",
    "\n",
    "# Check your answer\n",
    "q2.check()"
   ]
  },
  {
   "cell_type": "code",
   "execution_count": 5,
   "metadata": {
    "execution": {
     "iopub.execute_input": "2021-01-03T16:41:38.211228Z",
     "iopub.status.busy": "2021-01-03T16:41:38.210135Z",
     "iopub.status.idle": "2021-01-03T16:41:38.213525Z",
     "shell.execute_reply": "2021-01-03T16:41:38.212835Z"
    },
    "papermill": {
     "duration": 0.026767,
     "end_time": "2021-01-03T16:41:38.213664",
     "exception": false,
     "start_time": "2021-01-03T16:41:38.186897",
     "status": "completed"
    },
    "tags": []
   },
   "outputs": [],
   "source": [
    "#q2.hint()\n",
    "#q2.solution()"
   ]
  },
  {
   "cell_type": "markdown",
   "metadata": {
    "papermill": {
     "duration": 0.018464,
     "end_time": "2021-01-03T16:41:38.250933",
     "exception": false,
     "start_time": "2021-01-03T16:41:38.232469",
     "status": "completed"
    },
    "tags": []
   },
   "source": [
    "## 3.\n",
    "\n",
    "The next iteration of Mario Kart will feature an extra-infuriating new item, the *Purple Shell*. When used, it warps the last place racer into first place and the first place racer into last place. Complete the function below to implement the Purple Shell's effect."
   ]
  },
  {
   "cell_type": "code",
   "execution_count": 6,
   "metadata": {
    "execution": {
     "iopub.execute_input": "2021-01-03T16:41:38.296013Z",
     "iopub.status.busy": "2021-01-03T16:41:38.294978Z",
     "iopub.status.idle": "2021-01-03T16:41:38.300870Z",
     "shell.execute_reply": "2021-01-03T16:41:38.300201Z"
    },
    "papermill": {
     "duration": 0.031287,
     "end_time": "2021-01-03T16:41:38.300995",
     "exception": false,
     "start_time": "2021-01-03T16:41:38.269708",
     "status": "completed"
    },
    "tags": []
   },
   "outputs": [
    {
     "data": {
      "application/javascript": [
       "parent.postMessage({\"jupyterEvent\": \"custom.exercise_interaction\", \"data\": {\"outcomeType\": 1, \"valueTowardsCompletion\": 0.2, \"interactionType\": 1, \"questionType\": 2, \"questionId\": \"3_PurpleShell\", \"learnToolsVersion\": \"0.3.4\", \"failureMessage\": \"\", \"exceptionClass\": \"\", \"trace\": \"\"}}, \"*\")"
      ],
      "text/plain": [
       "<IPython.core.display.Javascript object>"
      ]
     },
     "metadata": {},
     "output_type": "display_data"
    },
    {
     "data": {
      "text/markdown": [
       "<span style=\"color:#33cc33\">Correct</span>"
      ],
      "text/plain": [
       "Correct"
      ]
     },
     "metadata": {},
     "output_type": "display_data"
    }
   ],
   "source": [
    "def purple_shell(racers):\n",
    "    \"\"\"Given a list of racers, set the first place racer (at the front of the list) to last\n",
    "    place and vice versa.\n",
    "    \n",
    "    >>> r = [\"Mario\", \"Bowser\", \"Luigi\"]\n",
    "    >>> purple_shell(r)\n",
    "    >>> r\n",
    "    [\"Luigi\", \"Bowser\", \"Mario\"]\n",
    "    \"\"\"\n",
    "    racers[0], racers[-1] = racers[-1], racers[0]\n",
    "\n",
    "# Check your answer\n",
    "q3.check()"
   ]
  },
  {
   "cell_type": "code",
   "execution_count": 7,
   "metadata": {
    "execution": {
     "iopub.execute_input": "2021-01-03T16:41:38.346808Z",
     "iopub.status.busy": "2021-01-03T16:41:38.345796Z",
     "iopub.status.idle": "2021-01-03T16:41:38.349199Z",
     "shell.execute_reply": "2021-01-03T16:41:38.348457Z"
    },
    "papermill": {
     "duration": 0.028021,
     "end_time": "2021-01-03T16:41:38.349320",
     "exception": false,
     "start_time": "2021-01-03T16:41:38.321299",
     "status": "completed"
    },
    "tags": []
   },
   "outputs": [],
   "source": [
    "#q3.hint()\n",
    "#q3.solution()"
   ]
  },
  {
   "cell_type": "markdown",
   "metadata": {
    "papermill": {
     "duration": 0.020561,
     "end_time": "2021-01-03T16:41:38.390629",
     "exception": false,
     "start_time": "2021-01-03T16:41:38.370068",
     "status": "completed"
    },
    "tags": []
   },
   "source": [
    "## 4.\n",
    "\n",
    "What are the lengths of the following lists? Fill in the variable `lengths` with your predictions. (Try to make a prediction for each list *without* just calling `len()` on it.)"
   ]
  },
  {
   "cell_type": "code",
   "execution_count": 8,
   "metadata": {
    "execution": {
     "iopub.execute_input": "2021-01-03T16:41:38.440161Z",
     "iopub.status.busy": "2021-01-03T16:41:38.439359Z",
     "iopub.status.idle": "2021-01-03T16:41:38.446239Z",
     "shell.execute_reply": "2021-01-03T16:41:38.445500Z"
    },
    "papermill": {
     "duration": 0.034994,
     "end_time": "2021-01-03T16:41:38.446377",
     "exception": false,
     "start_time": "2021-01-03T16:41:38.411383",
     "status": "completed"
    },
    "tags": []
   },
   "outputs": [
    {
     "data": {
      "application/javascript": [
       "parent.postMessage({\"jupyterEvent\": \"custom.exercise_interaction\", \"data\": {\"outcomeType\": 1, \"valueTowardsCompletion\": 0.2, \"interactionType\": 1, \"questionType\": 1, \"questionId\": \"4_UnderstandLen\", \"learnToolsVersion\": \"0.3.4\", \"failureMessage\": \"\", \"exceptionClass\": \"\", \"trace\": \"\"}}, \"*\")"
      ],
      "text/plain": [
       "<IPython.core.display.Javascript object>"
      ]
     },
     "metadata": {},
     "output_type": "display_data"
    },
    {
     "data": {
      "text/markdown": [
       "<span style=\"color:#33cc33\">Correct:</span> \n",
       "\n",
       "\n",
       "- a: There are three items in this list. Nothing tricky yet.\n",
       "- b: The list `[2, 3]` counts as a single item. It has one item before it. So we have 2 items in the list\n",
       "- c: The empty list has 0 items\n",
       "- d: The expression is the same as the list `[2, 3]`, which has length 2."
      ],
      "text/plain": [
       "Correct: \n",
       "\n",
       "\n",
       "- a: There are three items in this list. Nothing tricky yet.\n",
       "- b: The list `[2, 3]` counts as a single item. It has one item before it. So we have 2 items in the list\n",
       "- c: The empty list has 0 items\n",
       "- d: The expression is the same as the list `[2, 3]`, which has length 2."
      ]
     },
     "metadata": {},
     "output_type": "display_data"
    }
   ],
   "source": [
    "a = [1, 2, 3]\n",
    "b = [1, [2, 3]]\n",
    "c = []\n",
    "d = [1, 2, 3][1:]\n",
    "\n",
    "# Put your predictions in the list below. Lengths should contain 4 numbers, the\n",
    "# first being the length of a, the second being the length of b and so on.\n",
    "lengths = [3,2,0,2]\n",
    "\n",
    "# Check your answer\n",
    "q4.check()"
   ]
  },
  {
   "cell_type": "code",
   "execution_count": 9,
   "metadata": {
    "execution": {
     "iopub.execute_input": "2021-01-03T16:41:38.496839Z",
     "iopub.status.busy": "2021-01-03T16:41:38.495775Z",
     "iopub.status.idle": "2021-01-03T16:41:38.499603Z",
     "shell.execute_reply": "2021-01-03T16:41:38.499007Z"
    },
    "papermill": {
     "duration": 0.030899,
     "end_time": "2021-01-03T16:41:38.499745",
     "exception": false,
     "start_time": "2021-01-03T16:41:38.468846",
     "status": "completed"
    },
    "tags": []
   },
   "outputs": [],
   "source": [
    "# line below provides some explanation\n",
    "#q4.solution()"
   ]
  },
  {
   "cell_type": "markdown",
   "metadata": {
    "papermill": {
     "duration": 0.021654,
     "end_time": "2021-01-03T16:41:38.544184",
     "exception": false,
     "start_time": "2021-01-03T16:41:38.522530",
     "status": "completed"
    },
    "tags": []
   },
   "source": [
    "## 5. <span title=\"A bit spicy\" style=\"color: darkgreen \">🌶️</span>\n",
    "\n",
    "We're using lists to record people who attended our party and what order they arrived in. For example, the following list represents a party with 7 guests, in which Adela showed up first and Ford was the last to arrive:\n",
    "\n",
    "    party_attendees = ['Adela', 'Fleda', 'Owen', 'May', 'Mona', 'Gilbert', 'Ford']\n",
    "\n",
    "A guest is considered 'fashionably late' if they arrived after at least half of the party's guests. However, they must not be the very last guest (that's taking it too far). In the above example, Mona and Gilbert are the only guests who were fashionably late.\n",
    "\n",
    "Complete the function below which takes a list of party attendees as well as a person, and tells us whether that person is fashionably late."
   ]
  },
  {
   "cell_type": "code",
   "execution_count": 10,
   "metadata": {
    "execution": {
     "iopub.execute_input": "2021-01-03T16:41:38.597020Z",
     "iopub.status.busy": "2021-01-03T16:41:38.596020Z",
     "iopub.status.idle": "2021-01-03T16:41:38.602310Z",
     "shell.execute_reply": "2021-01-03T16:41:38.602858Z"
    },
    "papermill": {
     "duration": 0.036869,
     "end_time": "2021-01-03T16:41:38.603020",
     "exception": false,
     "start_time": "2021-01-03T16:41:38.566151",
     "status": "completed"
    },
    "tags": []
   },
   "outputs": [
    {
     "data": {
      "application/javascript": [
       "parent.postMessage({\"jupyterEvent\": \"custom.exercise_interaction\", \"data\": {\"outcomeType\": 1, \"valueTowardsCompletion\": 0.2, \"interactionType\": 1, \"questionType\": 2, \"questionId\": \"5_FashionablyLate\", \"learnToolsVersion\": \"0.3.4\", \"failureMessage\": \"\", \"exceptionClass\": \"\", \"trace\": \"\"}}, \"*\")"
      ],
      "text/plain": [
       "<IPython.core.display.Javascript object>"
      ]
     },
     "metadata": {},
     "output_type": "display_data"
    },
    {
     "data": {
      "text/markdown": [
       "<span style=\"color:#33cc33\">Correct</span>"
      ],
      "text/plain": [
       "Correct"
      ]
     },
     "metadata": {},
     "output_type": "display_data"
    }
   ],
   "source": [
    "def fashionably_late(arrivals, name):\n",
    "    \"\"\"Given an ordered list of arrivals to the party and a name, return whether the guest with that\n",
    "    name was fashionably late.\n",
    "    \"\"\"\n",
    "    index = arrivals.index(name)\n",
    "    num_attendees = len(arrivals)\n",
    "    if index >= (num_attendees/2) and (index != num_attendees - 1):\n",
    "        return True\n",
    "    else:\n",
    "        return False\n",
    "\n",
    "# Check your answer\n",
    "q5.check()"
   ]
  },
  {
   "cell_type": "code",
   "execution_count": 11,
   "metadata": {
    "execution": {
     "iopub.execute_input": "2021-01-03T16:41:38.655075Z",
     "iopub.status.busy": "2021-01-03T16:41:38.654016Z",
     "iopub.status.idle": "2021-01-03T16:41:38.656877Z",
     "shell.execute_reply": "2021-01-03T16:41:38.657419Z"
    },
    "papermill": {
     "duration": 0.031152,
     "end_time": "2021-01-03T16:41:38.657590",
     "exception": false,
     "start_time": "2021-01-03T16:41:38.626438",
     "status": "completed"
    },
    "tags": []
   },
   "outputs": [],
   "source": [
    "#q5.hint()\n",
    "#q5.solution()"
   ]
  },
  {
   "cell_type": "markdown",
   "metadata": {
    "papermill": {
     "duration": 0.023629,
     "end_time": "2021-01-03T16:41:38.705106",
     "exception": false,
     "start_time": "2021-01-03T16:41:38.681477",
     "status": "completed"
    },
    "tags": []
   },
   "source": [
    "# Keep Going\n",
    "\n",
    "That's it for lists and tuples! Now you have the baseline knowledge to **[learn about loops](https://www.kaggle.com/colinmorris/loops-and-list-comprehensions)**, which is where lists and tuples get really interesting. "
   ]
  },
  {
   "cell_type": "markdown",
   "metadata": {
    "papermill": {
     "duration": 0.023273,
     "end_time": "2021-01-03T16:41:38.752324",
     "exception": false,
     "start_time": "2021-01-03T16:41:38.729051",
     "status": "completed"
    },
    "tags": []
   },
   "source": [
    "---\n",
    "\n",
    "\n",
    "\n",
    "\n",
    "*Have questions or comments? Visit the [Learn Discussion forum](https://www.kaggle.com/learn-forum/161283) to chat with other Learners.*"
   ]
  }
 ],
 "metadata": {
  "kernelspec": {
   "display_name": "Python 3",
   "language": "python",
   "name": "python3"
  },
  "language_info": {
   "codemirror_mode": {
    "name": "ipython",
    "version": 3
   },
   "file_extension": ".py",
   "mimetype": "text/x-python",
   "name": "python",
   "nbconvert_exporter": "python",
   "pygments_lexer": "ipython3",
   "version": "3.7.6"
  },
  "papermill": {
   "duration": 6.528323,
   "end_time": "2021-01-03T16:41:38.883861",
   "environment_variables": {},
   "exception": null,
   "input_path": "__notebook__.ipynb",
   "output_path": "__notebook__.ipynb",
   "parameters": {},
   "start_time": "2021-01-03T16:41:32.355538",
   "version": "2.1.0"
  }
 },
 "nbformat": 4,
 "nbformat_minor": 4
}
