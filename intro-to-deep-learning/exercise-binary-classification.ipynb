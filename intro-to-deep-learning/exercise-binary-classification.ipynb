{
 "cells": [
  {
   "cell_type": "markdown",
   "metadata": {
    "papermill": {
     "duration": 0.010919,
     "end_time": "2021-01-10T21:27:22.439959",
     "exception": false,
     "start_time": "2021-01-10T21:27:22.429040",
     "status": "completed"
    },
    "tags": []
   },
   "source": [
    "**This notebook is an exercise in the [Intro to Deep Learning](https://www.kaggle.com/learn/intro-to-deep-learning) course.  You can reference the tutorial at [this link](https://www.kaggle.com/ryanholbrook/binary-classification).**\n",
    "\n",
    "---\n"
   ]
  },
  {
   "cell_type": "markdown",
   "metadata": {
    "papermill": {
     "duration": 0.009413,
     "end_time": "2021-01-10T21:27:22.459087",
     "exception": false,
     "start_time": "2021-01-10T21:27:22.449674",
     "status": "completed"
    },
    "tags": []
   },
   "source": [
    "# Introduction #\n",
    "\n",
    "In this exercise, you'll build a model to predict hotel cancellations with a binary classifier."
   ]
  },
  {
   "cell_type": "code",
   "execution_count": 1,
   "metadata": {
    "execution": {
     "iopub.execute_input": "2021-01-10T21:27:22.487805Z",
     "iopub.status.busy": "2021-01-10T21:27:22.487118Z",
     "iopub.status.idle": "2021-01-10T21:27:22.531900Z",
     "shell.execute_reply": "2021-01-10T21:27:22.531314Z"
    },
    "lines_to_next_cell": 0,
    "papermill": {
     "duration": 0.063201,
     "end_time": "2021-01-10T21:27:22.532029",
     "exception": false,
     "start_time": "2021-01-10T21:27:22.468828",
     "status": "completed"
    },
    "tags": []
   },
   "outputs": [],
   "source": [
    "# Setup plotting\n",
    "import matplotlib.pyplot as plt\n",
    "plt.style.use('seaborn-whitegrid')\n",
    "# Set Matplotlib defaults\n",
    "plt.rc('figure', autolayout=True)\n",
    "plt.rc('axes', labelweight='bold', labelsize='large',\n",
    "       titleweight='bold', titlesize=18, titlepad=10)\n",
    "plt.rc('animation', html='html5')\n",
    "\n",
    "# Setup feedback system\n",
    "from learntools.core import binder\n",
    "binder.bind(globals())\n",
    "from learntools.deep_learning_intro.ex6 import *"
   ]
  },
  {
   "cell_type": "markdown",
   "metadata": {
    "papermill": {
     "duration": 0.009817,
     "end_time": "2021-01-10T21:27:22.552182",
     "exception": false,
     "start_time": "2021-01-10T21:27:22.542365",
     "status": "completed"
    },
    "tags": []
   },
   "source": [
    "First, load the *Hotel Cancellations* dataset."
   ]
  },
  {
   "cell_type": "code",
   "execution_count": 2,
   "metadata": {
    "execution": {
     "iopub.execute_input": "2021-01-10T21:27:22.585018Z",
     "iopub.status.busy": "2021-01-10T21:27:22.584392Z",
     "iopub.status.idle": "2021-01-10T21:27:25.400434Z",
     "shell.execute_reply": "2021-01-10T21:27:25.398972Z"
    },
    "lines_to_next_cell": 2,
    "papermill": {
     "duration": 2.838739,
     "end_time": "2021-01-10T21:27:25.400591",
     "exception": false,
     "start_time": "2021-01-10T21:27:22.561852",
     "status": "completed"
    },
    "tags": []
   },
   "outputs": [],
   "source": [
    "import pandas as pd\n",
    "\n",
    "from sklearn.model_selection import train_test_split\n",
    "from sklearn.preprocessing import StandardScaler, OneHotEncoder\n",
    "from sklearn.impute import SimpleImputer\n",
    "from sklearn.pipeline import make_pipeline\n",
    "from sklearn.compose import make_column_transformer\n",
    "\n",
    "hotel = pd.read_csv('../input/dl-course-data/hotel.csv')\n",
    "\n",
    "X = hotel.copy()\n",
    "y = X.pop('is_canceled')\n",
    "\n",
    "X['arrival_date_month'] = \\\n",
    "    X['arrival_date_month'].map(\n",
    "        {'January':1, 'February': 2, 'March':3,\n",
    "         'April':4, 'May':5, 'June':6, 'July':7,\n",
    "         'August':8, 'September':9, 'October':10,\n",
    "         'November':11, 'December':12}\n",
    "    )\n",
    "\n",
    "features_num = [\n",
    "    \"lead_time\", \"arrival_date_week_number\",\n",
    "    \"arrival_date_day_of_month\", \"stays_in_weekend_nights\",\n",
    "    \"stays_in_week_nights\", \"adults\", \"children\", \"babies\",\n",
    "    \"is_repeated_guest\", \"previous_cancellations\",\n",
    "    \"previous_bookings_not_canceled\", \"required_car_parking_spaces\",\n",
    "    \"total_of_special_requests\", \"adr\",\n",
    "]\n",
    "features_cat = [\n",
    "    \"hotel\", \"arrival_date_month\", \"meal\",\n",
    "    \"market_segment\", \"distribution_channel\",\n",
    "    \"reserved_room_type\", \"deposit_type\", \"customer_type\",\n",
    "]\n",
    "\n",
    "transformer_num = make_pipeline(\n",
    "    SimpleImputer(strategy=\"constant\"), # there are a few missing values\n",
    "    StandardScaler(),\n",
    ")\n",
    "transformer_cat = make_pipeline(\n",
    "    SimpleImputer(strategy=\"constant\", fill_value=\"NA\"),\n",
    "    OneHotEncoder(handle_unknown='ignore'),\n",
    ")\n",
    "\n",
    "preprocessor = make_column_transformer(\n",
    "    (transformer_num, features_num),\n",
    "    (transformer_cat, features_cat),\n",
    ")\n",
    "\n",
    "# stratify - make sure classes are evenlly represented across splits\n",
    "X_train, X_valid, y_train, y_valid = \\\n",
    "    train_test_split(X, y, stratify=y, train_size=0.75)\n",
    "\n",
    "X_train = preprocessor.fit_transform(X_train)\n",
    "X_valid = preprocessor.transform(X_valid)\n",
    "\n",
    "input_shape = [X_train.shape[1]]"
   ]
  },
  {
   "cell_type": "markdown",
   "metadata": {
    "papermill": {
     "duration": 0.009861,
     "end_time": "2021-01-10T21:27:25.420591",
     "exception": false,
     "start_time": "2021-01-10T21:27:25.410730",
     "status": "completed"
    },
    "tags": []
   },
   "source": [
    "# 1) Define Model #\n",
    "\n",
    "The model we'll use this time will have both batch normalization and dropout layers. To ease reading we've broken the diagram into blocks, but you can define it layer by layer as usual.\n",
    "\n",
    "Define a model with an architecture given by this diagram:\n",
    "\n",
    "<figure style=\"padding: 1em;\">\n",
    "<img src=\"https://i.imgur.com/V04o59Z.png\" width=\"400\" alt=\"Diagram of network architecture: BatchNorm, Dense, BatchNorm, Dropout, Dense, BatchNorm, Dropout, Dense.\">\n",
    "<figcaption style=\"textalign: center; font-style: italic\"><center>Diagram of a binary classifier.</center></figcaption>\n",
    "</figure>\n"
   ]
  },
  {
   "cell_type": "code",
   "execution_count": 3,
   "metadata": {
    "execution": {
     "iopub.execute_input": "2021-01-10T21:27:25.447999Z",
     "iopub.status.busy": "2021-01-10T21:27:25.447407Z",
     "iopub.status.idle": "2021-01-10T21:27:34.149796Z",
     "shell.execute_reply": "2021-01-10T21:27:34.150883Z"
    },
    "lines_to_next_cell": 2,
    "papermill": {
     "duration": 8.720492,
     "end_time": "2021-01-10T21:27:34.151066",
     "exception": false,
     "start_time": "2021-01-10T21:27:25.430574",
     "status": "completed"
    },
    "tags": []
   },
   "outputs": [
    {
     "data": {
      "application/javascript": [
       "parent.postMessage({\"jupyterEvent\": \"custom.exercise_interaction\", \"data\": {\"outcomeType\": 1, \"valueTowardsCompletion\": 0.3333333333333333, \"interactionType\": 1, \"questionType\": 2, \"questionId\": \"1_Q1\", \"learnToolsVersion\": \"0.3.4\", \"failureMessage\": \"\", \"exceptionClass\": \"\", \"trace\": \"\"}}, \"*\")"
      ],
      "text/plain": [
       "<IPython.core.display.Javascript object>"
      ]
     },
     "metadata": {},
     "output_type": "display_data"
    },
    {
     "data": {
      "text/markdown": [
       "<span style=\"color:#33cc33\">Correct</span>"
      ],
      "text/plain": [
       "Correct"
      ]
     },
     "metadata": {},
     "output_type": "display_data"
    }
   ],
   "source": [
    "from tensorflow import keras\n",
    "from tensorflow.keras import layers\n",
    "\n",
    "# YOUR CODE HERE: define the model given in the diagram\n",
    "model = keras.Sequential([\n",
    "    layers.BatchNormalization(input_shape=input_shape),\n",
    "    layers.Dense(256, activation='relu'),\n",
    "    layers.BatchNormalization(),\n",
    "    layers.Dropout(0.3),\n",
    "    layers.Dense(256, activation='relu'),\n",
    "    layers.BatchNormalization(),\n",
    "    layers.Dropout(0.3),\n",
    "    layers.Dense(1, activation='sigmoid')\n",
    "])\n",
    "\n",
    "# Check your answer\n",
    "q_1.check()"
   ]
  },
  {
   "cell_type": "markdown",
   "metadata": {
    "papermill": {
     "duration": 0.016906,
     "end_time": "2021-01-10T21:27:34.190378",
     "exception": false,
     "start_time": "2021-01-10T21:27:34.173472",
     "status": "completed"
    },
    "tags": []
   },
   "source": [
    "# 2) Add Optimizer, Loss, and Metric #\n",
    "\n",
    "Now compile the model with the Adam optimizer and binary versions of the cross-entropy loss and accuracy metric."
   ]
  },
  {
   "cell_type": "code",
   "execution_count": 4,
   "metadata": {
    "execution": {
     "iopub.execute_input": "2021-01-10T21:27:34.247750Z",
     "iopub.status.busy": "2021-01-10T21:27:34.246821Z",
     "iopub.status.idle": "2021-01-10T21:27:34.263022Z",
     "shell.execute_reply": "2021-01-10T21:27:34.264149Z"
    },
    "lines_to_next_cell": 0,
    "papermill": {
     "duration": 0.049725,
     "end_time": "2021-01-10T21:27:34.264342",
     "exception": false,
     "start_time": "2021-01-10T21:27:34.214617",
     "status": "completed"
    },
    "tags": []
   },
   "outputs": [
    {
     "data": {
      "application/javascript": [
       "parent.postMessage({\"jupyterEvent\": \"custom.exercise_interaction\", \"data\": {\"outcomeType\": 1, \"valueTowardsCompletion\": 0.3333333333333333, \"interactionType\": 1, \"questionType\": 2, \"questionId\": \"2_Q2\", \"learnToolsVersion\": \"0.3.4\", \"failureMessage\": \"\", \"exceptionClass\": \"\", \"trace\": \"\"}}, \"*\")"
      ],
      "text/plain": [
       "<IPython.core.display.Javascript object>"
      ]
     },
     "metadata": {},
     "output_type": "display_data"
    },
    {
     "data": {
      "text/markdown": [
       "<span style=\"color:#33cc33\">Correct</span>"
      ],
      "text/plain": [
       "Correct"
      ]
     },
     "metadata": {},
     "output_type": "display_data"
    }
   ],
   "source": [
    "# YOUR CODE HERE\n",
    "model.compile(loss='binary_crossentropy', optimizer='adam', metrics=['binary_accuracy'])\n",
    "\n",
    "# Check your answer\n",
    "q_2.check()"
   ]
  },
  {
   "cell_type": "code",
   "execution_count": 5,
   "metadata": {
    "execution": {
     "iopub.execute_input": "2021-01-10T21:27:34.307102Z",
     "iopub.status.busy": "2021-01-10T21:27:34.306262Z",
     "iopub.status.idle": "2021-01-10T21:27:34.309593Z",
     "shell.execute_reply": "2021-01-10T21:27:34.307800Z"
    },
    "lines_to_next_cell": 0,
    "papermill": {
     "duration": 0.026956,
     "end_time": "2021-01-10T21:27:34.309713",
     "exception": false,
     "start_time": "2021-01-10T21:27:34.282757",
     "status": "completed"
    },
    "tags": []
   },
   "outputs": [],
   "source": [
    "# Lines below will give you a hint or solution code\n",
    "#q_2.hint()\n",
    "#q_2.solution()"
   ]
  },
  {
   "cell_type": "markdown",
   "metadata": {
    "papermill": {
     "duration": 0.018166,
     "end_time": "2021-01-10T21:27:34.345537",
     "exception": false,
     "start_time": "2021-01-10T21:27:34.327371",
     "status": "completed"
    },
    "tags": []
   },
   "source": [
    "Finally, run this cell to train the model and view the learning curves. It may run for around 60 to 70 epochs, which could take a minute or two."
   ]
  },
  {
   "cell_type": "code",
   "execution_count": 6,
   "metadata": {
    "execution": {
     "iopub.execute_input": "2021-01-10T21:27:34.391386Z",
     "iopub.status.busy": "2021-01-10T21:27:34.390534Z",
     "iopub.status.idle": "2021-01-10T21:28:13.921550Z",
     "shell.execute_reply": "2021-01-10T21:28:13.920891Z"
    },
    "papermill": {
     "duration": 39.558228,
     "end_time": "2021-01-10T21:28:13.921698",
     "exception": false,
     "start_time": "2021-01-10T21:27:34.363470",
     "status": "completed"
    },
    "tags": []
   },
   "outputs": [
    {
     "name": "stdout",
     "output_type": "stream",
     "text": [
      "Epoch 1/200\n",
      "175/175 [==============================] - 1s 6ms/step - loss: 0.4816 - binary_accuracy: 0.7715 - val_loss: 0.4308 - val_binary_accuracy: 0.7977\n",
      "Epoch 2/200\n",
      "175/175 [==============================] - 1s 8ms/step - loss: 0.4231 - binary_accuracy: 0.8022 - val_loss: 0.4039 - val_binary_accuracy: 0.8120\n",
      "Epoch 3/200\n",
      "175/175 [==============================] - 1s 5ms/step - loss: 0.4110 - binary_accuracy: 0.8078 - val_loss: 0.3972 - val_binary_accuracy: 0.8160\n",
      "Epoch 4/200\n",
      "175/175 [==============================] - 1s 4ms/step - loss: 0.4026 - binary_accuracy: 0.8135 - val_loss: 0.3914 - val_binary_accuracy: 0.8185\n",
      "Epoch 5/200\n",
      "175/175 [==============================] - 1s 5ms/step - loss: 0.3959 - binary_accuracy: 0.8149 - val_loss: 0.3885 - val_binary_accuracy: 0.8196\n",
      "Epoch 6/200\n",
      "175/175 [==============================] - 1s 5ms/step - loss: 0.3929 - binary_accuracy: 0.8164 - val_loss: 0.3838 - val_binary_accuracy: 0.8232\n",
      "Epoch 7/200\n",
      "175/175 [==============================] - 1s 4ms/step - loss: 0.3879 - binary_accuracy: 0.8191 - val_loss: 0.3821 - val_binary_accuracy: 0.8211\n",
      "Epoch 8/200\n",
      "175/175 [==============================] - 1s 5ms/step - loss: 0.3843 - binary_accuracy: 0.8208 - val_loss: 0.3784 - val_binary_accuracy: 0.8269\n",
      "Epoch 9/200\n",
      "175/175 [==============================] - 1s 5ms/step - loss: 0.3813 - binary_accuracy: 0.8233 - val_loss: 0.3752 - val_binary_accuracy: 0.8262\n",
      "Epoch 10/200\n",
      "175/175 [==============================] - 1s 5ms/step - loss: 0.3769 - binary_accuracy: 0.8253 - val_loss: 0.3736 - val_binary_accuracy: 0.8283\n",
      "Epoch 11/200\n",
      "175/175 [==============================] - 1s 4ms/step - loss: 0.3762 - binary_accuracy: 0.8248 - val_loss: 0.3697 - val_binary_accuracy: 0.8305\n",
      "Epoch 12/200\n",
      "175/175 [==============================] - 1s 4ms/step - loss: 0.3729 - binary_accuracy: 0.8267 - val_loss: 0.3689 - val_binary_accuracy: 0.8298\n",
      "Epoch 13/200\n",
      "175/175 [==============================] - 1s 4ms/step - loss: 0.3708 - binary_accuracy: 0.8294 - val_loss: 0.3665 - val_binary_accuracy: 0.8315\n",
      "Epoch 14/200\n",
      "175/175 [==============================] - 1s 6ms/step - loss: 0.3689 - binary_accuracy: 0.8303 - val_loss: 0.3651 - val_binary_accuracy: 0.8314\n",
      "Epoch 15/200\n",
      "175/175 [==============================] - 1s 5ms/step - loss: 0.3668 - binary_accuracy: 0.8308 - val_loss: 0.3648 - val_binary_accuracy: 0.8329\n",
      "Epoch 16/200\n",
      "175/175 [==============================] - 1s 4ms/step - loss: 0.3643 - binary_accuracy: 0.8315 - val_loss: 0.3613 - val_binary_accuracy: 0.8314\n",
      "Epoch 17/200\n",
      "175/175 [==============================] - 1s 4ms/step - loss: 0.3633 - binary_accuracy: 0.8325 - val_loss: 0.3622 - val_binary_accuracy: 0.8328\n",
      "Epoch 18/200\n",
      "175/175 [==============================] - 1s 4ms/step - loss: 0.3622 - binary_accuracy: 0.8327 - val_loss: 0.3606 - val_binary_accuracy: 0.8333\n",
      "Epoch 19/200\n",
      "175/175 [==============================] - 1s 4ms/step - loss: 0.3609 - binary_accuracy: 0.8327 - val_loss: 0.3580 - val_binary_accuracy: 0.8335\n",
      "Epoch 20/200\n",
      "175/175 [==============================] - 1s 4ms/step - loss: 0.3583 - binary_accuracy: 0.8348 - val_loss: 0.3581 - val_binary_accuracy: 0.8347\n",
      "Epoch 21/200\n",
      "175/175 [==============================] - 1s 4ms/step - loss: 0.3574 - binary_accuracy: 0.8359 - val_loss: 0.3582 - val_binary_accuracy: 0.8345\n",
      "Epoch 22/200\n",
      "175/175 [==============================] - 1s 5ms/step - loss: 0.3554 - binary_accuracy: 0.8362 - val_loss: 0.3568 - val_binary_accuracy: 0.8324\n",
      "Epoch 23/200\n",
      "175/175 [==============================] - 1s 4ms/step - loss: 0.3554 - binary_accuracy: 0.8362 - val_loss: 0.3600 - val_binary_accuracy: 0.8329\n",
      "Epoch 24/200\n",
      "175/175 [==============================] - 1s 4ms/step - loss: 0.3528 - binary_accuracy: 0.8369 - val_loss: 0.3549 - val_binary_accuracy: 0.8350\n",
      "Epoch 25/200\n",
      "175/175 [==============================] - 1s 4ms/step - loss: 0.3514 - binary_accuracy: 0.8379 - val_loss: 0.3564 - val_binary_accuracy: 0.8323\n",
      "Epoch 26/200\n",
      "175/175 [==============================] - 1s 4ms/step - loss: 0.3511 - binary_accuracy: 0.8385 - val_loss: 0.3537 - val_binary_accuracy: 0.8367\n",
      "Epoch 27/200\n",
      "175/175 [==============================] - 1s 4ms/step - loss: 0.3513 - binary_accuracy: 0.8388 - val_loss: 0.3543 - val_binary_accuracy: 0.8358\n",
      "Epoch 28/200\n",
      "175/175 [==============================] - 1s 6ms/step - loss: 0.3504 - binary_accuracy: 0.8383 - val_loss: 0.3541 - val_binary_accuracy: 0.8363\n",
      "Epoch 29/200\n",
      "175/175 [==============================] - 1s 4ms/step - loss: 0.3477 - binary_accuracy: 0.8398 - val_loss: 0.3524 - val_binary_accuracy: 0.8375\n",
      "Epoch 30/200\n",
      "175/175 [==============================] - 1s 4ms/step - loss: 0.3461 - binary_accuracy: 0.8399 - val_loss: 0.3533 - val_binary_accuracy: 0.8370\n",
      "Epoch 31/200\n",
      "175/175 [==============================] - 1s 4ms/step - loss: 0.3467 - binary_accuracy: 0.8411 - val_loss: 0.3526 - val_binary_accuracy: 0.8373\n",
      "Epoch 32/200\n",
      "175/175 [==============================] - 1s 5ms/step - loss: 0.3456 - binary_accuracy: 0.8404 - val_loss: 0.3518 - val_binary_accuracy: 0.8385\n",
      "Epoch 33/200\n",
      "175/175 [==============================] - 1s 4ms/step - loss: 0.3443 - binary_accuracy: 0.8410 - val_loss: 0.3523 - val_binary_accuracy: 0.8356\n",
      "Epoch 34/200\n",
      "175/175 [==============================] - 1s 5ms/step - loss: 0.3428 - binary_accuracy: 0.8423 - val_loss: 0.3514 - val_binary_accuracy: 0.8377\n",
      "Epoch 35/200\n",
      "175/175 [==============================] - 1s 4ms/step - loss: 0.3434 - binary_accuracy: 0.8427 - val_loss: 0.3501 - val_binary_accuracy: 0.8398\n",
      "Epoch 36/200\n",
      "175/175 [==============================] - 1s 4ms/step - loss: 0.3416 - binary_accuracy: 0.8426 - val_loss: 0.3493 - val_binary_accuracy: 0.8397\n",
      "Epoch 37/200\n",
      "175/175 [==============================] - 1s 4ms/step - loss: 0.3417 - binary_accuracy: 0.8422 - val_loss: 0.3498 - val_binary_accuracy: 0.8393\n",
      "Epoch 38/200\n",
      "175/175 [==============================] - 1s 4ms/step - loss: 0.3391 - binary_accuracy: 0.8447 - val_loss: 0.3506 - val_binary_accuracy: 0.8393\n",
      "Epoch 39/200\n",
      "175/175 [==============================] - 1s 4ms/step - loss: 0.3390 - binary_accuracy: 0.8434 - val_loss: 0.3490 - val_binary_accuracy: 0.8411\n",
      "Epoch 40/200\n",
      "175/175 [==============================] - 1s 5ms/step - loss: 0.3390 - binary_accuracy: 0.8441 - val_loss: 0.3510 - val_binary_accuracy: 0.8402\n",
      "Epoch 41/200\n",
      "175/175 [==============================] - 1s 8ms/step - loss: 0.3379 - binary_accuracy: 0.8439 - val_loss: 0.3492 - val_binary_accuracy: 0.8397\n",
      "Epoch 42/200\n",
      "175/175 [==============================] - 1s 4ms/step - loss: 0.3375 - binary_accuracy: 0.8445 - val_loss: 0.3482 - val_binary_accuracy: 0.8403\n",
      "Epoch 43/200\n",
      "175/175 [==============================] - 1s 4ms/step - loss: 0.3352 - binary_accuracy: 0.8447 - val_loss: 0.3485 - val_binary_accuracy: 0.8393\n",
      "Epoch 44/200\n",
      "175/175 [==============================] - 1s 5ms/step - loss: 0.3358 - binary_accuracy: 0.8452 - val_loss: 0.3499 - val_binary_accuracy: 0.8405\n"
     ]
    },
    {
     "data": {
      "text/plain": [
       "<matplotlib.axes._subplots.AxesSubplot at 0x7f2c54794250>"
      ]
     },
     "execution_count": 6,
     "metadata": {},
     "output_type": "execute_result"
    },
    {
     "data": {
      "image/png": "[encoded data removed]",
      "text/plain": [
       "<Figure size 432x288 with 1 Axes>"
      ]
     },
     "metadata": {},
     "output_type": "display_data"
    },
    {
     "data": {
      "image/png": "[encoded data removed]",
      "text/plain": [
       "<Figure size 432x288 with 1 Axes>"
      ]
     },
     "metadata": {},
     "output_type": "display_data"
    }
   ],
   "source": [
    "early_stopping = keras.callbacks.EarlyStopping(\n",
    "    patience=5,\n",
    "    min_delta=0.001,\n",
    "    restore_best_weights=True,\n",
    ")\n",
    "history = model.fit(\n",
    "    X_train, y_train,\n",
    "    validation_data=(X_valid, y_valid),\n",
    "    batch_size=512,\n",
    "    epochs=200,\n",
    "    callbacks=[early_stopping],\n",
    ")\n",
    "\n",
    "history_df = pd.DataFrame(history.history)\n",
    "history_df.loc[:, ['loss', 'val_loss']].plot(title=\"Cross-entropy\")\n",
    "history_df.loc[:, ['binary_accuracy', 'val_binary_accuracy']].plot(title=\"Accuracy\")"
   ]
  },
  {
   "cell_type": "markdown",
   "metadata": {
    "papermill": {
     "duration": 0.252787,
     "end_time": "2021-01-10T21:28:14.477599",
     "exception": false,
     "start_time": "2021-01-10T21:28:14.224812",
     "status": "completed"
    },
    "tags": []
   },
   "source": [
    "# 3) Train and Evaluate #\n",
    "\n",
    "\n",
    "What do you think about the learning curves? Does it look like the model underfit or overfit? Was the cross-entropy loss a good stand-in for accuracy?"
   ]
  },
  {
   "cell_type": "code",
   "execution_count": 7,
   "metadata": {
    "execution": {
     "iopub.execute_input": "2021-01-10T21:28:15.000996Z",
     "iopub.status.busy": "2021-01-10T21:28:14.998233Z",
     "iopub.status.idle": "2021-01-10T21:28:15.005962Z",
     "shell.execute_reply": "2021-01-10T21:28:15.005403Z"
    },
    "papermill": {
     "duration": 0.267017,
     "end_time": "2021-01-10T21:28:15.006063",
     "exception": false,
     "start_time": "2021-01-10T21:28:14.739046",
     "status": "completed"
    },
    "tags": []
   },
   "outputs": [
    {
     "data": {
      "application/javascript": [
       "parent.postMessage({\"jupyterEvent\": \"custom.exercise_interaction\", \"data\": {\"outcomeType\": 1, \"valueTowardsCompletion\": 0.3333333333333333, \"interactionType\": 1, \"questionType\": 4, \"questionId\": \"3_Q3\", \"learnToolsVersion\": \"0.3.4\", \"failureMessage\": \"\", \"exceptionClass\": \"\", \"trace\": \"\"}}, \"*\")"
      ],
      "text/plain": [
       "<IPython.core.display.Javascript object>"
      ]
     },
     "metadata": {},
     "output_type": "display_data"
    },
    {
     "data": {
      "text/markdown": [
       "<span style=\"color:#33cc33\">Correct:</span> \n",
       "\n",
       "Though we can see the training loss continuing to fall, the early stopping callback prevented any overfitting. Moreover, the accuracy rose at the same rate as the cross-entropy fell, so it appears that minimizing cross-entropy was a good stand-in. All in all, it looks like this training was a success!"
      ],
      "text/plain": [
       "Correct: \n",
       "\n",
       "Though we can see the training loss continuing to fall, the early stopping callback prevented any overfitting. Moreover, the accuracy rose at the same rate as the cross-entropy fell, so it appears that minimizing cross-entropy was a good stand-in. All in all, it looks like this training was a success!"
      ]
     },
     "metadata": {},
     "output_type": "display_data"
    }
   ],
   "source": [
    "# View the solution (Run this cell to receive credit!)\n",
    "q_3.check()"
   ]
  },
  {
   "cell_type": "markdown",
   "metadata": {
    "papermill": {
     "duration": 0.249258,
     "end_time": "2021-01-10T21:28:15.510315",
     "exception": false,
     "start_time": "2021-01-10T21:28:15.261057",
     "status": "completed"
    },
    "tags": []
   },
   "source": [
    "# Conclusion #\n",
    "\n",
    "Congratulations! You've completed Kaggle's *Introduction to Deep Learning* course!\n",
    "\n",
    "With your new skills you're ready to take on more advanced applications like computer vision and sentiment classification. What would you like to do next?\n",
    "\n",
    "Why not try one of our *Getting Started* competitions?\n",
    "\n",
    "- Classify images with TPUs in [**Petals to the Metal**](https://www.kaggle.com/c/tpu-getting-started)\n",
    "- Create art with GANs in [**I'm Something of a Painter Myself**](https://www.kaggle.com/c/gan-getting-started)\n",
    "- Classify Tweets in [**Real or Not? NLP with Disaster Tweets**](https://www.kaggle.com/c/nlp-getting-started)\n",
    "- Detect contradiction and entailment in [**Contradictory, My Dear Watson**](https://www.kaggle.com/c/contradictory-my-dear-watson)\n",
    "\n",
    "Until next time, Kagglers!"
   ]
  },
  {
   "cell_type": "markdown",
   "metadata": {
    "papermill": {
     "duration": 0.255414,
     "end_time": "2021-01-10T21:28:16.020429",
     "exception": false,
     "start_time": "2021-01-10T21:28:15.765015",
     "status": "completed"
    },
    "tags": []
   },
   "source": [
    "---\n",
    "\n",
    "\n",
    "\n",
    "\n",
    "*Have questions or comments? Visit the [Learn Discussion forum](https://www.kaggle.com/learn-forum/191966) to chat with other Learners.*"
   ]
  }
 ],
 "metadata": {
  "kernelspec": {
   "display_name": "Python 3",
   "language": "python",
   "name": "python3"
  },
  "language_info": {
   "codemirror_mode": {
    "name": "ipython",
    "version": 3
   },
   "file_extension": ".py",
   "mimetype": "text/x-python",
   "name": "python",
   "nbconvert_exporter": "python",
   "pygments_lexer": "ipython3",
   "version": "3.7.6"
  },
  "papermill": {
   "duration": 59.91763,
   "end_time": "2021-01-10T21:28:17.674800",
   "environment_variables": {},
   "exception": null,
   "input_path": "__notebook__.ipynb",
   "output_path": "__notebook__.ipynb",
   "parameters": {},
   "start_time": "2021-01-10T21:27:17.757170",
   "version": "2.1.0"
  }
 },
 "nbformat": 4,
 "nbformat_minor": 4
}
