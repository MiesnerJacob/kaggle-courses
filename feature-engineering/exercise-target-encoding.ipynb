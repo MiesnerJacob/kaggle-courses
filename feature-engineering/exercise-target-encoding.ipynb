{
 "cells": [
  {
   "cell_type": "markdown",
   "metadata": {
    "papermill": {
     "duration": 0.013478,
     "end_time": "2021-03-07T18:54:25.057802",
     "exception": false,
     "start_time": "2021-03-07T18:54:25.044324",
     "status": "completed"
    },
    "tags": []
   },
   "source": [
    "**This notebook is an exercise in the [Feature Engineering](https://www.kaggle.com/learn/feature-engineering) course.  You can reference the tutorial at [this link](https://www.kaggle.com/ryanholbrook/target-encoding).**\n",
    "\n",
    "---\n"
   ]
  },
  {
   "cell_type": "markdown",
   "metadata": {
    "papermill": {
     "duration": 0.011087,
     "end_time": "2021-03-07T18:54:25.081144",
     "exception": false,
     "start_time": "2021-03-07T18:54:25.070057",
     "status": "completed"
    },
    "tags": []
   },
   "source": [
    "# Introduction #\n",
    "\n",
    "In this exercise, you'll apply target encoding to features in the [*Ames*](https://www.kaggle.com/c/house-prices-advanced-regression-techniques/data) dataset.\n",
    "\n",
    "Run this cell to set everything up!"
   ]
  },
  {
   "cell_type": "code",
   "execution_count": 1,
   "metadata": {
    "execution": {
     "iopub.execute_input": "2021-03-07T18:54:25.112645Z",
     "iopub.status.busy": "2021-03-07T18:54:25.112004Z",
     "iopub.status.idle": "2021-03-07T18:54:27.024826Z",
     "shell.execute_reply": "2021-03-07T18:54:27.025289Z"
    },
    "papermill": {
     "duration": 1.933182,
     "end_time": "2021-03-07T18:54:27.025685",
     "exception": false,
     "start_time": "2021-03-07T18:54:25.092503",
     "status": "completed"
    },
    "tags": []
   },
   "outputs": [],
   "source": [
    "# Setup feedback system\n",
    "from learntools.core import binder\n",
    "binder.bind(globals())\n",
    "from learntools.feature_engineering_new.ex6 import *\n",
    "\n",
    "import matplotlib.pyplot as plt\n",
    "import numpy as np\n",
    "import pandas as pd\n",
    "import seaborn as sns\n",
    "import warnings\n",
    "from category_encoders import MEstimateEncoder\n",
    "from sklearn.model_selection import cross_val_score\n",
    "from xgboost import XGBRegressor\n",
    "\n",
    "# Set Matplotlib defaults\n",
    "plt.style.use(\"seaborn-whitegrid\")\n",
    "plt.rc(\"figure\", autolayout=True)\n",
    "plt.rc(\n",
    "    \"axes\",\n",
    "    labelweight=\"bold\",\n",
    "    labelsize=\"large\",\n",
    "    titleweight=\"bold\",\n",
    "    titlesize=14,\n",
    "    titlepad=10,\n",
    ")\n",
    "warnings.filterwarnings('ignore')\n",
    "\n",
    "\n",
    "def score_dataset(X, y, model=XGBRegressor()):\n",
    "    # Label encoding for categoricals\n",
    "    for colname in X.select_dtypes([\"category\", \"object\"]):\n",
    "        X[colname], _ = X[colname].factorize()\n",
    "    # Metric for Housing competition is RMSLE (Root Mean Squared Log Error)\n",
    "    score = cross_val_score(\n",
    "        model, X, y, cv=5, scoring=\"neg_mean_squared_log_error\",\n",
    "    )\n",
    "    score = -1 * score.mean()\n",
    "    score = np.sqrt(score)\n",
    "    return score\n",
    "\n",
    "\n",
    "df = pd.read_csv(\"../input/fe-course-data/ames.csv\")"
   ]
  },
  {
   "cell_type": "markdown",
   "metadata": {
    "papermill": {
     "duration": 0.011391,
     "end_time": "2021-03-07T18:54:27.049221",
     "exception": false,
     "start_time": "2021-03-07T18:54:27.037830",
     "status": "completed"
    },
    "tags": []
   },
   "source": [
    "-------------------------------------------------------------------------------\n",
    "\n",
    "First you'll need to choose which features you want to apply a target encoding to. Categorical features with a large number of categories are often good candidates. Run this cell to see how many categories each categorical feature in the *Ames* dataset has."
   ]
  },
  {
   "cell_type": "code",
   "execution_count": 2,
   "metadata": {
    "execution": {
     "iopub.execute_input": "2021-03-07T18:54:27.075779Z",
     "iopub.status.busy": "2021-03-07T18:54:27.075149Z",
     "iopub.status.idle": "2021-03-07T18:54:27.122858Z",
     "shell.execute_reply": "2021-03-07T18:54:27.123357Z"
    },
    "papermill": {
     "duration": 0.062669,
     "end_time": "2021-03-07T18:54:27.123541",
     "exception": false,
     "start_time": "2021-03-07T18:54:27.060872",
     "status": "completed"
    },
    "tags": []
   },
   "outputs": [
    {
     "data": {
      "text/plain": [
       "MSSubClass       16\n",
       "MSZoning          7\n",
       "Street            2\n",
       "Alley             3\n",
       "LotShape          4\n",
       "LandContour       4\n",
       "Utilities         3\n",
       "LotConfig         5\n",
       "LandSlope         3\n",
       "Neighborhood     28\n",
       "Condition1        9\n",
       "Condition2        8\n",
       "BldgType          5\n",
       "HouseStyle        8\n",
       "OverallQual      10\n",
       "OverallCond       9\n",
       "RoofStyle         6\n",
       "RoofMatl          8\n",
       "Exterior1st      16\n",
       "Exterior2nd      17\n",
       "MasVnrType        5\n",
       "ExterQual         4\n",
       "ExterCond         5\n",
       "Foundation        6\n",
       "BsmtQual          6\n",
       "BsmtCond          6\n",
       "BsmtExposure      5\n",
       "BsmtFinType1      7\n",
       "BsmtFinType2      7\n",
       "Heating           6\n",
       "HeatingQC         5\n",
       "CentralAir        2\n",
       "Electrical        6\n",
       "KitchenQual       5\n",
       "Functional        8\n",
       "FireplaceQu       6\n",
       "GarageType        7\n",
       "GarageFinish      4\n",
       "GarageQual        6\n",
       "GarageCond        6\n",
       "PavedDrive        3\n",
       "PoolQC            5\n",
       "Fence             5\n",
       "MiscFeature       6\n",
       "SaleType         10\n",
       "SaleCondition     6\n",
       "dtype: int64"
      ]
     },
     "execution_count": 2,
     "metadata": {},
     "output_type": "execute_result"
    }
   ],
   "source": [
    "df.select_dtypes([\"object\"]).nunique()"
   ]
  },
  {
   "cell_type": "markdown",
   "metadata": {
    "papermill": {
     "duration": 0.012751,
     "end_time": "2021-03-07T18:54:27.148824",
     "exception": false,
     "start_time": "2021-03-07T18:54:27.136073",
     "status": "completed"
    },
    "tags": []
   },
   "source": [
    "We talked about how the M-estimate encoding uses smoothing to improve estimates for rare categories. To see how many times a category occurs in the dataset, you can use the `value_counts` method. This cell shows the counts for `SaleType`, but you might want to consider others as well."
   ]
  },
  {
   "cell_type": "code",
   "execution_count": 3,
   "metadata": {
    "execution": {
     "iopub.execute_input": "2021-03-07T18:54:27.176622Z",
     "iopub.status.busy": "2021-03-07T18:54:27.175916Z",
     "iopub.status.idle": "2021-03-07T18:54:27.186061Z",
     "shell.execute_reply": "2021-03-07T18:54:27.185405Z"
    },
    "papermill": {
     "duration": 0.02516,
     "end_time": "2021-03-07T18:54:27.186201",
     "exception": false,
     "start_time": "2021-03-07T18:54:27.161041",
     "status": "completed"
    },
    "tags": []
   },
   "outputs": [
    {
     "data": {
      "text/plain": [
       "WD       2536\n",
       "New       239\n",
       "COD        87\n",
       "ConLD      26\n",
       "CWD        12\n",
       "ConLI       9\n",
       "ConLw       8\n",
       "Oth         7\n",
       "Con         5\n",
       "VWD         1\n",
       "Name: SaleType, dtype: int64"
      ]
     },
     "execution_count": 3,
     "metadata": {},
     "output_type": "execute_result"
    }
   ],
   "source": [
    "df[\"SaleType\"].value_counts()"
   ]
  },
  {
   "cell_type": "code",
   "execution_count": 4,
   "metadata": {
    "execution": {
     "iopub.execute_input": "2021-03-07T18:54:27.219301Z",
     "iopub.status.busy": "2021-03-07T18:54:27.218212Z",
     "iopub.status.idle": "2021-03-07T18:54:27.222062Z",
     "shell.execute_reply": "2021-03-07T18:54:27.222444Z"
    },
    "papermill": {
     "duration": 0.023755,
     "end_time": "2021-03-07T18:54:27.222635",
     "exception": false,
     "start_time": "2021-03-07T18:54:27.198880",
     "status": "completed"
    },
    "tags": []
   },
   "outputs": [
    {
     "data": {
      "text/plain": [
       "North_Ames                                 443\n",
       "College_Creek                              267\n",
       "Old_Town                                   239\n",
       "Edwards                                    194\n",
       "Somerset                                   182\n",
       "Northridge_Heights                         166\n",
       "Gilbert                                    165\n",
       "Sawyer                                     151\n",
       "Northwest_Ames                             131\n",
       "Sawyer_West                                125\n",
       "Mitchell                                   114\n",
       "Brookside                                  108\n",
       "Crawford                                   103\n",
       "Iowa_DOT_and_Rail_Road                      93\n",
       "Timberland                                  72\n",
       "Northridge                                  71\n",
       "Stone_Brook                                 51\n",
       "South_and_West_of_Iowa_State_University     48\n",
       "Clear_Creek                                 44\n",
       "Meadow_Village                              37\n",
       "Briardale                                   30\n",
       "Bloomington_Heights                         28\n",
       "Veenker                                     24\n",
       "Northpark_Villa                             23\n",
       "Blueste                                     10\n",
       "Greens                                       8\n",
       "Green_Hills                                  2\n",
       "Landmark                                     1\n",
       "Name: Neighborhood, dtype: int64"
      ]
     },
     "execution_count": 4,
     "metadata": {},
     "output_type": "execute_result"
    }
   ],
   "source": [
    "df['Neighborhood'].value_counts()"
   ]
  },
  {
   "cell_type": "markdown",
   "metadata": {
    "papermill": {
     "duration": 0.012393,
     "end_time": "2021-03-07T18:54:27.249168",
     "exception": false,
     "start_time": "2021-03-07T18:54:27.236775",
     "status": "completed"
    },
    "tags": []
   },
   "source": [
    "# 1) Choose Features for Encoding\n",
    "\n",
    "Which features did you identify for target encoding? After you've thought about your answer, run the next cell for some discussion."
   ]
  },
  {
   "cell_type": "code",
   "execution_count": 5,
   "metadata": {
    "execution": {
     "iopub.execute_input": "2021-03-07T18:54:27.278546Z",
     "iopub.status.busy": "2021-03-07T18:54:27.277632Z",
     "iopub.status.idle": "2021-03-07T18:54:27.284413Z",
     "shell.execute_reply": "2021-03-07T18:54:27.284885Z"
    },
    "papermill": {
     "duration": 0.02311,
     "end_time": "2021-03-07T18:54:27.285055",
     "exception": false,
     "start_time": "2021-03-07T18:54:27.261945",
     "status": "completed"
    },
    "tags": []
   },
   "outputs": [
    {
     "data": {
      "application/javascript": [
       "parent.postMessage({\"jupyterEvent\": \"custom.exercise_interaction\", \"data\": {\"outcomeType\": 1, \"valueTowardsCompletion\": 0.3333333333333333, \"interactionType\": 1, \"questionType\": 4, \"questionId\": \"1_Q1\", \"learnToolsVersion\": \"0.3.4\", \"failureMessage\": \"\", \"exceptionClass\": \"\", \"trace\": \"\"}}, \"*\")"
      ],
      "text/plain": [
       "<IPython.core.display.Javascript object>"
      ]
     },
     "metadata": {},
     "output_type": "display_data"
    },
    {
     "data": {
      "text/markdown": [
       "<span style=\"color:#33cc33\">Correct:</span> \n",
       "\n",
       " The `Neighborhood` feature looks promising. It has the most categories of any feature, and several categories are rare. Others that could be worth considering are `SaleType`, `MSSubClass`, `Exterior1st`, `Exterior2nd`. In fact, almost any of the nominal features would be worth trying because of the prevalence of rare categories."
      ],
      "text/plain": [
       "Correct: \n",
       "\n",
       " The `Neighborhood` feature looks promising. It has the most categories of any feature, and several categories are rare. Others that could be worth considering are `SaleType`, `MSSubClass`, `Exterior1st`, `Exterior2nd`. In fact, almost any of the nominal features would be worth trying because of the prevalence of rare categories."
      ]
     },
     "metadata": {},
     "output_type": "display_data"
    }
   ],
   "source": [
    "# View the solution (Run this cell to receive credit!)\n",
    "q_1.check()"
   ]
  },
  {
   "cell_type": "markdown",
   "metadata": {
    "papermill": {
     "duration": 0.013229,
     "end_time": "2021-03-07T18:54:27.311981",
     "exception": false,
     "start_time": "2021-03-07T18:54:27.298752",
     "status": "completed"
    },
    "tags": []
   },
   "source": [
    "-------------------------------------------------------------------------------\n",
    "\n",
    "Now you'll apply a target encoding to your choice of feature. As we discussed in the tutorial, to avoid overfitting, we need to fit the encoder on data heldout from the training set. Run this cell to create the encoding and training splits:"
   ]
  },
  {
   "cell_type": "code",
   "execution_count": 6,
   "metadata": {
    "execution": {
     "iopub.execute_input": "2021-03-07T18:54:27.342976Z",
     "iopub.status.busy": "2021-03-07T18:54:27.342039Z",
     "iopub.status.idle": "2021-03-07T18:54:27.355418Z",
     "shell.execute_reply": "2021-03-07T18:54:27.354878Z"
    },
    "lines_to_next_cell": 2,
    "papermill": {
     "duration": 0.030014,
     "end_time": "2021-03-07T18:54:27.355558",
     "exception": false,
     "start_time": "2021-03-07T18:54:27.325544",
     "status": "completed"
    },
    "tags": []
   },
   "outputs": [],
   "source": [
    "# Encoding split\n",
    "X_encode = df.sample(frac=0.20, random_state=0)\n",
    "y_encode = X_encode.pop(\"SalePrice\")\n",
    "\n",
    "# Training split\n",
    "X_pretrain = df.drop(X_encode.index)\n",
    "y_train = X_pretrain.pop(\"SalePrice\")"
   ]
  },
  {
   "cell_type": "markdown",
   "metadata": {
    "papermill": {
     "duration": 0.013351,
     "end_time": "2021-03-07T18:54:27.383157",
     "exception": false,
     "start_time": "2021-03-07T18:54:27.369806",
     "status": "completed"
    },
    "tags": []
   },
   "source": [
    "# 2) Apply M-Estimate Encoding\n",
    "\n",
    "Apply a target encoding to your choice of categorical features. Also choose a value for the smoothing parameter `m` (any value is okay for a correct answer)."
   ]
  },
  {
   "cell_type": "code",
   "execution_count": 7,
   "metadata": {
    "execution": {
     "iopub.execute_input": "2021-03-07T18:54:27.421860Z",
     "iopub.status.busy": "2021-03-07T18:54:27.415798Z",
     "iopub.status.idle": "2021-03-07T18:54:27.509061Z",
     "shell.execute_reply": "2021-03-07T18:54:27.509470Z"
    },
    "lines_to_next_cell": 0,
    "papermill": {
     "duration": 0.112775,
     "end_time": "2021-03-07T18:54:27.509666",
     "exception": false,
     "start_time": "2021-03-07T18:54:27.396891",
     "status": "completed"
    },
    "tags": []
   },
   "outputs": [
    {
     "data": {
      "application/javascript": [
       "parent.postMessage({\"jupyterEvent\": \"custom.exercise_interaction\", \"data\": {\"outcomeType\": 1, \"valueTowardsCompletion\": 0.3333333333333333, \"interactionType\": 1, \"questionType\": 2, \"questionId\": \"2_Q2\", \"learnToolsVersion\": \"0.3.4\", \"failureMessage\": \"\", \"exceptionClass\": \"\", \"trace\": \"\"}}, \"*\")"
      ],
      "text/plain": [
       "<IPython.core.display.Javascript object>"
      ]
     },
     "metadata": {},
     "output_type": "display_data"
    },
    {
     "data": {
      "text/markdown": [
       "<span style=\"color:#33cc33\">Correct</span>"
      ],
      "text/plain": [
       "Correct"
      ]
     },
     "metadata": {},
     "output_type": "display_data"
    }
   ],
   "source": [
    "# YOUR CODE HERE: Create the MEstimateEncoder\n",
    "# Choose a set of features to encode and a value for m\n",
    "encoder = MEstimateEncoder(cols=[\"Neighborhood\",\"SaleType\"], m=2.0)\n",
    "\n",
    "\n",
    "# Fit the encoder on the encoding split\n",
    "encoder.fit(X_encode, y_encode)\n",
    "\n",
    "# Encode the training split\n",
    "X_train = encoder.transform(X_pretrain, y_train)\n",
    "\n",
    "\n",
    "# Check your answer\n",
    "q_2.check()"
   ]
  },
  {
   "cell_type": "code",
   "execution_count": 8,
   "metadata": {
    "execution": {
     "iopub.execute_input": "2021-03-07T18:54:27.544618Z",
     "iopub.status.busy": "2021-03-07T18:54:27.543429Z",
     "iopub.status.idle": "2021-03-07T18:54:27.546729Z",
     "shell.execute_reply": "2021-03-07T18:54:27.546107Z"
    },
    "lines_to_next_cell": 0,
    "papermill": {
     "duration": 0.021931,
     "end_time": "2021-03-07T18:54:27.546869",
     "exception": false,
     "start_time": "2021-03-07T18:54:27.524938",
     "status": "completed"
    },
    "tags": []
   },
   "outputs": [],
   "source": [
    "# Lines below will give you a hint or solution code\n",
    "#q_2.hint()\n",
    "#q_2.solution()"
   ]
  },
  {
   "cell_type": "markdown",
   "metadata": {
    "papermill": {
     "duration": 0.014733,
     "end_time": "2021-03-07T18:54:27.576729",
     "exception": false,
     "start_time": "2021-03-07T18:54:27.561996",
     "status": "completed"
    },
    "tags": []
   },
   "source": [
    "If you'd like to see how the encoded feature compares to the target, you can run this cell:"
   ]
  },
  {
   "cell_type": "code",
   "execution_count": 9,
   "metadata": {
    "execution": {
     "iopub.execute_input": "2021-03-07T18:54:27.628346Z",
     "iopub.status.busy": "2021-03-07T18:54:27.626612Z",
     "iopub.status.idle": "2021-03-07T18:54:27.910271Z",
     "shell.execute_reply": "2021-03-07T18:54:27.910878Z"
    },
    "papermill": {
     "duration": 0.319396,
     "end_time": "2021-03-07T18:54:27.911062",
     "exception": false,
     "start_time": "2021-03-07T18:54:27.591666",
     "status": "completed"
    },
    "tags": []
   },
   "outputs": [
    {
     "data": {
      "image/png": "[encoded data removed]",
      "text/plain": [
       "<Figure size 540x360 with 1 Axes>"
      ]
     },
     "metadata": {},
     "output_type": "display_data"
    }
   ],
   "source": [
    "feature = encoder.cols\n",
    "\n",
    "plt.figure(dpi=90)\n",
    "ax = sns.distplot(y_train, kde=True, hist=False)\n",
    "ax = sns.distplot(X_train[feature], color='r', ax=ax, hist=True, kde=False, norm_hist=True)\n",
    "ax.set_xlabel(\"SalePrice\");"
   ]
  },
  {
   "cell_type": "markdown",
   "metadata": {
    "papermill": {
     "duration": 0.015232,
     "end_time": "2021-03-07T18:54:27.941944",
     "exception": false,
     "start_time": "2021-03-07T18:54:27.926712",
     "status": "completed"
    },
    "tags": []
   },
   "source": [
    "From the distribution plots, does it seem like the encoding is informative?\n",
    "\n",
    "And this cell will show you the score of the encoded set compared to the original set:"
   ]
  },
  {
   "cell_type": "code",
   "execution_count": 10,
   "metadata": {
    "execution": {
     "iopub.execute_input": "2021-03-07T18:54:27.979359Z",
     "iopub.status.busy": "2021-03-07T18:54:27.978405Z",
     "iopub.status.idle": "2021-03-07T18:54:34.104378Z",
     "shell.execute_reply": "2021-03-07T18:54:34.104951Z"
    },
    "papermill": {
     "duration": 6.147711,
     "end_time": "2021-03-07T18:54:34.105141",
     "exception": false,
     "start_time": "2021-03-07T18:54:27.957430",
     "status": "completed"
    },
    "tags": []
   },
   "outputs": [
    {
     "name": "stdout",
     "output_type": "stream",
     "text": [
      "Baseline Score: 0.1428 RMSLE\n",
      "Score with Encoding: 0.1418 RMSLE\n"
     ]
    }
   ],
   "source": [
    "X = df.copy()\n",
    "y = X.pop(\"SalePrice\")\n",
    "score_base = score_dataset(X, y)\n",
    "score_new = score_dataset(X_train, y_train)\n",
    "\n",
    "print(f\"Baseline Score: {score_base:.4f} RMSLE\")\n",
    "print(f\"Score with Encoding: {score_new:.4f} RMSLE\")"
   ]
  },
  {
   "cell_type": "markdown",
   "metadata": {
    "papermill": {
     "duration": 0.015769,
     "end_time": "2021-03-07T18:54:34.137514",
     "exception": false,
     "start_time": "2021-03-07T18:54:34.121745",
     "status": "completed"
    },
    "tags": []
   },
   "source": [
    "Do you think that target encoding was worthwhile in this case? Depending on which feature or features you chose, you may have ended up with a score significantly worse than the baseline. In that case, it's likely the extra information gained by the encoding couldn't make up for the loss of data used for the encoding."
   ]
  },
  {
   "cell_type": "markdown",
   "metadata": {
    "papermill": {
     "duration": 0.015537,
     "end_time": "2021-03-07T18:54:34.169175",
     "exception": false,
     "start_time": "2021-03-07T18:54:34.153638",
     "status": "completed"
    },
    "tags": []
   },
   "source": [
    "-------------------------------------------------------------------------------\n",
    "\n",
    "In this question, you'll explore the problem of overfitting with target encodings. This will illustrate this importance of training fitting target encoders on data held-out from the training set.\n",
    "\n",
    "So let's see what happens when we fit the encoder and the model on the *same* dataset. To emphasize how dramatic the overfitting can be, we'll mean-encode a feature that should have no relationship with `SalePrice`, a count: `0, 1, 2, 3, 4, 5, ...`."
   ]
  },
  {
   "cell_type": "code",
   "execution_count": 11,
   "metadata": {
    "execution": {
     "iopub.execute_input": "2021-03-07T18:54:34.204716Z",
     "iopub.status.busy": "2021-03-07T18:54:34.203831Z",
     "iopub.status.idle": "2021-03-07T18:54:37.102133Z",
     "shell.execute_reply": "2021-03-07T18:54:37.102714Z"
    },
    "papermill": {
     "duration": 2.917621,
     "end_time": "2021-03-07T18:54:37.102880",
     "exception": false,
     "start_time": "2021-03-07T18:54:34.185259",
     "status": "completed"
    },
    "tags": []
   },
   "outputs": [
    {
     "name": "stdout",
     "output_type": "stream",
     "text": [
      "Score: 0.0293 RMSLE\n"
     ]
    }
   ],
   "source": [
    "# Try experimenting with the smoothing parameter m\n",
    "# Try 0, 1, 5, 50\n",
    "m = 0\n",
    "\n",
    "X = df.copy()\n",
    "y = X.pop('SalePrice')\n",
    "\n",
    "# Create an uninformative feature\n",
    "X[\"Count\"] = range(len(X))\n",
    "X[\"Count\"][1] = 0  # actually need one duplicate value to circumvent error-checking in MEstimateEncoder\n",
    "\n",
    "# fit and transform on the same dataset\n",
    "encoder = MEstimateEncoder(cols=\"Count\", m=m)\n",
    "X = encoder.fit_transform(X, y)\n",
    "\n",
    "# Results\n",
    "score =  score_dataset(X, y)\n",
    "print(f\"Score: {score:.4f} RMSLE\")"
   ]
  },
  {
   "cell_type": "markdown",
   "metadata": {
    "papermill": {
     "duration": 0.01683,
     "end_time": "2021-03-07T18:54:37.135792",
     "exception": false,
     "start_time": "2021-03-07T18:54:37.118962",
     "status": "completed"
    },
    "tags": []
   },
   "source": [
    "Almost a perfect score!"
   ]
  },
  {
   "cell_type": "code",
   "execution_count": 12,
   "metadata": {
    "execution": {
     "iopub.execute_input": "2021-03-07T18:54:37.172039Z",
     "iopub.status.busy": "2021-03-07T18:54:37.171114Z",
     "iopub.status.idle": "2021-03-07T18:54:37.410308Z",
     "shell.execute_reply": "2021-03-07T18:54:37.410743Z"
    },
    "papermill": {
     "duration": 0.258827,
     "end_time": "2021-03-07T18:54:37.410910",
     "exception": false,
     "start_time": "2021-03-07T18:54:37.152083",
     "status": "completed"
    },
    "tags": []
   },
   "outputs": [
    {
     "data": {
      "image/png": "[encoded data removed]",
      "text/plain": [
       "<Figure size 540x360 with 1 Axes>"
      ]
     },
     "metadata": {},
     "output_type": "display_data"
    }
   ],
   "source": [
    "plt.figure(dpi=90)\n",
    "ax = sns.distplot(y, kde=True, hist=False)\n",
    "ax = sns.distplot(X[\"Count\"], color='r', ax=ax, hist=True, kde=False, norm_hist=True)\n",
    "ax.set_xlabel(\"SalePrice\");"
   ]
  },
  {
   "cell_type": "markdown",
   "metadata": {
    "papermill": {
     "duration": 0.016774,
     "end_time": "2021-03-07T18:54:37.445039",
     "exception": false,
     "start_time": "2021-03-07T18:54:37.428265",
     "status": "completed"
    },
    "tags": []
   },
   "source": [
    "And the distributions are almost exactly the same, too.\n",
    "\n",
    "# 3) Overfitting with Target Encoders\n",
    "\n",
    "Based on your understanding of how mean-encoding works, can you explain how XGBoost was able to get an almost a perfect fit after mean-encoding the count feature?"
   ]
  },
  {
   "cell_type": "code",
   "execution_count": 13,
   "metadata": {
    "execution": {
     "iopub.execute_input": "2021-03-07T18:54:37.483192Z",
     "iopub.status.busy": "2021-03-07T18:54:37.482278Z",
     "iopub.status.idle": "2021-03-07T18:54:37.488795Z",
     "shell.execute_reply": "2021-03-07T18:54:37.489185Z"
    },
    "lines_to_next_cell": 0,
    "papermill": {
     "duration": 0.027068,
     "end_time": "2021-03-07T18:54:37.489363",
     "exception": false,
     "start_time": "2021-03-07T18:54:37.462295",
     "status": "completed"
    },
    "tags": []
   },
   "outputs": [
    {
     "data": {
      "application/javascript": [
       "parent.postMessage({\"jupyterEvent\": \"custom.exercise_interaction\", \"data\": {\"outcomeType\": 1, \"valueTowardsCompletion\": 0.3333333333333333, \"interactionType\": 1, \"questionType\": 4, \"questionId\": \"3_Q3\", \"learnToolsVersion\": \"0.3.4\", \"failureMessage\": \"\", \"exceptionClass\": \"\", \"trace\": \"\"}}, \"*\")"
      ],
      "text/plain": [
       "<IPython.core.display.Javascript object>"
      ]
     },
     "metadata": {},
     "output_type": "display_data"
    },
    {
     "data": {
      "text/markdown": [
       "<span style=\"color:#33cc33\">Correct:</span> \n",
       "\n",
       "\n",
       "Since `Count` never has any duplicate values, the mean-encoded `Count` is essentially an exact copy of the target. In other words, mean-encoding turned a completely meaningless feature into a perfect feature.\n",
       "\n",
       "Now, the only reason this worked is because we trained XGBoost on the same set we used to train the encoder. If we had used a hold-out set instead, none of this \"fake\" encoding would have transferred to the training data.\n",
       "\n",
       "The lesson is that when using a target encoder it's very important to use separate data sets for training the encoder and training the model. Otherwise the results can be very disappointing!\n"
      ],
      "text/plain": [
       "Correct: \n",
       "\n",
       "\n",
       "Since `Count` never has any duplicate values, the mean-encoded `Count` is essentially an exact copy of the target. In other words, mean-encoding turned a completely meaningless feature into a perfect feature.\n",
       "\n",
       "Now, the only reason this worked is because we trained XGBoost on the same set we used to train the encoder. If we had used a hold-out set instead, none of this \"fake\" encoding would have transferred to the training data.\n",
       "\n",
       "The lesson is that when using a target encoder it's very important to use separate data sets for training the encoder and training the model. Otherwise the results can be very disappointing!"
      ]
     },
     "metadata": {},
     "output_type": "display_data"
    }
   ],
   "source": [
    "# View the solution (Run this cell to receive credit!)\n",
    "q_3.check()"
   ]
  },
  {
   "cell_type": "code",
   "execution_count": 14,
   "metadata": {
    "execution": {
     "iopub.execute_input": "2021-03-07T18:54:37.530602Z",
     "iopub.status.busy": "2021-03-07T18:54:37.529714Z",
     "iopub.status.idle": "2021-03-07T18:54:37.533269Z",
     "shell.execute_reply": "2021-03-07T18:54:37.533713Z"
    },
    "papermill": {
     "duration": 0.025452,
     "end_time": "2021-03-07T18:54:37.533903",
     "exception": false,
     "start_time": "2021-03-07T18:54:37.508451",
     "status": "completed"
    },
    "tags": []
   },
   "outputs": [],
   "source": [
    "# Uncomment this if you'd like a hint before seeing the answer\n",
    "#q_3.hint()"
   ]
  },
  {
   "cell_type": "markdown",
   "metadata": {
    "papermill": {
     "duration": 0.017822,
     "end_time": "2021-03-07T18:54:37.570047",
     "exception": false,
     "start_time": "2021-03-07T18:54:37.552225",
     "status": "completed"
    },
    "tags": []
   },
   "source": [
    "# The End #\n",
    "\n",
    "That's it for *Feature Engineering*! We hope you enjoyed your time with us.\n",
    "\n",
    "Now, are you ready to try out your new skills? Now would be a great time to join our [Housing Prices](https://www.kaggle.com/c/house-prices-advanced-regression-techniques) Getting Started competition. We've even prepared a [Bonus Lesson]() that collects all the work we've done together into a starter notebook.\n",
    "\n",
    "# References #\n",
    "Here are some great resources you might like to consult for more information. They all played a part in shaping this course:\n",
    "- *The Art of Feature Engineering*, a book by Pablo Duboue.\n",
    "- *An Empirical Analysis of Feature Engineering for Predictive Modeling*, an article by Jeff Heaton.\n",
    "- *Feature Engineering for Machine Learning*, a book by Alice Zheng and Amanda Casari. The tutorial on clustering was inspired by this excellent book.\n",
    "- *Feature Engineering and Selection*, a book by Max Kuhn and Kjell Johnson."
   ]
  },
  {
   "cell_type": "markdown",
   "metadata": {
    "papermill": {
     "duration": 0.01781,
     "end_time": "2021-03-07T18:54:37.606661",
     "exception": false,
     "start_time": "2021-03-07T18:54:37.588851",
     "status": "completed"
    },
    "tags": []
   },
   "source": [
    "---\n",
    "\n",
    "\n",
    "\n",
    "\n",
    "*Have questions or comments? Visit the [Learn Discussion forum](https://www.kaggle.com/learn-forum/221677) to chat with other Learners.*"
   ]
  }
 ],
 "metadata": {
  "kernelspec": {
   "display_name": "Python 3",
   "language": "python",
   "name": "python3"
  },
  "language_info": {
   "codemirror_mode": {
    "name": "ipython",
    "version": 3
   },
   "file_extension": ".py",
   "mimetype": "text/x-python",
   "name": "python",
   "nbconvert_exporter": "python",
   "pygments_lexer": "ipython3",
   "version": "3.7.9"
  },
  "papermill": {
   "default_parameters": {},
   "duration": 18.612906,
   "end_time": "2021-03-07T18:54:38.233846",
   "environment_variables": {},
   "exception": null,
   "input_path": "__notebook__.ipynb",
   "output_path": "__notebook__.ipynb",
   "parameters": {},
   "start_time": "2021-03-07T18:54:19.620940",
   "version": "2.2.2"
  }
 },
 "nbformat": 4,
 "nbformat_minor": 4
}
