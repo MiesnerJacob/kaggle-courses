{
 "cells": [
  {
   "cell_type": "markdown",
   "metadata": {
    "papermill": {
     "duration": 0.017648,
     "end_time": "2021-01-18T19:13:43.585069",
     "exception": false,
     "start_time": "2021-01-18T19:13:43.567421",
     "status": "completed"
    },
    "tags": []
   },
   "source": [
    "**This notebook is an exercise in the [SQL](https://www.kaggle.com/learn/intro-to-sql) course.  You can reference the tutorial at [this link](https://www.kaggle.com/dansbecker/joining-data).**\n",
    "\n",
    "---\n"
   ]
  },
  {
   "cell_type": "markdown",
   "metadata": {
    "papermill": {
     "duration": 0.016535,
     "end_time": "2021-01-18T19:13:43.618369",
     "exception": false,
     "start_time": "2021-01-18T19:13:43.601834",
     "status": "completed"
    },
    "tags": []
   },
   "source": [
    "# Introduction\n",
    "\n",
    "[Stack Overflow](https://stackoverflow.com/) is a widely beloved question and answer site for technical questions. You'll probably use it yourself as you keep using SQL (or any programming language). \n",
    "\n",
    "Their data is publicly available. What cool things do you think it would be useful for?\n",
    "\n",
    "Here's one idea:\n",
    "You could set up a service that identifies the Stack Overflow users who have demonstrated expertise with a specific technology by answering related questions about it, so someone could hire those experts for in-depth help.\n",
    "\n",
    "In this exercise, you'll write the SQL queries that might serve as the foundation for this type of service.\n",
    "\n",
    "As usual, run the following cell to set up our feedback system before moving on."
   ]
  },
  {
   "cell_type": "code",
   "execution_count": 1,
   "metadata": {
    "execution": {
     "iopub.execute_input": "2021-01-18T19:13:43.657578Z",
     "iopub.status.busy": "2021-01-18T19:13:43.656969Z",
     "iopub.status.idle": "2021-01-18T19:13:55.293068Z",
     "shell.execute_reply": "2021-01-18T19:13:55.291388Z"
    },
    "papermill": {
     "duration": 11.658386,
     "end_time": "2021-01-18T19:13:55.293324",
     "exception": false,
     "start_time": "2021-01-18T19:13:43.634938",
     "status": "completed"
    },
    "tags": []
   },
   "outputs": [
    {
     "name": "stdout",
     "output_type": "stream",
     "text": [
      "Using Kaggle's public dataset BigQuery integration.\n",
      "Setup Complete\n"
     ]
    }
   ],
   "source": [
    "# Set up feedback system\n",
    "from learntools.core import binder\n",
    "binder.bind(globals())\n",
    "from learntools.sql.ex6 import *\n",
    "print(\"Setup Complete\")"
   ]
  },
  {
   "cell_type": "markdown",
   "metadata": {
    "papermill": {
     "duration": 0.021537,
     "end_time": "2021-01-18T19:13:55.337233",
     "exception": false,
     "start_time": "2021-01-18T19:13:55.315696",
     "status": "completed"
    },
    "tags": []
   },
   "source": [
    "Run the next cell to fetch the `stackoverflow` dataset."
   ]
  },
  {
   "cell_type": "code",
   "execution_count": 2,
   "metadata": {
    "execution": {
     "iopub.execute_input": "2021-01-18T19:13:55.388216Z",
     "iopub.status.busy": "2021-01-18T19:13:55.387420Z",
     "iopub.status.idle": "2021-01-18T19:13:55.667939Z",
     "shell.execute_reply": "2021-01-18T19:13:55.667374Z"
    },
    "papermill": {
     "duration": 0.309488,
     "end_time": "2021-01-18T19:13:55.668063",
     "exception": false,
     "start_time": "2021-01-18T19:13:55.358575",
     "status": "completed"
    },
    "tags": []
   },
   "outputs": [
    {
     "name": "stdout",
     "output_type": "stream",
     "text": [
      "Using Kaggle's public dataset BigQuery integration.\n"
     ]
    }
   ],
   "source": [
    "from google.cloud import bigquery\n",
    "\n",
    "# Create a \"Client\" object\n",
    "client = bigquery.Client()\n",
    "\n",
    "# Construct a reference to the \"stackoverflow\" dataset\n",
    "dataset_ref = client.dataset(\"stackoverflow\", project=\"bigquery-public-data\")\n",
    "\n",
    "# API request - fetch the dataset\n",
    "dataset = client.get_dataset(dataset_ref)"
   ]
  },
  {
   "cell_type": "markdown",
   "metadata": {
    "papermill": {
     "duration": 0.018982,
     "end_time": "2021-01-18T19:13:55.706165",
     "exception": false,
     "start_time": "2021-01-18T19:13:55.687183",
     "status": "completed"
    },
    "tags": []
   },
   "source": [
    "# Exercises\n",
    "\n",
    "### 1) Explore the data\n",
    "\n",
    "Before writing queries or **JOIN** clauses, you'll want to see what tables are available. \n",
    "\n",
    "*Hint*: Tab completion is helpful whenever you can't remember a command. Type `client.` and then hit the tab key. Don't forget the period before hitting tab."
   ]
  },
  {
   "cell_type": "code",
   "execution_count": 3,
   "metadata": {
    "execution": {
     "iopub.execute_input": "2021-01-18T19:13:55.752374Z",
     "iopub.status.busy": "2021-01-18T19:13:55.751634Z",
     "iopub.status.idle": "2021-01-18T19:13:55.942772Z",
     "shell.execute_reply": "2021-01-18T19:13:55.943300Z"
    },
    "papermill": {
     "duration": 0.218349,
     "end_time": "2021-01-18T19:13:55.943444",
     "exception": false,
     "start_time": "2021-01-18T19:13:55.725095",
     "status": "completed"
    },
    "tags": []
   },
   "outputs": [
    {
     "name": "stdout",
     "output_type": "stream",
     "text": [
      "['badges', 'comments', 'post_history', 'post_links', 'posts_answers', 'posts_moderator_nomination', 'posts_orphaned_tag_wiki', 'posts_privilege_wiki', 'posts_questions', 'posts_tag_wiki', 'posts_tag_wiki_excerpt', 'posts_wiki_placeholder', 'stackoverflow_posts', 'tags', 'users', 'votes']\n"
     ]
    },
    {
     "data": {
      "application/javascript": [
       "parent.postMessage({\"jupyterEvent\": \"custom.exercise_interaction\", \"data\": {\"outcomeType\": 1, \"valueTowardsCompletion\": 0.16666666666666666, \"interactionType\": 1, \"questionType\": 1, \"questionId\": \"1_ListSOTables\", \"learnToolsVersion\": \"0.3.4\", \"failureMessage\": \"\", \"exceptionClass\": \"\", \"trace\": \"\"}}, \"*\")"
      ],
      "text/plain": [
       "<IPython.core.display.Javascript object>"
      ]
     },
     "metadata": {},
     "output_type": "display_data"
    },
    {
     "data": {
      "text/markdown": [
       "<span style=\"color:#33cc33\">Correct</span>"
      ],
      "text/plain": [
       "Correct"
      ]
     },
     "metadata": {},
     "output_type": "display_data"
    }
   ],
   "source": [
    "# Get a list of available tables \n",
    "list_of_tables = []\n",
    "for table in list(client.list_tables(dataset)):\n",
    "    list_of_tables.append(table.table_id)# Your code here\n",
    "\n",
    "# Print your answer\n",
    "print(list_of_tables)\n",
    "\n",
    "# Check your answer\n",
    "q_1.check()"
   ]
  },
  {
   "cell_type": "markdown",
   "metadata": {
    "papermill": {
     "duration": 0.020659,
     "end_time": "2021-01-18T19:13:55.985143",
     "exception": false,
     "start_time": "2021-01-18T19:13:55.964484",
     "status": "completed"
    },
    "tags": []
   },
   "source": [
    "For the solution, uncomment the line below."
   ]
  },
  {
   "cell_type": "code",
   "execution_count": 4,
   "metadata": {
    "execution": {
     "iopub.execute_input": "2021-01-18T19:13:56.030388Z",
     "iopub.status.busy": "2021-01-18T19:13:56.029541Z",
     "iopub.status.idle": "2021-01-18T19:13:56.032841Z",
     "shell.execute_reply": "2021-01-18T19:13:56.033353Z"
    },
    "papermill": {
     "duration": 0.02755,
     "end_time": "2021-01-18T19:13:56.033520",
     "exception": false,
     "start_time": "2021-01-18T19:13:56.005970",
     "status": "completed"
    },
    "tags": []
   },
   "outputs": [],
   "source": [
    "#q_1.solution()"
   ]
  },
  {
   "cell_type": "markdown",
   "metadata": {
    "papermill": {
     "duration": 0.020624,
     "end_time": "2021-01-18T19:13:56.074800",
     "exception": false,
     "start_time": "2021-01-18T19:13:56.054176",
     "status": "completed"
    },
    "tags": []
   },
   "source": [
    "### 2) Review relevant tables\n",
    "\n",
    "If you are interested in people who answer questions on a given topic, the `posts_answers` table is a natural place to look. Run the following cell, and look at the output."
   ]
  },
  {
   "cell_type": "code",
   "execution_count": 5,
   "metadata": {
    "execution": {
     "iopub.execute_input": "2021-01-18T19:13:56.122482Z",
     "iopub.status.busy": "2021-01-18T19:13:56.121721Z",
     "iopub.status.idle": "2021-01-18T19:13:56.864064Z",
     "shell.execute_reply": "2021-01-18T19:13:56.863495Z"
    },
    "papermill": {
     "duration": 0.767197,
     "end_time": "2021-01-18T19:13:56.864202",
     "exception": false,
     "start_time": "2021-01-18T19:13:56.097005",
     "status": "completed"
    },
    "tags": []
   },
   "outputs": [
    {
     "data": {
      "text/html": [
       "<div>\n",
       "<style scoped>\n",
       "    .dataframe tbody tr th:only-of-type {\n",
       "        vertical-align: middle;\n",
       "    }\n",
       "\n",
       "    .dataframe tbody tr th {\n",
       "        vertical-align: top;\n",
       "    }\n",
       "\n",
       "    .dataframe thead th {\n",
       "        text-align: right;\n",
       "    }\n",
       "</style>\n",
       "<table border=\"1\" class=\"dataframe\">\n",
       "  <thead>\n",
       "    <tr style=\"text-align: right;\">\n",
       "      <th></th>\n",
       "      <th>id</th>\n",
       "      <th>title</th>\n",
       "      <th>body</th>\n",
       "      <th>accepted_answer_id</th>\n",
       "      <th>answer_count</th>\n",
       "      <th>comment_count</th>\n",
       "      <th>community_owned_date</th>\n",
       "      <th>creation_date</th>\n",
       "      <th>favorite_count</th>\n",
       "      <th>last_activity_date</th>\n",
       "      <th>last_edit_date</th>\n",
       "      <th>last_editor_display_name</th>\n",
       "      <th>last_editor_user_id</th>\n",
       "      <th>owner_display_name</th>\n",
       "      <th>owner_user_id</th>\n",
       "      <th>parent_id</th>\n",
       "      <th>post_type_id</th>\n",
       "      <th>score</th>\n",
       "      <th>tags</th>\n",
       "      <th>view_count</th>\n",
       "    </tr>\n",
       "  </thead>\n",
       "  <tbody>\n",
       "    <tr>\n",
       "      <th>0</th>\n",
       "      <td>659644</td>\n",
       "      <td>None</td>\n",
       "      <td>&lt;p&gt;It would be much easier to use the Visual S...</td>\n",
       "      <td>None</td>\n",
       "      <td>None</td>\n",
       "      <td>1</td>\n",
       "      <td>None</td>\n",
       "      <td>2009-03-18 18:55:15.953000+00:00</td>\n",
       "      <td>None</td>\n",
       "      <td>2009-03-18 18:55:15.953000+00:00</td>\n",
       "      <td>NaT</td>\n",
       "      <td>None</td>\n",
       "      <td>NaN</td>\n",
       "      <td>John Long</td>\n",
       "      <td>None</td>\n",
       "      <td>293806</td>\n",
       "      <td>2</td>\n",
       "      <td>0</td>\n",
       "      <td>None</td>\n",
       "      <td>None</td>\n",
       "    </tr>\n",
       "    <tr>\n",
       "      <th>1</th>\n",
       "      <td>659682</td>\n",
       "      <td>None</td>\n",
       "      <td>&lt;p&gt;If you can keep them synchronized I don't t...</td>\n",
       "      <td>None</td>\n",
       "      <td>None</td>\n",
       "      <td>0</td>\n",
       "      <td>None</td>\n",
       "      <td>2009-03-18 19:09:06.480000+00:00</td>\n",
       "      <td>None</td>\n",
       "      <td>2009-03-18 19:09:06.480000+00:00</td>\n",
       "      <td>NaT</td>\n",
       "      <td>None</td>\n",
       "      <td>NaN</td>\n",
       "      <td>Nick Vuono</td>\n",
       "      <td>None</td>\n",
       "      <td>433490</td>\n",
       "      <td>2</td>\n",
       "      <td>0</td>\n",
       "      <td>None</td>\n",
       "      <td>None</td>\n",
       "    </tr>\n",
       "    <tr>\n",
       "      <th>2</th>\n",
       "      <td>659841</td>\n",
       "      <td>None</td>\n",
       "      <td>&lt;p&gt;Should be pretty simple, in the paramters f...</td>\n",
       "      <td>None</td>\n",
       "      <td>None</td>\n",
       "      <td>0</td>\n",
       "      <td>None</td>\n",
       "      <td>2009-03-18 19:49:22.717000+00:00</td>\n",
       "      <td>None</td>\n",
       "      <td>2009-03-18 19:49:22.717000+00:00</td>\n",
       "      <td>NaT</td>\n",
       "      <td>None</td>\n",
       "      <td>NaN</td>\n",
       "      <td>Carlos Growcia</td>\n",
       "      <td>None</td>\n",
       "      <td>654695</td>\n",
       "      <td>2</td>\n",
       "      <td>0</td>\n",
       "      <td>None</td>\n",
       "      <td>None</td>\n",
       "    </tr>\n",
       "    <tr>\n",
       "      <th>3</th>\n",
       "      <td>660099</td>\n",
       "      <td>None</td>\n",
       "      <td>&lt;p&gt;Had a similar problem when find an object b...</td>\n",
       "      <td>None</td>\n",
       "      <td>None</td>\n",
       "      <td>0</td>\n",
       "      <td>None</td>\n",
       "      <td>2009-03-18 21:05:41.053000+00:00</td>\n",
       "      <td>None</td>\n",
       "      <td>2010-04-28 05:18:13.877000+00:00</td>\n",
       "      <td>2010-04-28 05:18:13.877000+00:00</td>\n",
       "      <td>None</td>\n",
       "      <td>1.0</td>\n",
       "      <td>kyoussouf</td>\n",
       "      <td>None</td>\n",
       "      <td>57804</td>\n",
       "      <td>2</td>\n",
       "      <td>0</td>\n",
       "      <td>None</td>\n",
       "      <td>None</td>\n",
       "    </tr>\n",
       "    <tr>\n",
       "      <th>4</th>\n",
       "      <td>660134</td>\n",
       "      <td>None</td>\n",
       "      <td>&lt;p&gt;A nice idea. Personally, I really don't lik...</td>\n",
       "      <td>None</td>\n",
       "      <td>None</td>\n",
       "      <td>0</td>\n",
       "      <td>None</td>\n",
       "      <td>2009-03-18 21:14:51.310000+00:00</td>\n",
       "      <td>None</td>\n",
       "      <td>2009-03-18 21:14:51.310000+00:00</td>\n",
       "      <td>NaT</td>\n",
       "      <td>None</td>\n",
       "      <td>NaN</td>\n",
       "      <td>anon</td>\n",
       "      <td>None</td>\n",
       "      <td>660076</td>\n",
       "      <td>2</td>\n",
       "      <td>0</td>\n",
       "      <td>None</td>\n",
       "      <td>None</td>\n",
       "    </tr>\n",
       "  </tbody>\n",
       "</table>\n",
       "</div>"
      ],
      "text/plain": [
       "       id title                                               body  \\\n",
       "0  659644  None  <p>It would be much easier to use the Visual S...   \n",
       "1  659682  None  <p>If you can keep them synchronized I don't t...   \n",
       "2  659841  None  <p>Should be pretty simple, in the paramters f...   \n",
       "3  660099  None  <p>Had a similar problem when find an object b...   \n",
       "4  660134  None  <p>A nice idea. Personally, I really don't lik...   \n",
       "\n",
       "  accepted_answer_id answer_count  comment_count community_owned_date  \\\n",
       "0               None         None              1                 None   \n",
       "1               None         None              0                 None   \n",
       "2               None         None              0                 None   \n",
       "3               None         None              0                 None   \n",
       "4               None         None              0                 None   \n",
       "\n",
       "                     creation_date favorite_count  \\\n",
       "0 2009-03-18 18:55:15.953000+00:00           None   \n",
       "1 2009-03-18 19:09:06.480000+00:00           None   \n",
       "2 2009-03-18 19:49:22.717000+00:00           None   \n",
       "3 2009-03-18 21:05:41.053000+00:00           None   \n",
       "4 2009-03-18 21:14:51.310000+00:00           None   \n",
       "\n",
       "                last_activity_date                   last_edit_date  \\\n",
       "0 2009-03-18 18:55:15.953000+00:00                              NaT   \n",
       "1 2009-03-18 19:09:06.480000+00:00                              NaT   \n",
       "2 2009-03-18 19:49:22.717000+00:00                              NaT   \n",
       "3 2010-04-28 05:18:13.877000+00:00 2010-04-28 05:18:13.877000+00:00   \n",
       "4 2009-03-18 21:14:51.310000+00:00                              NaT   \n",
       "\n",
       "  last_editor_display_name  last_editor_user_id owner_display_name  \\\n",
       "0                     None                  NaN          John Long   \n",
       "1                     None                  NaN         Nick Vuono   \n",
       "2                     None                  NaN     Carlos Growcia   \n",
       "3                     None                  1.0          kyoussouf   \n",
       "4                     None                  NaN               anon   \n",
       "\n",
       "  owner_user_id  parent_id  post_type_id  score  tags view_count  \n",
       "0          None     293806             2      0  None       None  \n",
       "1          None     433490             2      0  None       None  \n",
       "2          None     654695             2      0  None       None  \n",
       "3          None      57804             2      0  None       None  \n",
       "4          None     660076             2      0  None       None  "
      ]
     },
     "execution_count": 5,
     "metadata": {},
     "output_type": "execute_result"
    }
   ],
   "source": [
    "# Construct a reference to the \"posts_answers\" table\n",
    "answers_table_ref = dataset_ref.table(\"posts_answers\")\n",
    "\n",
    "# API request - fetch the table\n",
    "answers_table = client.get_table(answers_table_ref)\n",
    "\n",
    "# Preview the first five lines of the \"posts_answers\" table\n",
    "client.list_rows(answers_table, max_results=5).to_dataframe()"
   ]
  },
  {
   "cell_type": "markdown",
   "metadata": {
    "papermill": {
     "duration": 0.02219,
     "end_time": "2021-01-18T19:13:56.908592",
     "exception": false,
     "start_time": "2021-01-18T19:13:56.886402",
     "status": "completed"
    },
    "tags": []
   },
   "source": [
    "It isn't clear yet how to find users who answered questions on any given topic. But `posts_answers` has a `parent_id` column. If you are familiar with the Stack Overflow site, you might figure out that the `parent_id` is the question each post is answering.\n",
    "\n",
    "Look at `posts_questions` using the cell below."
   ]
  },
  {
   "cell_type": "code",
   "execution_count": 6,
   "metadata": {
    "execution": {
     "iopub.execute_input": "2021-01-18T19:13:56.959893Z",
     "iopub.status.busy": "2021-01-18T19:13:56.959106Z",
     "iopub.status.idle": "2021-01-18T19:13:57.727218Z",
     "shell.execute_reply": "2021-01-18T19:13:57.726564Z"
    },
    "papermill": {
     "duration": 0.796945,
     "end_time": "2021-01-18T19:13:57.727379",
     "exception": false,
     "start_time": "2021-01-18T19:13:56.930434",
     "status": "completed"
    },
    "tags": []
   },
   "outputs": [
    {
     "data": {
      "text/html": [
       "<div>\n",
       "<style scoped>\n",
       "    .dataframe tbody tr th:only-of-type {\n",
       "        vertical-align: middle;\n",
       "    }\n",
       "\n",
       "    .dataframe tbody tr th {\n",
       "        vertical-align: top;\n",
       "    }\n",
       "\n",
       "    .dataframe thead th {\n",
       "        text-align: right;\n",
       "    }\n",
       "</style>\n",
       "<table border=\"1\" class=\"dataframe\">\n",
       "  <thead>\n",
       "    <tr style=\"text-align: right;\">\n",
       "      <th></th>\n",
       "      <th>id</th>\n",
       "      <th>title</th>\n",
       "      <th>body</th>\n",
       "      <th>accepted_answer_id</th>\n",
       "      <th>answer_count</th>\n",
       "      <th>comment_count</th>\n",
       "      <th>community_owned_date</th>\n",
       "      <th>creation_date</th>\n",
       "      <th>favorite_count</th>\n",
       "      <th>last_activity_date</th>\n",
       "      <th>last_edit_date</th>\n",
       "      <th>last_editor_display_name</th>\n",
       "      <th>last_editor_user_id</th>\n",
       "      <th>owner_display_name</th>\n",
       "      <th>owner_user_id</th>\n",
       "      <th>parent_id</th>\n",
       "      <th>post_type_id</th>\n",
       "      <th>score</th>\n",
       "      <th>tags</th>\n",
       "      <th>view_count</th>\n",
       "    </tr>\n",
       "  </thead>\n",
       "  <tbody>\n",
       "    <tr>\n",
       "      <th>0</th>\n",
       "      <td>7675334</td>\n",
       "      <td>Chrome JavaScript click()</td>\n",
       "      <td>&lt;p&gt;The following .NET VB code (that generates ...</td>\n",
       "      <td>None</td>\n",
       "      <td>0</td>\n",
       "      <td>4</td>\n",
       "      <td>None</td>\n",
       "      <td>2011-10-06 13:57:26.663000+00:00</td>\n",
       "      <td>None</td>\n",
       "      <td>2011-10-06 14:12:14.367000+00:00</td>\n",
       "      <td>2011-10-06 14:05:46.257000+00:00</td>\n",
       "      <td>None</td>\n",
       "      <td>514749.0</td>\n",
       "      <td>None</td>\n",
       "      <td>327952</td>\n",
       "      <td>None</td>\n",
       "      <td>1</td>\n",
       "      <td>0</td>\n",
       "      <td>javascript|google-chrome</td>\n",
       "      <td>337</td>\n",
       "    </tr>\n",
       "    <tr>\n",
       "      <th>1</th>\n",
       "      <td>7675414</td>\n",
       "      <td>Dropdown for year in dijit.form.DateTextField</td>\n",
       "      <td>&lt;p&gt;I am using a dijit.form.DateTextField in a ...</td>\n",
       "      <td>None</td>\n",
       "      <td>0</td>\n",
       "      <td>4</td>\n",
       "      <td>None</td>\n",
       "      <td>2011-10-06 14:02:10.373000+00:00</td>\n",
       "      <td>None</td>\n",
       "      <td>2011-10-06 14:02:10.373000+00:00</td>\n",
       "      <td>NaT</td>\n",
       "      <td>None</td>\n",
       "      <td>NaN</td>\n",
       "      <td>None</td>\n",
       "      <td>274354</td>\n",
       "      <td>None</td>\n",
       "      <td>1</td>\n",
       "      <td>0</td>\n",
       "      <td>dojo</td>\n",
       "      <td>301</td>\n",
       "    </tr>\n",
       "    <tr>\n",
       "      <th>2</th>\n",
       "      <td>7675570</td>\n",
       "      <td>Will setting an alarm more than once cause it ...</td>\n",
       "      <td>&lt;p&gt;i am setting an alarm inside of a main acti...</td>\n",
       "      <td>None</td>\n",
       "      <td>0</td>\n",
       "      <td>4</td>\n",
       "      <td>None</td>\n",
       "      <td>2011-10-06 14:13:59.233000+00:00</td>\n",
       "      <td>None</td>\n",
       "      <td>2011-10-06 14:13:59.233000+00:00</td>\n",
       "      <td>NaT</td>\n",
       "      <td>None</td>\n",
       "      <td>NaN</td>\n",
       "      <td>None</td>\n",
       "      <td>828330</td>\n",
       "      <td>None</td>\n",
       "      <td>1</td>\n",
       "      <td>0</td>\n",
       "      <td>android|android-alarms</td>\n",
       "      <td>66</td>\n",
       "    </tr>\n",
       "    <tr>\n",
       "      <th>3</th>\n",
       "      <td>7675940</td>\n",
       "      <td>Icon resize messed up?</td>\n",
       "      <td>&lt;p&gt;so I have been trying to resolve the issue ...</td>\n",
       "      <td>None</td>\n",
       "      <td>0</td>\n",
       "      <td>4</td>\n",
       "      <td>None</td>\n",
       "      <td>2011-10-06 14:38:57.387000+00:00</td>\n",
       "      <td>None</td>\n",
       "      <td>2012-05-03 12:00:12.140000+00:00</td>\n",
       "      <td>2011-10-07 11:28:02.550000+00:00</td>\n",
       "      <td>None</td>\n",
       "      <td>790832.0</td>\n",
       "      <td>None</td>\n",
       "      <td>790832</td>\n",
       "      <td>None</td>\n",
       "      <td>1</td>\n",
       "      <td>0</td>\n",
       "      <td>android|android-layout</td>\n",
       "      <td>469</td>\n",
       "    </tr>\n",
       "    <tr>\n",
       "      <th>4</th>\n",
       "      <td>7676011</td>\n",
       "      <td>java.net.SocketException after successful conn...</td>\n",
       "      <td>&lt;p&gt;I connected android application to the webs...</td>\n",
       "      <td>None</td>\n",
       "      <td>0</td>\n",
       "      <td>2</td>\n",
       "      <td>None</td>\n",
       "      <td>2011-10-06 14:43:16.657000+00:00</td>\n",
       "      <td>None</td>\n",
       "      <td>2011-10-06 15:29:55.250000+00:00</td>\n",
       "      <td>2011-10-06 15:29:55.250000+00:00</td>\n",
       "      <td>None</td>\n",
       "      <td>585795.0</td>\n",
       "      <td>None</td>\n",
       "      <td>585795</td>\n",
       "      <td>None</td>\n",
       "      <td>1</td>\n",
       "      <td>0</td>\n",
       "      <td>android|web-services</td>\n",
       "      <td>275</td>\n",
       "    </tr>\n",
       "  </tbody>\n",
       "</table>\n",
       "</div>"
      ],
      "text/plain": [
       "        id                                              title  \\\n",
       "0  7675334                          Chrome JavaScript click()   \n",
       "1  7675414      Dropdown for year in dijit.form.DateTextField   \n",
       "2  7675570  Will setting an alarm more than once cause it ...   \n",
       "3  7675940                             Icon resize messed up?   \n",
       "4  7676011  java.net.SocketException after successful conn...   \n",
       "\n",
       "                                                body accepted_answer_id  \\\n",
       "0  <p>The following .NET VB code (that generates ...               None   \n",
       "1  <p>I am using a dijit.form.DateTextField in a ...               None   \n",
       "2  <p>i am setting an alarm inside of a main acti...               None   \n",
       "3  <p>so I have been trying to resolve the issue ...               None   \n",
       "4  <p>I connected android application to the webs...               None   \n",
       "\n",
       "   answer_count  comment_count community_owned_date  \\\n",
       "0             0              4                 None   \n",
       "1             0              4                 None   \n",
       "2             0              4                 None   \n",
       "3             0              4                 None   \n",
       "4             0              2                 None   \n",
       "\n",
       "                     creation_date favorite_count  \\\n",
       "0 2011-10-06 13:57:26.663000+00:00           None   \n",
       "1 2011-10-06 14:02:10.373000+00:00           None   \n",
       "2 2011-10-06 14:13:59.233000+00:00           None   \n",
       "3 2011-10-06 14:38:57.387000+00:00           None   \n",
       "4 2011-10-06 14:43:16.657000+00:00           None   \n",
       "\n",
       "                last_activity_date                   last_edit_date  \\\n",
       "0 2011-10-06 14:12:14.367000+00:00 2011-10-06 14:05:46.257000+00:00   \n",
       "1 2011-10-06 14:02:10.373000+00:00                              NaT   \n",
       "2 2011-10-06 14:13:59.233000+00:00                              NaT   \n",
       "3 2012-05-03 12:00:12.140000+00:00 2011-10-07 11:28:02.550000+00:00   \n",
       "4 2011-10-06 15:29:55.250000+00:00 2011-10-06 15:29:55.250000+00:00   \n",
       "\n",
       "  last_editor_display_name  last_editor_user_id owner_display_name  \\\n",
       "0                     None             514749.0               None   \n",
       "1                     None                  NaN               None   \n",
       "2                     None                  NaN               None   \n",
       "3                     None             790832.0               None   \n",
       "4                     None             585795.0               None   \n",
       "\n",
       "   owner_user_id parent_id  post_type_id  score                      tags  \\\n",
       "0         327952      None             1      0  javascript|google-chrome   \n",
       "1         274354      None             1      0                      dojo   \n",
       "2         828330      None             1      0    android|android-alarms   \n",
       "3         790832      None             1      0    android|android-layout   \n",
       "4         585795      None             1      0      android|web-services   \n",
       "\n",
       "   view_count  \n",
       "0         337  \n",
       "1         301  \n",
       "2          66  \n",
       "3         469  \n",
       "4         275  "
      ]
     },
     "execution_count": 6,
     "metadata": {},
     "output_type": "execute_result"
    }
   ],
   "source": [
    "# Construct a reference to the \"posts_questions\" table\n",
    "questions_table_ref = dataset_ref.table(\"posts_questions\")\n",
    "\n",
    "# API request - fetch the table\n",
    "questions_table = client.get_table(questions_table_ref)\n",
    "\n",
    "# Preview the first five lines of the \"posts_questions\" table\n",
    "client.list_rows(questions_table, max_results=5).to_dataframe()"
   ]
  },
  {
   "cell_type": "markdown",
   "metadata": {
    "papermill": {
     "duration": 0.025325,
     "end_time": "2021-01-18T19:13:57.776491",
     "exception": false,
     "start_time": "2021-01-18T19:13:57.751166",
     "status": "completed"
    },
    "tags": []
   },
   "source": [
    "Are there any fields that identify what topic or technology each question is about? If so, how could you find the IDs of users who answered questions about a specific topic?\n",
    "\n",
    "Think about it, and then check the solution by running the code in the next cell."
   ]
  },
  {
   "cell_type": "code",
   "execution_count": 7,
   "metadata": {
    "execution": {
     "iopub.execute_input": "2021-01-18T19:13:57.827732Z",
     "iopub.status.busy": "2021-01-18T19:13:57.826916Z",
     "iopub.status.idle": "2021-01-18T19:13:57.833303Z",
     "shell.execute_reply": "2021-01-18T19:13:57.832593Z"
    },
    "papermill": {
     "duration": 0.03395,
     "end_time": "2021-01-18T19:13:57.833430",
     "exception": false,
     "start_time": "2021-01-18T19:13:57.799480",
     "status": "completed"
    },
    "tags": []
   },
   "outputs": [
    {
     "data": {
      "application/javascript": [
       "parent.postMessage({\"jupyterEvent\": \"custom.exercise_interaction\", \"data\": {\"interactionType\": 3, \"questionType\": 4, \"questionId\": \"2_HowToFindExperts\", \"learnToolsVersion\": \"0.3.4\", \"valueTowardsCompletion\": 0.0, \"failureMessage\": \"\", \"exceptionClass\": \"\", \"trace\": \"\", \"outcomeType\": 4}}, \"*\")"
      ],
      "text/plain": [
       "<IPython.core.display.Javascript object>"
      ]
     },
     "metadata": {},
     "output_type": "display_data"
    },
    {
     "data": {
      "text/markdown": [
       "<span style=\"color:#33cc99\">Solution:</span> \n",
       "`posts_questions` has a column called `tags` which lists the topics/technologies each question is about.\n",
       "\n",
       "`posts_answers` has a column called `parent_id` which identifies the ID of the question each answer is responding to.\n",
       "`posts_answers` also has an `owner_user_id` column which specifies the ID of the user who answered the question.\n",
       "\n",
       "You can join these two tables to:\n",
       "- determine the `tags` for each answer, and then\n",
       "- select the `owner_user_id` of the answers on the desired tag.\n",
       "\n",
       "This is exactly what you will do over the next few questions.\n"
      ],
      "text/plain": [
       "Solution: \n",
       "`posts_questions` has a column called `tags` which lists the topics/technologies each question is about.\n",
       "\n",
       "`posts_answers` has a column called `parent_id` which identifies the ID of the question each answer is responding to.\n",
       "`posts_answers` also has an `owner_user_id` column which specifies the ID of the user who answered the question.\n",
       "\n",
       "You can join these two tables to:\n",
       "- determine the `tags` for each answer, and then\n",
       "- select the `owner_user_id` of the answers on the desired tag.\n",
       "\n",
       "This is exactly what you will do over the next few questions."
      ]
     },
     "metadata": {},
     "output_type": "display_data"
    }
   ],
   "source": [
    "# Check your answer (Run this code cell to receive credit!)\n",
    "q_2.solution()"
   ]
  },
  {
   "cell_type": "markdown",
   "metadata": {
    "papermill": {
     "duration": 0.023279,
     "end_time": "2021-01-18T19:13:57.881102",
     "exception": false,
     "start_time": "2021-01-18T19:13:57.857823",
     "status": "completed"
    },
    "tags": []
   },
   "source": [
    "### 3) Selecting the right questions\n",
    "\n",
    "A lot of this data is text. \n",
    "\n",
    "We'll explore one last technique in this course which you can apply to this text.\n",
    "\n",
    "A **WHERE** clause can limit your results to rows with certain text using the **LIKE** feature. For example, to select just the third row of the `pets` table from the tutorial, we could use the query in the picture below.\n",
    "\n",
    "![](https://i.imgur.com/RccsXBr.png) \n",
    "\n",
    "You can also use `%` as a \"wildcard\" for any number of characters. So you can also get the third row with:\n",
    "\n",
    "```\n",
    "query = \"\"\"\n",
    "        SELECT * \n",
    "        FROM `bigquery-public-data.pet_records.pets` \n",
    "        WHERE Name LIKE '%ipl%'\n",
    "        \"\"\"\n",
    "```\n",
    "\n",
    "Try this yourself. Write a query that selects the `id`, `title` and `owner_user_id` columns from the `posts_questions` table. \n",
    "- Restrict the results to rows that contain the word \"bigquery\" in the `tags` column. \n",
    "- Include rows where there is other text in addition to the word \"bigquery\" (e.g., if a row has a tag \"bigquery-sql\", your results should include that too)."
   ]
  },
  {
   "cell_type": "code",
   "execution_count": 8,
   "metadata": {
    "execution": {
     "iopub.execute_input": "2021-01-18T19:13:57.937096Z",
     "iopub.status.busy": "2021-01-18T19:13:57.936303Z",
     "iopub.status.idle": "2021-01-18T19:14:01.457604Z",
     "shell.execute_reply": "2021-01-18T19:14:01.456772Z"
    },
    "papermill": {
     "duration": 3.549929,
     "end_time": "2021-01-18T19:14:01.457754",
     "exception": false,
     "start_time": "2021-01-18T19:13:57.907825",
     "status": "completed"
    },
    "tags": []
   },
   "outputs": [
    {
     "name": "stdout",
     "output_type": "stream",
     "text": [
      "         id                                              title  owner_user_id\n",
      "0  37825142  Build adjacency matrix from list of weighted e...      2780230.0\n",
      "1  37832914  Loading multiple BigQuery Tables into Spark\\Ha...      5235817.0\n",
      "2  37651143  JSON parsing error in row starting at position...      4083771.0\n",
      "3  37527389                       CROSS JOIN: only two tables?      1593462.0\n",
      "4  37410611  How to fix accidentally duplicated data in a B...       194000.0\n"
     ]
    },
    {
     "data": {
      "application/javascript": [
       "parent.postMessage({\"jupyterEvent\": \"custom.exercise_interaction\", \"data\": {\"outcomeType\": 1, \"valueTowardsCompletion\": 0.16666666666666666, \"interactionType\": 1, \"questionType\": 2, \"questionId\": \"3_SelectRightQuestions\", \"learnToolsVersion\": \"0.3.4\", \"failureMessage\": \"\", \"exceptionClass\": \"\", \"trace\": \"\"}}, \"*\")"
      ],
      "text/plain": [
       "<IPython.core.display.Javascript object>"
      ]
     },
     "metadata": {},
     "output_type": "display_data"
    },
    {
     "data": {
      "text/markdown": [
       "<span style=\"color:#33cc33\">Correct</span>"
      ],
      "text/plain": [
       "Correct"
      ]
     },
     "metadata": {},
     "output_type": "display_data"
    }
   ],
   "source": [
    "# Your code here\n",
    "questions_query = \"\"\"\n",
    "                  SELECT id, title, owner_user_id\n",
    "                  FROM `bigquery-public-data.stackoverflow.posts_questions`\n",
    "                  WHERE tags LIKE '%bigquery%'\n",
    "                  \"\"\"\n",
    "\n",
    "# Set up the query (cancel the query if it would use too much of \n",
    "# your quota, with the limit set to 1 GB)\n",
    "safe_config = bigquery.QueryJobConfig(maximum_bytes_billed=10**10)\n",
    "questions_query_job = client.query(questions_query, job_config=safe_config) # Your code goes here\n",
    "\n",
    "# API request - run the query, and return a pandas DataFrame\n",
    "questions_results = questions_query_job.to_dataframe() # Your code goes here\n",
    "\n",
    "# Preview results\n",
    "print(questions_results.head())\n",
    "\n",
    "# Check your answer\n",
    "q_3.check()"
   ]
  },
  {
   "cell_type": "markdown",
   "metadata": {
    "papermill": {
     "duration": 0.025621,
     "end_time": "2021-01-18T19:14:01.513562",
     "exception": false,
     "start_time": "2021-01-18T19:14:01.487941",
     "status": "completed"
    },
    "tags": []
   },
   "source": [
    "For a hint or the solution, uncomment the appropriate line below."
   ]
  },
  {
   "cell_type": "code",
   "execution_count": 9,
   "metadata": {
    "execution": {
     "iopub.execute_input": "2021-01-18T19:14:01.569837Z",
     "iopub.status.busy": "2021-01-18T19:14:01.569091Z",
     "iopub.status.idle": "2021-01-18T19:14:01.572330Z",
     "shell.execute_reply": "2021-01-18T19:14:01.571745Z"
    },
    "papermill": {
     "duration": 0.032874,
     "end_time": "2021-01-18T19:14:01.572464",
     "exception": false,
     "start_time": "2021-01-18T19:14:01.539590",
     "status": "completed"
    },
    "tags": []
   },
   "outputs": [],
   "source": [
    "#q_3.hint()\n",
    "#q_3.solution()"
   ]
  },
  {
   "cell_type": "markdown",
   "metadata": {
    "papermill": {
     "duration": 0.02561,
     "end_time": "2021-01-18T19:14:01.624370",
     "exception": false,
     "start_time": "2021-01-18T19:14:01.598760",
     "status": "completed"
    },
    "tags": []
   },
   "source": [
    "### 4) Your first join\n",
    "Now that you have a query to select questions on any given topic (in this case, you chose \"bigquery\"), you can find the answers to those questions with a **JOIN**.  \n",
    "\n",
    "Write a query that returns the `id`, `body` and `owner_user_id` columns from the `posts_answers` table for answers to \"bigquery\"-related questions. \n",
    "- You should have one row in your results for each answer to a question that has \"bigquery\" in the tags.  \n",
    "- Remember you can get the tags for a question from the `tags` column in the `posts_questions` table.\n",
    "\n",
    "Here's a reminder of what a **JOIN** looked like in the tutorial:\n",
    "```\n",
    "query = \"\"\"\n",
    "        SELECT p.Name AS Pet_Name, o.Name AS Owner_Name\n",
    "        FROM `bigquery-public-data.pet_records.pets` as p\n",
    "        INNER JOIN `bigquery-public-data.pet_records.owners` as o \n",
    "            ON p.ID = o.Pet_ID\n",
    "        \"\"\"\n",
    "```\n",
    "\n",
    "It may be useful to scroll up and review the first several rows of the `posts_answers` and `posts_questions` tables.  "
   ]
  },
  {
   "cell_type": "code",
   "execution_count": 10,
   "metadata": {
    "execution": {
     "iopub.execute_input": "2021-01-18T19:14:01.687701Z",
     "iopub.status.busy": "2021-01-18T19:14:01.686645Z",
     "iopub.status.idle": "2021-01-18T19:14:08.328084Z",
     "shell.execute_reply": "2021-01-18T19:14:08.328655Z"
    },
    "papermill": {
     "duration": 6.678947,
     "end_time": "2021-01-18T19:14:08.328832",
     "exception": false,
     "start_time": "2021-01-18T19:14:01.649885",
     "status": "completed"
    },
    "tags": []
   },
   "outputs": [
    {
     "name": "stdout",
     "output_type": "stream",
     "text": [
      "         id                                               body  owner_user_id\n",
      "0  48587773  <p>One posible approach is to handle the job l...      4495081.0\n",
      "1  48588849  <p>The table C looks like Table B plus records...      9290911.0\n",
      "2  48620815  <p>You can create the credentials by following...      3849083.0\n",
      "3  48647533  <p>As mentioned I have the same issue with dou...      8212141.0\n",
      "4  48694404  <p>You could truncate the date to exclude the ...      5439669.0\n"
     ]
    },
    {
     "data": {
      "application/javascript": [
       "parent.postMessage({\"jupyterEvent\": \"custom.exercise_interaction\", \"data\": {\"outcomeType\": 1, \"valueTowardsCompletion\": 0.16666666666666666, \"interactionType\": 1, \"questionType\": 2, \"questionId\": \"4_FirstJoin\", \"learnToolsVersion\": \"0.3.4\", \"failureMessage\": \"\", \"exceptionClass\": \"\", \"trace\": \"\"}}, \"*\")"
      ],
      "text/plain": [
       "<IPython.core.display.Javascript object>"
      ]
     },
     "metadata": {},
     "output_type": "display_data"
    },
    {
     "data": {
      "text/markdown": [
       "<span style=\"color:#33cc33\">Correct</span>"
      ],
      "text/plain": [
       "Correct"
      ]
     },
     "metadata": {},
     "output_type": "display_data"
    }
   ],
   "source": [
    "# Your code here\n",
    "answers_query = \"\"\"\n",
    "                SELECT a.id, a.body, a.owner_user_id\n",
    "                FROM `bigquery-public-data.stackoverflow.posts_questions` AS q \n",
    "                INNER JOIN `bigquery-public-data.stackoverflow.posts_answers` AS a\n",
    "                    ON q.id = a.parent_id\n",
    "                WHERE q.tags LIKE '%bigquery%'\n",
    "                \"\"\"\n",
    "\n",
    "# Set up the query\n",
    "safe_config = bigquery.QueryJobConfig(maximum_bytes_billed=10**10)\n",
    "answers_query_job = client.query(answers_query, job_config=safe_config) # Your code goes here\n",
    "\n",
    "# API request - run the query, and return a pandas DataFrame\n",
    "answers_results = answers_query_job.to_dataframe() # Your code goes here\n",
    "\n",
    "# Preview results\n",
    "print(answers_results.head())\n",
    "\n",
    "# Check your answer\n",
    "q_4.check()"
   ]
  },
  {
   "cell_type": "markdown",
   "metadata": {
    "papermill": {
     "duration": 0.029056,
     "end_time": "2021-01-18T19:14:08.386590",
     "exception": false,
     "start_time": "2021-01-18T19:14:08.357534",
     "status": "completed"
    },
    "tags": []
   },
   "source": [
    "For a hint or the solution, uncomment the appropriate line below."
   ]
  },
  {
   "cell_type": "code",
   "execution_count": 11,
   "metadata": {
    "execution": {
     "iopub.execute_input": "2021-01-18T19:14:08.450656Z",
     "iopub.status.busy": "2021-01-18T19:14:08.449872Z",
     "iopub.status.idle": "2021-01-18T19:14:08.453480Z",
     "shell.execute_reply": "2021-01-18T19:14:08.452913Z"
    },
    "papermill": {
     "duration": 0.037262,
     "end_time": "2021-01-18T19:14:08.453639",
     "exception": false,
     "start_time": "2021-01-18T19:14:08.416377",
     "status": "completed"
    },
    "tags": []
   },
   "outputs": [],
   "source": [
    "#q_4.hint()\n",
    "#q_4.solution()"
   ]
  },
  {
   "cell_type": "markdown",
   "metadata": {
    "papermill": {
     "duration": 0.027797,
     "end_time": "2021-01-18T19:14:08.511686",
     "exception": false,
     "start_time": "2021-01-18T19:14:08.483889",
     "status": "completed"
    },
    "tags": []
   },
   "source": [
    "### 5) Answer the question\n",
    "You have the merge you need. But you want a list of users who have answered many questions... which requires more work beyond your previous result.\n",
    "\n",
    "Write a new query that has a single row for each user who answered at least one question with a tag that includes the string \"bigquery\". Your results should have two columns:\n",
    "- `user_id` - contains the `owner_user_id` column from the `posts_answers` table\n",
    "- `number_of_answers` - contains the number of answers the user has written to \"bigquery\"-related questions"
   ]
  },
  {
   "cell_type": "code",
   "execution_count": 12,
   "metadata": {
    "execution": {
     "iopub.execute_input": "2021-01-18T19:14:08.574542Z",
     "iopub.status.busy": "2021-01-18T19:14:08.573710Z",
     "iopub.status.idle": "2021-01-18T19:14:09.854493Z",
     "shell.execute_reply": "2021-01-18T19:14:09.853705Z"
    },
    "papermill": {
     "duration": 1.313414,
     "end_time": "2021-01-18T19:14:09.854630",
     "exception": false,
     "start_time": "2021-01-18T19:14:08.541216",
     "status": "completed"
    },
    "tags": []
   },
   "outputs": [
    {
     "name": "stdout",
     "output_type": "stream",
     "text": [
      "      user_id  number_of_answers\n",
      "0  12852090.0                 18\n",
      "1   5651931.0                  1\n",
      "2  10121849.0                  1\n",
      "3   5621881.0                  2\n",
      "4   3010548.0                  3\n"
     ]
    },
    {
     "data": {
      "application/javascript": [
       "parent.postMessage({\"jupyterEvent\": \"custom.exercise_interaction\", \"data\": {\"outcomeType\": 1, \"valueTowardsCompletion\": 0.16666666666666666, \"interactionType\": 1, \"questionType\": 2, \"questionId\": \"5_BigQueryExperts\", \"learnToolsVersion\": \"0.3.4\", \"failureMessage\": \"\", \"exceptionClass\": \"\", \"trace\": \"\"}}, \"*\")"
      ],
      "text/plain": [
       "<IPython.core.display.Javascript object>"
      ]
     },
     "metadata": {},
     "output_type": "display_data"
    },
    {
     "data": {
      "text/markdown": [
       "<span style=\"color:#33cc33\">Correct</span>"
      ],
      "text/plain": [
       "Correct"
      ]
     },
     "metadata": {},
     "output_type": "display_data"
    }
   ],
   "source": [
    "# Your code here\n",
    "bigquery_experts_query = \"\"\"\n",
    "                         SELECT a.owner_user_id AS user_id, COUNT(1) AS number_of_answers\n",
    "                         FROM `bigquery-public-data.stackoverflow.posts_questions` AS q\n",
    "                         INNER JOIN `bigquery-public-data.stackoverflow.posts_answers` AS a\n",
    "                             ON q.id = a.parent_Id\n",
    "                         WHERE q.tags LIKE '%bigquery%'\n",
    "                         GROUP BY a.owner_user_id\n",
    "                         \"\"\"\n",
    "\n",
    "# Set up the query\n",
    "safe_config = bigquery.QueryJobConfig(maximum_bytes_billed=10**10)\n",
    "bigquery_experts_query_job = client.query(bigquery_experts_query, job_config=safe_config) # Your code goes here\n",
    "\n",
    "# API request - run the query, and return a pandas DataFrame\n",
    "bigquery_experts_results = bigquery_experts_query_job.to_dataframe() # Your code goes here\n",
    "\n",
    "# Preview results\n",
    "print(bigquery_experts_results.head())\n",
    "\n",
    "# Check your answer\n",
    "q_5.check()"
   ]
  },
  {
   "cell_type": "markdown",
   "metadata": {
    "papermill": {
     "duration": 0.031904,
     "end_time": "2021-01-18T19:14:09.916854",
     "exception": false,
     "start_time": "2021-01-18T19:14:09.884950",
     "status": "completed"
    },
    "tags": []
   },
   "source": [
    "For a hint or the solution, uncomment the appropriate line below."
   ]
  },
  {
   "cell_type": "code",
   "execution_count": 13,
   "metadata": {
    "execution": {
     "iopub.execute_input": "2021-01-18T19:14:09.982023Z",
     "iopub.status.busy": "2021-01-18T19:14:09.981205Z",
     "iopub.status.idle": "2021-01-18T19:14:09.985602Z",
     "shell.execute_reply": "2021-01-18T19:14:09.984798Z"
    },
    "papermill": {
     "duration": 0.039058,
     "end_time": "2021-01-18T19:14:09.985756",
     "exception": false,
     "start_time": "2021-01-18T19:14:09.946698",
     "status": "completed"
    },
    "tags": []
   },
   "outputs": [],
   "source": [
    "#q_5.hint()\n",
    "#q_5.solution()"
   ]
  },
  {
   "cell_type": "markdown",
   "metadata": {
    "papermill": {
     "duration": 0.029358,
     "end_time": "2021-01-18T19:14:10.044882",
     "exception": false,
     "start_time": "2021-01-18T19:14:10.015524",
     "status": "completed"
    },
    "tags": []
   },
   "source": [
    "### 6) Building a more generally useful service\n",
    "\n",
    "How could you convert what you've done to a general function a website could call on the backend to get experts on any topic?  \n",
    "\n",
    "Think about it and then check the solution below."
   ]
  },
  {
   "cell_type": "code",
   "execution_count": 14,
   "metadata": {
    "execution": {
     "iopub.execute_input": "2021-01-18T19:14:10.110589Z",
     "iopub.status.busy": "2021-01-18T19:14:10.109858Z",
     "iopub.status.idle": "2021-01-18T19:14:10.116202Z",
     "shell.execute_reply": "2021-01-18T19:14:10.116699Z"
    },
    "papermill": {
     "duration": 0.042291,
     "end_time": "2021-01-18T19:14:10.116850",
     "exception": false,
     "start_time": "2021-01-18T19:14:10.074559",
     "status": "completed"
    },
    "tags": []
   },
   "outputs": [
    {
     "data": {
      "application/javascript": [
       "parent.postMessage({\"jupyterEvent\": \"custom.exercise_interaction\", \"data\": {\"interactionType\": 3, \"questionType\": 4, \"questionId\": \"6_GeneralizeExpertFinder\", \"learnToolsVersion\": \"0.3.4\", \"valueTowardsCompletion\": 0.0, \"failureMessage\": \"\", \"exceptionClass\": \"\", \"trace\": \"\", \"outcomeType\": 4}}, \"*\")"
      ],
      "text/plain": [
       "<IPython.core.display.Javascript object>"
      ]
     },
     "metadata": {},
     "output_type": "display_data"
    },
    {
     "data": {
      "text/markdown": [
       "<span style=\"color:#33cc99\">Solution:</span> \n",
       "```python\n",
       "\n",
       "def expert_finder(topic, client):\n",
       "    '''\n",
       "    Returns a DataFrame with the user IDs who have written Stack Overflow answers on a topic.\n",
       "\n",
       "    Inputs:\n",
       "        topic: A string with the topic of interest\n",
       "        client: A Client object that specifies the connection to the Stack Overflow dataset\n",
       "\n",
       "    Outputs:\n",
       "        results: A DataFrame with columns for user_id and number_of_answers. Follows similar logic to bigquery_experts_results shown above.\n",
       "    '''\n",
       "    my_query = \"\"\"\n",
       "               SELECT a.owner_user_id AS user_id, COUNT(1) AS number_of_answers\n",
       "               FROM `bigquery-public-data.stackoverflow.posts_questions` AS q\n",
       "               INNER JOIN `bigquery-public-data.stackoverflow.posts_answers` AS a\n",
       "                   ON q.id = a.parent_Id\n",
       "               WHERE q.tags like '%{topic}%'\n",
       "               GROUP BY a.owner_user_id\n",
       "               \"\"\"\n",
       "               \n",
       "    # Set up the query (a real service would have good error handling for \n",
       "    # queries that scan too much data)\n",
       "    safe_config = bigquery.QueryJobConfig(maximum_bytes_billed=10**10)      \n",
       "    my_query_job = client.query(my_query, job_config=safe_config)\n",
       "    \n",
       "    # API request - run the query, and return a pandas DataFrame\n",
       "    results = my_query_job.to_dataframe()\n",
       "\n",
       "    return results\n",
       "\n",
       "```"
      ],
      "text/plain": [
       "Solution: \n",
       "```python\n",
       "\n",
       "def expert_finder(topic, client):\n",
       "    '''\n",
       "    Returns a DataFrame with the user IDs who have written Stack Overflow answers on a topic.\n",
       "\n",
       "    Inputs:\n",
       "        topic: A string with the topic of interest\n",
       "        client: A Client object that specifies the connection to the Stack Overflow dataset\n",
       "\n",
       "    Outputs:\n",
       "        results: A DataFrame with columns for user_id and number_of_answers. Follows similar logic to bigquery_experts_results shown above.\n",
       "    '''\n",
       "    my_query = \"\"\"\n",
       "               SELECT a.owner_user_id AS user_id, COUNT(1) AS number_of_answers\n",
       "               FROM `bigquery-public-data.stackoverflow.posts_questions` AS q\n",
       "               INNER JOIN `bigquery-public-data.stackoverflow.posts_answers` AS a\n",
       "                   ON q.id = a.parent_Id\n",
       "               WHERE q.tags like '%{topic}%'\n",
       "               GROUP BY a.owner_user_id\n",
       "               \"\"\"\n",
       "               \n",
       "    # Set up the query (a real service would have good error handling for \n",
       "    # queries that scan too much data)\n",
       "    safe_config = bigquery.QueryJobConfig(maximum_bytes_billed=10**10)      \n",
       "    my_query_job = client.query(my_query, job_config=safe_config)\n",
       "    \n",
       "    # API request - run the query, and return a pandas DataFrame\n",
       "    results = my_query_job.to_dataframe()\n",
       "\n",
       "    return results\n",
       "\n",
       "```"
      ]
     },
     "metadata": {},
     "output_type": "display_data"
    }
   ],
   "source": [
    "# Check your answer (Run this code cell to receive credit!)\n",
    "q_6.solution()"
   ]
  },
  {
   "cell_type": "markdown",
   "metadata": {
    "papermill": {
     "duration": 0.031327,
     "end_time": "2021-01-18T19:14:10.179316",
     "exception": false,
     "start_time": "2021-01-18T19:14:10.147989",
     "status": "completed"
    },
    "tags": []
   },
   "source": [
    "# Congratulations!\n",
    "\n",
    "You know all the key components to use BigQuery and SQL effectively. Your SQL skills are sufficient to unlock many of the world's largest datasets.\n",
    "\n",
    "Want to go play with your new powers?  Kaggle has BigQuery datasets available [here](https://www.kaggle.com/datasets?fileType=bigQuery)."
   ]
  },
  {
   "cell_type": "markdown",
   "metadata": {
    "papermill": {
     "duration": 0.030157,
     "end_time": "2021-01-18T19:14:10.239641",
     "exception": false,
     "start_time": "2021-01-18T19:14:10.209484",
     "status": "completed"
    },
    "tags": []
   },
   "source": [
    "---\n",
    "\n",
    "\n",
    "\n",
    "\n",
    "*Have questions or comments? Visit the [Learn Discussion forum](https://www.kaggle.com/learn-forum/161314) to chat with other Learners.*"
   ]
  }
 ],
 "metadata": {
  "kernelspec": {
   "display_name": "Python 3",
   "language": "python",
   "name": "python3"
  },
  "language_info": {
   "codemirror_mode": {
    "name": "ipython",
    "version": 3
   },
   "file_extension": ".py",
   "mimetype": "text/x-python",
   "name": "python",
   "nbconvert_exporter": "python",
   "pygments_lexer": "ipython3",
   "version": "3.7.6"
  },
  "papermill": {
   "duration": 31.561547,
   "end_time": "2021-01-18T19:14:10.378657",
   "environment_variables": {},
   "exception": null,
   "input_path": "__notebook__.ipynb",
   "output_path": "__notebook__.ipynb",
   "parameters": {},
   "start_time": "2021-01-18T19:13:38.817110",
   "version": "2.1.0"
  }
 },
 "nbformat": 4,
 "nbformat_minor": 4
}
