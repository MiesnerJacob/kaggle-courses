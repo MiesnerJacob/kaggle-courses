{
 "cells": [
  {
   "cell_type": "markdown",
   "metadata": {
    "papermill": {
     "duration": 0.017689,
     "end_time": "2021-01-24T18:32:30.217945",
     "exception": false,
     "start_time": "2021-01-24T18:32:30.200256",
     "status": "completed"
    },
    "tags": []
   },
   "source": [
    "**This notebook is an exercise in the [Advanced SQL](https://www.kaggle.com/learn/advanced-sql) course.  You can reference the tutorial at [this link](https://www.kaggle.com/alexisbcook/analytic-functions).**\n",
    "\n",
    "---\n"
   ]
  },
  {
   "cell_type": "markdown",
   "metadata": {
    "papermill": {
     "duration": 0.014175,
     "end_time": "2021-01-24T18:32:30.248068",
     "exception": false,
     "start_time": "2021-01-24T18:32:30.233893",
     "status": "completed"
    },
    "tags": []
   },
   "source": [
    "# Introduction\n",
    "\n",
    "Here, you'll use window functions to answer questions about the [Chicago Taxi Trips](https://www.kaggle.com/chicago/chicago-taxi-trips-bq) dataset.\n",
    "\n",
    "Before you get started, run the code cell below to set everything up."
   ]
  },
  {
   "cell_type": "code",
   "execution_count": 1,
   "metadata": {
    "execution": {
     "iopub.execute_input": "2021-01-24T18:32:30.283567Z",
     "iopub.status.busy": "2021-01-24T18:32:30.282662Z",
     "iopub.status.idle": "2021-01-24T18:32:41.958072Z",
     "shell.execute_reply": "2021-01-24T18:32:41.956103Z"
    },
    "papermill": {
     "duration": 11.695993,
     "end_time": "2021-01-24T18:32:41.958380",
     "exception": false,
     "start_time": "2021-01-24T18:32:30.262387",
     "status": "completed"
    },
    "tags": []
   },
   "outputs": [
    {
     "name": "stdout",
     "output_type": "stream",
     "text": [
      "Using Kaggle's public dataset BigQuery integration.\n",
      "Setup Complete\n"
     ]
    }
   ],
   "source": [
    "# Set up feedback system\n",
    "from learntools.core import binder\n",
    "binder.bind(globals())\n",
    "from learntools.sql_advanced.ex2 import *\n",
    "print(\"Setup Complete\")"
   ]
  },
  {
   "cell_type": "markdown",
   "metadata": {
    "papermill": {
     "duration": 0.015596,
     "end_time": "2021-01-24T18:32:41.991560",
     "exception": false,
     "start_time": "2021-01-24T18:32:41.975964",
     "status": "completed"
    },
    "tags": []
   },
   "source": [
    "The following code cell fetches the `taxi_trips` table from the `chicago_taxi_trips` dataset. We also preview the first five rows of the table.  You'll use the table to answer the questions below."
   ]
  },
  {
   "cell_type": "code",
   "execution_count": 2,
   "metadata": {
    "execution": {
     "iopub.execute_input": "2021-01-24T18:32:42.038108Z",
     "iopub.status.busy": "2021-01-24T18:32:42.037244Z",
     "iopub.status.idle": "2021-01-24T18:32:42.906538Z",
     "shell.execute_reply": "2021-01-24T18:32:42.907047Z"
    },
    "papermill": {
     "duration": 0.899608,
     "end_time": "2021-01-24T18:32:42.907202",
     "exception": false,
     "start_time": "2021-01-24T18:32:42.007594",
     "status": "completed"
    },
    "tags": []
   },
   "outputs": [
    {
     "name": "stdout",
     "output_type": "stream",
     "text": [
      "Using Kaggle's public dataset BigQuery integration.\n"
     ]
    },
    {
     "data": {
      "text/html": [
       "<div>\n",
       "<style scoped>\n",
       "    .dataframe tbody tr th:only-of-type {\n",
       "        vertical-align: middle;\n",
       "    }\n",
       "\n",
       "    .dataframe tbody tr th {\n",
       "        vertical-align: top;\n",
       "    }\n",
       "\n",
       "    .dataframe thead th {\n",
       "        text-align: right;\n",
       "    }\n",
       "</style>\n",
       "<table border=\"1\" class=\"dataframe\">\n",
       "  <thead>\n",
       "    <tr style=\"text-align: right;\">\n",
       "      <th></th>\n",
       "      <th>unique_key</th>\n",
       "      <th>taxi_id</th>\n",
       "      <th>trip_start_timestamp</th>\n",
       "      <th>trip_end_timestamp</th>\n",
       "      <th>trip_seconds</th>\n",
       "      <th>trip_miles</th>\n",
       "      <th>pickup_census_tract</th>\n",
       "      <th>dropoff_census_tract</th>\n",
       "      <th>pickup_community_area</th>\n",
       "      <th>dropoff_community_area</th>\n",
       "      <th>...</th>\n",
       "      <th>extras</th>\n",
       "      <th>trip_total</th>\n",
       "      <th>payment_type</th>\n",
       "      <th>company</th>\n",
       "      <th>pickup_latitude</th>\n",
       "      <th>pickup_longitude</th>\n",
       "      <th>pickup_location</th>\n",
       "      <th>dropoff_latitude</th>\n",
       "      <th>dropoff_longitude</th>\n",
       "      <th>dropoff_location</th>\n",
       "    </tr>\n",
       "  </thead>\n",
       "  <tbody>\n",
       "    <tr>\n",
       "      <th>0</th>\n",
       "      <td>2aa11ba5fdada1abcd60efeab6983c762d73df77</td>\n",
       "      <td>ecac7e5cafa5aed2b37a75e9888b0eb2a38a9ab5100c94...</td>\n",
       "      <td>2016-03-09 08:45:00+00:00</td>\n",
       "      <td>2016-03-09 08:45:00+00:00</td>\n",
       "      <td>0</td>\n",
       "      <td>0.0</td>\n",
       "      <td>None</td>\n",
       "      <td>None</td>\n",
       "      <td>None</td>\n",
       "      <td>None</td>\n",
       "      <td>...</td>\n",
       "      <td>0.0</td>\n",
       "      <td>8.70</td>\n",
       "      <td>Credit Card</td>\n",
       "      <td>Chicago Elite Cab Corp. (Chicago Carriag</td>\n",
       "      <td>None</td>\n",
       "      <td>None</td>\n",
       "      <td>None</td>\n",
       "      <td>None</td>\n",
       "      <td>None</td>\n",
       "      <td>None</td>\n",
       "    </tr>\n",
       "    <tr>\n",
       "      <th>1</th>\n",
       "      <td>4db6678c2c1d2458ed01713919651666917ba33e</td>\n",
       "      <td>24a472542efb2433c8f46ed2c0c08c39538e1c41c0178f...</td>\n",
       "      <td>2016-03-08 16:00:00+00:00</td>\n",
       "      <td>2016-03-08 16:00:00+00:00</td>\n",
       "      <td>0</td>\n",
       "      <td>0.0</td>\n",
       "      <td>None</td>\n",
       "      <td>None</td>\n",
       "      <td>None</td>\n",
       "      <td>None</td>\n",
       "      <td>...</td>\n",
       "      <td>0.0</td>\n",
       "      <td>12.60</td>\n",
       "      <td>Credit Card</td>\n",
       "      <td>Chicago Elite Cab Corp. (Chicago Carriag</td>\n",
       "      <td>None</td>\n",
       "      <td>None</td>\n",
       "      <td>None</td>\n",
       "      <td>None</td>\n",
       "      <td>None</td>\n",
       "      <td>None</td>\n",
       "    </tr>\n",
       "    <tr>\n",
       "      <th>2</th>\n",
       "      <td>2ce0b8e189e622b51b75e3918b0068b3af79d8e8</td>\n",
       "      <td>5a7a34964ad3fbda860c6dbec8eabf560e85d11b7303b1...</td>\n",
       "      <td>2014-10-09 18:00:00+00:00</td>\n",
       "      <td>2014-10-09 18:00:00+00:00</td>\n",
       "      <td>0</td>\n",
       "      <td>0.0</td>\n",
       "      <td>None</td>\n",
       "      <td>None</td>\n",
       "      <td>None</td>\n",
       "      <td>None</td>\n",
       "      <td>...</td>\n",
       "      <td>0.0</td>\n",
       "      <td>24.78</td>\n",
       "      <td>Credit Card</td>\n",
       "      <td>Chicago Elite Cab Corp. (Chicago Carriag</td>\n",
       "      <td>None</td>\n",
       "      <td>None</td>\n",
       "      <td>None</td>\n",
       "      <td>None</td>\n",
       "      <td>None</td>\n",
       "      <td>None</td>\n",
       "    </tr>\n",
       "    <tr>\n",
       "      <th>3</th>\n",
       "      <td>e04f0c02a3b19d20101030753d58625bf5b72575</td>\n",
       "      <td>ab2b9a0930835b7c79d794179c4e53c68aee771064e532...</td>\n",
       "      <td>2014-11-17 15:00:00+00:00</td>\n",
       "      <td>2014-11-17 15:00:00+00:00</td>\n",
       "      <td>0</td>\n",
       "      <td>0.0</td>\n",
       "      <td>None</td>\n",
       "      <td>None</td>\n",
       "      <td>None</td>\n",
       "      <td>None</td>\n",
       "      <td>...</td>\n",
       "      <td>0.0</td>\n",
       "      <td>48.65</td>\n",
       "      <td>Credit Card</td>\n",
       "      <td>Chicago Elite Cab Corp. (Chicago Carriag</td>\n",
       "      <td>None</td>\n",
       "      <td>None</td>\n",
       "      <td>None</td>\n",
       "      <td>None</td>\n",
       "      <td>None</td>\n",
       "      <td>None</td>\n",
       "    </tr>\n",
       "    <tr>\n",
       "      <th>4</th>\n",
       "      <td>64db1b5bfaf05da4f699d33f317897a255bb3bca</td>\n",
       "      <td>b968bad5a2daed924a10e8ec4fb35513e060a076c575f7...</td>\n",
       "      <td>2014-09-24 19:15:00+00:00</td>\n",
       "      <td>2014-09-24 19:15:00+00:00</td>\n",
       "      <td>0</td>\n",
       "      <td>0.0</td>\n",
       "      <td>None</td>\n",
       "      <td>None</td>\n",
       "      <td>None</td>\n",
       "      <td>None</td>\n",
       "      <td>...</td>\n",
       "      <td>0.0</td>\n",
       "      <td>45.00</td>\n",
       "      <td>Credit Card</td>\n",
       "      <td>T.A.S. - Payment Only</td>\n",
       "      <td>None</td>\n",
       "      <td>None</td>\n",
       "      <td>None</td>\n",
       "      <td>None</td>\n",
       "      <td>None</td>\n",
       "      <td>None</td>\n",
       "    </tr>\n",
       "  </tbody>\n",
       "</table>\n",
       "<p>5 rows × 23 columns</p>\n",
       "</div>"
      ],
      "text/plain": [
       "                                 unique_key  \\\n",
       "0  2aa11ba5fdada1abcd60efeab6983c762d73df77   \n",
       "1  4db6678c2c1d2458ed01713919651666917ba33e   \n",
       "2  2ce0b8e189e622b51b75e3918b0068b3af79d8e8   \n",
       "3  e04f0c02a3b19d20101030753d58625bf5b72575   \n",
       "4  64db1b5bfaf05da4f699d33f317897a255bb3bca   \n",
       "\n",
       "                                             taxi_id  \\\n",
       "0  ecac7e5cafa5aed2b37a75e9888b0eb2a38a9ab5100c94...   \n",
       "1  24a472542efb2433c8f46ed2c0c08c39538e1c41c0178f...   \n",
       "2  5a7a34964ad3fbda860c6dbec8eabf560e85d11b7303b1...   \n",
       "3  ab2b9a0930835b7c79d794179c4e53c68aee771064e532...   \n",
       "4  b968bad5a2daed924a10e8ec4fb35513e060a076c575f7...   \n",
       "\n",
       "       trip_start_timestamp        trip_end_timestamp  trip_seconds  \\\n",
       "0 2016-03-09 08:45:00+00:00 2016-03-09 08:45:00+00:00             0   \n",
       "1 2016-03-08 16:00:00+00:00 2016-03-08 16:00:00+00:00             0   \n",
       "2 2014-10-09 18:00:00+00:00 2014-10-09 18:00:00+00:00             0   \n",
       "3 2014-11-17 15:00:00+00:00 2014-11-17 15:00:00+00:00             0   \n",
       "4 2014-09-24 19:15:00+00:00 2014-09-24 19:15:00+00:00             0   \n",
       "\n",
       "   trip_miles pickup_census_tract dropoff_census_tract pickup_community_area  \\\n",
       "0         0.0                None                 None                  None   \n",
       "1         0.0                None                 None                  None   \n",
       "2         0.0                None                 None                  None   \n",
       "3         0.0                None                 None                  None   \n",
       "4         0.0                None                 None                  None   \n",
       "\n",
       "  dropoff_community_area  ...  extras  trip_total  payment_type  \\\n",
       "0                   None  ...     0.0        8.70   Credit Card   \n",
       "1                   None  ...     0.0       12.60   Credit Card   \n",
       "2                   None  ...     0.0       24.78   Credit Card   \n",
       "3                   None  ...     0.0       48.65   Credit Card   \n",
       "4                   None  ...     0.0       45.00   Credit Card   \n",
       "\n",
       "                                    company  pickup_latitude pickup_longitude  \\\n",
       "0  Chicago Elite Cab Corp. (Chicago Carriag             None             None   \n",
       "1  Chicago Elite Cab Corp. (Chicago Carriag             None             None   \n",
       "2  Chicago Elite Cab Corp. (Chicago Carriag             None             None   \n",
       "3  Chicago Elite Cab Corp. (Chicago Carriag             None             None   \n",
       "4                     T.A.S. - Payment Only             None             None   \n",
       "\n",
       "  pickup_location dropoff_latitude dropoff_longitude dropoff_location  \n",
       "0            None             None              None             None  \n",
       "1            None             None              None             None  \n",
       "2            None             None              None             None  \n",
       "3            None             None              None             None  \n",
       "4            None             None              None             None  \n",
       "\n",
       "[5 rows x 23 columns]"
      ]
     },
     "execution_count": 2,
     "metadata": {},
     "output_type": "execute_result"
    }
   ],
   "source": [
    "from google.cloud import bigquery\n",
    "\n",
    "# Create a \"Client\" object\n",
    "client = bigquery.Client()\n",
    "\n",
    "# Construct a reference to the \"chicago_taxi_trips\" dataset\n",
    "dataset_ref = client.dataset(\"chicago_taxi_trips\", project=\"bigquery-public-data\")\n",
    "\n",
    "# API request - fetch the dataset\n",
    "dataset = client.get_dataset(dataset_ref)\n",
    "\n",
    "# Construct a reference to the \"taxi_trips\" table\n",
    "table_ref = dataset_ref.table(\"taxi_trips\")\n",
    "\n",
    "# API request - fetch the table\n",
    "table = client.get_table(table_ref)\n",
    "\n",
    "# Preview the first five lines of the table\n",
    "client.list_rows(table, max_results=5).to_dataframe()"
   ]
  },
  {
   "cell_type": "markdown",
   "metadata": {
    "papermill": {
     "duration": 0.011547,
     "end_time": "2021-01-24T18:32:42.930589",
     "exception": false,
     "start_time": "2021-01-24T18:32:42.919042",
     "status": "completed"
    },
    "tags": []
   },
   "source": [
    "# Exercises\n",
    "\n",
    "### 1) How can you predict the demand for taxis?\n",
    "\n",
    "Say you work for a taxi company, and you're interested in predicting the demand for taxis.  Towards this goal, you'd like to create a plot that shows a rolling average of the daily number of taxi trips.  Amend the (partial) query below to return a DataFrame with two columns:\n",
    "- `trip_date` - contains one entry for each date from January 1, 2016, to December 31, 2017.\n",
    "- `avg_num_trips` - shows the average number of daily trips, calculated over a window including the value for the current date, along with the values for the preceding 15 days and the following 15 days, as long as the days fit within the two-year time frame.  For instance, when calculating the value in this column for January 5, 2016, the window will include the number of trips for the preceding 4 days, the current date, and the following 15 days.\n",
    "\n",
    "This query is partially completed for you, and you need only write the part that calculates the `avg_num_trips` column.  Note that this query uses a common table expression (CTE); if you need to review how to use CTEs, you're encouraged to check out [this tutorial](https://www.kaggle.com/dansbecker/as-with) in the [Intro to SQL](https://www.kaggle.com/learn/intro-to-sql) micro-course."
   ]
  },
  {
   "cell_type": "code",
   "execution_count": 3,
   "metadata": {
    "execution": {
     "iopub.execute_input": "2021-01-24T18:32:42.959264Z",
     "iopub.status.busy": "2021-01-24T18:32:42.958576Z",
     "iopub.status.idle": "2021-01-24T18:32:43.728900Z",
     "shell.execute_reply": "2021-01-24T18:32:43.728113Z"
    },
    "papermill": {
     "duration": 0.786529,
     "end_time": "2021-01-24T18:32:43.729036",
     "exception": false,
     "start_time": "2021-01-24T18:32:42.942507",
     "status": "completed"
    },
    "tags": []
   },
   "outputs": [
    {
     "data": {
      "text/html": [
       "<div>\n",
       "<style scoped>\n",
       "    .dataframe tbody tr th:only-of-type {\n",
       "        vertical-align: middle;\n",
       "    }\n",
       "\n",
       "    .dataframe tbody tr th {\n",
       "        vertical-align: top;\n",
       "    }\n",
       "\n",
       "    .dataframe thead th {\n",
       "        text-align: right;\n",
       "    }\n",
       "</style>\n",
       "<table border=\"1\" class=\"dataframe\">\n",
       "  <thead>\n",
       "    <tr style=\"text-align: right;\">\n",
       "      <th></th>\n",
       "      <th>trip_date</th>\n",
       "      <th>avg_num_trips</th>\n",
       "    </tr>\n",
       "  </thead>\n",
       "  <tbody>\n",
       "    <tr>\n",
       "      <th>0</th>\n",
       "      <td>2016-01-01</td>\n",
       "      <td>80461.937500</td>\n",
       "    </tr>\n",
       "    <tr>\n",
       "      <th>1</th>\n",
       "      <td>2016-01-02</td>\n",
       "      <td>80150.647059</td>\n",
       "    </tr>\n",
       "    <tr>\n",
       "      <th>2</th>\n",
       "      <td>2016-01-03</td>\n",
       "      <td>79419.611111</td>\n",
       "    </tr>\n",
       "    <tr>\n",
       "      <th>3</th>\n",
       "      <td>2016-01-04</td>\n",
       "      <td>79810.421053</td>\n",
       "    </tr>\n",
       "    <tr>\n",
       "      <th>4</th>\n",
       "      <td>2016-01-05</td>\n",
       "      <td>80293.900000</td>\n",
       "    </tr>\n",
       "  </tbody>\n",
       "</table>\n",
       "</div>"
      ],
      "text/plain": [
       "    trip_date  avg_num_trips\n",
       "0  2016-01-01   80461.937500\n",
       "1  2016-01-02   80150.647059\n",
       "2  2016-01-03   79419.611111\n",
       "3  2016-01-04   79810.421053\n",
       "4  2016-01-05   80293.900000"
      ]
     },
     "metadata": {},
     "output_type": "display_data"
    },
    {
     "data": {
      "application/javascript": [
       "parent.postMessage({\"jupyterEvent\": \"custom.exercise_interaction\", \"data\": {\"outcomeType\": 1, \"valueTowardsCompletion\": 0.3333333333333333, \"interactionType\": 1, \"questionType\": 2, \"questionId\": \"1_TaxiDemand\", \"learnToolsVersion\": \"0.3.4\", \"failureMessage\": \"\", \"exceptionClass\": \"\", \"trace\": \"\"}}, \"*\")"
      ],
      "text/plain": [
       "<IPython.core.display.Javascript object>"
      ]
     },
     "metadata": {},
     "output_type": "display_data"
    },
    {
     "data": {
      "text/markdown": [
       "<span style=\"color:#33cc33\">Correct</span>"
      ],
      "text/plain": [
       "Correct"
      ]
     },
     "metadata": {},
     "output_type": "display_data"
    }
   ],
   "source": [
    "# Fill in the blank below\n",
    "avg_num_trips_query = \"\"\"\n",
    "                      WITH trips_by_day AS\n",
    "                      (\n",
    "                      SELECT DATE(trip_start_timestamp) AS trip_date,\n",
    "                          COUNT(*) as num_trips\n",
    "                      FROM `bigquery-public-data.chicago_taxi_trips.taxi_trips`\n",
    "                      WHERE trip_start_timestamp >= '2016-01-01' AND trip_start_timestamp < '2018-01-01'\n",
    "                      GROUP BY trip_date\n",
    "                      ORDER BY trip_date\n",
    "                      )\n",
    "                      SELECT trip_date,\n",
    "                          AVG(num_trips)\n",
    "                          OVER (\n",
    "                               ORDER BY trip_date\n",
    "                               ROWS BETWEEN 15 PRECEDING AND 15 FOLLOWING\n",
    "                               ) AS avg_num_trips\n",
    "                      FROM trips_by_day\n",
    "                      \"\"\"\n",
    "\n",
    "# Check your answer\n",
    "q_1.check()"
   ]
  },
  {
   "cell_type": "code",
   "execution_count": 4,
   "metadata": {
    "execution": {
     "iopub.execute_input": "2021-01-24T18:32:43.773815Z",
     "iopub.status.busy": "2021-01-24T18:32:43.773118Z",
     "iopub.status.idle": "2021-01-24T18:32:43.776149Z",
     "shell.execute_reply": "2021-01-24T18:32:43.776857Z"
    },
    "papermill": {
     "duration": 0.027597,
     "end_time": "2021-01-24T18:32:43.777004",
     "exception": false,
     "start_time": "2021-01-24T18:32:43.749407",
     "status": "completed"
    },
    "tags": []
   },
   "outputs": [],
   "source": [
    "# Lines below will give you a hint or solution code\n",
    "#q_1.hint()\n",
    "#q_1.solution()"
   ]
  },
  {
   "cell_type": "markdown",
   "metadata": {
    "papermill": {
     "duration": 0.01371,
     "end_time": "2021-01-24T18:32:43.804821",
     "exception": false,
     "start_time": "2021-01-24T18:32:43.791111",
     "status": "completed"
    },
    "tags": []
   },
   "source": [
    "### 2) Can you separate and order trips by community area?\n",
    "\n",
    "The query below returns a DataFrame with three columns from the table: `pickup_community_area`, `trip_start_timestamp`, and `trip_end_timestamp`.  \n",
    "\n",
    "Amend the query to return an additional column called `trip_number` which shows the order in which the trips were taken from their respective community areas.  So, the first trip of the day originating from community area 1 should receive a value of 1; the second trip of the day from the same area should receive a value of 2.  Likewise, the first trip of the day from community area 2 should receive a value of 1, and so on.\n",
    "\n",
    "Note that there are many numbering functions that can be used to solve this problem (depending on how you want to deal with trips that started at the same time from the same community area); to answer this question, please use the **RANK()** function."
   ]
  },
  {
   "cell_type": "code",
   "execution_count": 5,
   "metadata": {
    "execution": {
     "iopub.execute_input": "2021-01-24T18:32:43.836108Z",
     "iopub.status.busy": "2021-01-24T18:32:43.835517Z",
     "iopub.status.idle": "2021-01-24T18:32:47.886326Z",
     "shell.execute_reply": "2021-01-24T18:32:47.885763Z"
    },
    "papermill": {
     "duration": 4.067777,
     "end_time": "2021-01-24T18:32:47.886433",
     "exception": false,
     "start_time": "2021-01-24T18:32:43.818656",
     "status": "completed"
    },
    "tags": []
   },
   "outputs": [
    {
     "data": {
      "text/html": [
       "<div>\n",
       "<style scoped>\n",
       "    .dataframe tbody tr th:only-of-type {\n",
       "        vertical-align: middle;\n",
       "    }\n",
       "\n",
       "    .dataframe tbody tr th {\n",
       "        vertical-align: top;\n",
       "    }\n",
       "\n",
       "    .dataframe thead th {\n",
       "        text-align: right;\n",
       "    }\n",
       "</style>\n",
       "<table border=\"1\" class=\"dataframe\">\n",
       "  <thead>\n",
       "    <tr style=\"text-align: right;\">\n",
       "      <th></th>\n",
       "      <th>pickup_community_area</th>\n",
       "      <th>trip_start_timestamp</th>\n",
       "      <th>trip_end_timestamp</th>\n",
       "      <th>trip_number</th>\n",
       "    </tr>\n",
       "  </thead>\n",
       "  <tbody>\n",
       "    <tr>\n",
       "      <th>0</th>\n",
       "      <td>4.0</td>\n",
       "      <td>2017-05-01 00:00:00+00:00</td>\n",
       "      <td>2017-05-01 00:00:00+00:00</td>\n",
       "      <td>1</td>\n",
       "    </tr>\n",
       "    <tr>\n",
       "      <th>1</th>\n",
       "      <td>4.0</td>\n",
       "      <td>2017-05-01 00:00:00+00:00</td>\n",
       "      <td>2017-05-01 00:00:00+00:00</td>\n",
       "      <td>1</td>\n",
       "    </tr>\n",
       "    <tr>\n",
       "      <th>2</th>\n",
       "      <td>4.0</td>\n",
       "      <td>2017-05-01 00:00:00+00:00</td>\n",
       "      <td>2017-05-01 00:15:00+00:00</td>\n",
       "      <td>1</td>\n",
       "    </tr>\n",
       "    <tr>\n",
       "      <th>3</th>\n",
       "      <td>4.0</td>\n",
       "      <td>2017-05-01 00:15:00+00:00</td>\n",
       "      <td>2017-05-01 00:30:00+00:00</td>\n",
       "      <td>4</td>\n",
       "    </tr>\n",
       "    <tr>\n",
       "      <th>4</th>\n",
       "      <td>4.0</td>\n",
       "      <td>2017-05-01 01:15:00+00:00</td>\n",
       "      <td>2017-05-01 01:30:00+00:00</td>\n",
       "      <td>5</td>\n",
       "    </tr>\n",
       "  </tbody>\n",
       "</table>\n",
       "</div>"
      ],
      "text/plain": [
       "   pickup_community_area      trip_start_timestamp        trip_end_timestamp  \\\n",
       "0                    4.0 2017-05-01 00:00:00+00:00 2017-05-01 00:00:00+00:00   \n",
       "1                    4.0 2017-05-01 00:00:00+00:00 2017-05-01 00:00:00+00:00   \n",
       "2                    4.0 2017-05-01 00:00:00+00:00 2017-05-01 00:15:00+00:00   \n",
       "3                    4.0 2017-05-01 00:15:00+00:00 2017-05-01 00:30:00+00:00   \n",
       "4                    4.0 2017-05-01 01:15:00+00:00 2017-05-01 01:30:00+00:00   \n",
       "\n",
       "   trip_number  \n",
       "0            1  \n",
       "1            1  \n",
       "2            1  \n",
       "3            4  \n",
       "4            5  "
      ]
     },
     "metadata": {},
     "output_type": "display_data"
    },
    {
     "data": {
      "application/javascript": [
       "parent.postMessage({\"jupyterEvent\": \"custom.exercise_interaction\", \"data\": {\"outcomeType\": 1, \"valueTowardsCompletion\": 0.3333333333333333, \"interactionType\": 1, \"questionType\": 2, \"questionId\": \"2_CommunityArea\", \"learnToolsVersion\": \"0.3.4\", \"failureMessage\": \"\", \"exceptionClass\": \"\", \"trace\": \"\"}}, \"*\")"
      ],
      "text/plain": [
       "<IPython.core.display.Javascript object>"
      ]
     },
     "metadata": {},
     "output_type": "display_data"
    },
    {
     "data": {
      "text/markdown": [
       "<span style=\"color:#33cc33\">Correct</span>"
      ],
      "text/plain": [
       "Correct"
      ]
     },
     "metadata": {},
     "output_type": "display_data"
    }
   ],
   "source": [
    "# Amend the query below\n",
    "trip_number_query = \"\"\"\n",
    "                    SELECT pickup_community_area,\n",
    "                        trip_start_timestamp,\n",
    "                        trip_end_timestamp,\n",
    "                        RANK()\n",
    "                          OVER (\n",
    "                               PARTITION BY pickup_community_area\n",
    "                               ORDER BY trip_start_timestamp\n",
    "                               ) AS trip_number,\n",
    "                    FROM `bigquery-public-data.chicago_taxi_trips.taxi_trips`\n",
    "                    WHERE DATE(trip_start_timestamp) = '2017-05-01'\n",
    "                    \"\"\"\n",
    "\n",
    "# Check your answer\n",
    "q_2.check()"
   ]
  },
  {
   "cell_type": "code",
   "execution_count": 6,
   "metadata": {
    "execution": {
     "iopub.execute_input": "2021-01-24T18:32:47.924353Z",
     "iopub.status.busy": "2021-01-24T18:32:47.923669Z",
     "iopub.status.idle": "2021-01-24T18:32:47.926482Z",
     "shell.execute_reply": "2021-01-24T18:32:47.926978Z"
    },
    "papermill": {
     "duration": 0.024295,
     "end_time": "2021-01-24T18:32:47.927215",
     "exception": false,
     "start_time": "2021-01-24T18:32:47.902920",
     "status": "completed"
    },
    "tags": []
   },
   "outputs": [],
   "source": [
    "# Lines below will give you a hint or solution code\n",
    "#q_2.hint()\n",
    "#q_2.solution()"
   ]
  },
  {
   "cell_type": "markdown",
   "metadata": {
    "papermill": {
     "duration": 0.015454,
     "end_time": "2021-01-24T18:32:47.958954",
     "exception": false,
     "start_time": "2021-01-24T18:32:47.943500",
     "status": "completed"
    },
    "tags": []
   },
   "source": [
    "### 3) How much time elapses between trips?\n",
    "\n",
    "The (partial) query in the code cell below shows, for each trip in the selected time frame, the corresponding `taxi_id`, `trip_start_timestamp`, and `trip_end_timestamp`. \n",
    "\n",
    "Your task in this exercise is to edit the query to include an additional `prev_break` column that shows the length of the break (in minutes) that the driver had before each trip started (this corresponds to the time between `trip_start_timestamp` of the current trip and `trip_end_timestamp` of the previous trip).  Partition the calculation by `taxi_id`, and order the results within each partition by `trip_start_timestamp`.\n",
    "\n",
    "Some sample results are shown below, where all rows correspond to the same driver (or `taxi_id`).  Take the time now to make sure that the values in the `prev_break` column make sense to you!\n",
    "\n",
    "![first_commands](https://i.imgur.com/qjvQzg8.png)\n",
    "\n",
    "Note that the first trip of the day for each driver should have a value of **NaN** (not a number) in the `prev_break` column."
   ]
  },
  {
   "cell_type": "code",
   "execution_count": 7,
   "metadata": {
    "execution": {
     "iopub.execute_input": "2021-01-24T18:32:47.998892Z",
     "iopub.status.busy": "2021-01-24T18:32:47.997275Z",
     "iopub.status.idle": "2021-01-24T18:32:54.089207Z",
     "shell.execute_reply": "2021-01-24T18:32:54.089912Z"
    },
    "papermill": {
     "duration": 6.115569,
     "end_time": "2021-01-24T18:32:54.090115",
     "exception": false,
     "start_time": "2021-01-24T18:32:47.974546",
     "status": "completed"
    },
    "tags": []
   },
   "outputs": [
    {
     "data": {
      "text/html": [
       "<div>\n",
       "<style scoped>\n",
       "    .dataframe tbody tr th:only-of-type {\n",
       "        vertical-align: middle;\n",
       "    }\n",
       "\n",
       "    .dataframe tbody tr th {\n",
       "        vertical-align: top;\n",
       "    }\n",
       "\n",
       "    .dataframe thead th {\n",
       "        text-align: right;\n",
       "    }\n",
       "</style>\n",
       "<table border=\"1\" class=\"dataframe\">\n",
       "  <thead>\n",
       "    <tr style=\"text-align: right;\">\n",
       "      <th></th>\n",
       "      <th>taxi_id</th>\n",
       "      <th>trip_start_timestamp</th>\n",
       "      <th>trip_end_timestamp</th>\n",
       "      <th>prev_break</th>\n",
       "    </tr>\n",
       "  </thead>\n",
       "  <tbody>\n",
       "    <tr>\n",
       "      <th>0</th>\n",
       "      <td>2e4a42622e0291dde170a8e650bdbc724e367c1953bfd1...</td>\n",
       "      <td>2017-05-01 00:00:00+00:00</td>\n",
       "      <td>2017-05-01 00:15:00+00:00</td>\n",
       "      <td>NaN</td>\n",
       "    </tr>\n",
       "    <tr>\n",
       "      <th>1</th>\n",
       "      <td>314f48fcaf3556a8f1c5a32b497057bb479a7afded63d2...</td>\n",
       "      <td>2017-05-01 05:30:00+00:00</td>\n",
       "      <td>2017-05-01 05:30:00+00:00</td>\n",
       "      <td>NaN</td>\n",
       "    </tr>\n",
       "    <tr>\n",
       "      <th>2</th>\n",
       "      <td>3ca436ef5f4b97b724c781602661edf78ea482d9752197...</td>\n",
       "      <td>2017-05-01 06:15:00+00:00</td>\n",
       "      <td>2017-05-01 06:45:00+00:00</td>\n",
       "      <td>NaN</td>\n",
       "    </tr>\n",
       "    <tr>\n",
       "      <th>3</th>\n",
       "      <td>5866e731fed5c82556c87a73b3ec2e19dd13d4cdc46a34...</td>\n",
       "      <td>2017-05-01 05:30:00+00:00</td>\n",
       "      <td>2017-05-01 05:45:00+00:00</td>\n",
       "      <td>NaN</td>\n",
       "    </tr>\n",
       "    <tr>\n",
       "      <th>4</th>\n",
       "      <td>5866e731fed5c82556c87a73b3ec2e19dd13d4cdc46a34...</td>\n",
       "      <td>2017-05-01 05:45:00+00:00</td>\n",
       "      <td>2017-05-01 06:00:00+00:00</td>\n",
       "      <td>15.0</td>\n",
       "    </tr>\n",
       "  </tbody>\n",
       "</table>\n",
       "</div>"
      ],
      "text/plain": [
       "                                             taxi_id  \\\n",
       "0  2e4a42622e0291dde170a8e650bdbc724e367c1953bfd1...   \n",
       "1  314f48fcaf3556a8f1c5a32b497057bb479a7afded63d2...   \n",
       "2  3ca436ef5f4b97b724c781602661edf78ea482d9752197...   \n",
       "3  5866e731fed5c82556c87a73b3ec2e19dd13d4cdc46a34...   \n",
       "4  5866e731fed5c82556c87a73b3ec2e19dd13d4cdc46a34...   \n",
       "\n",
       "       trip_start_timestamp        trip_end_timestamp  prev_break  \n",
       "0 2017-05-01 00:00:00+00:00 2017-05-01 00:15:00+00:00         NaN  \n",
       "1 2017-05-01 05:30:00+00:00 2017-05-01 05:30:00+00:00         NaN  \n",
       "2 2017-05-01 06:15:00+00:00 2017-05-01 06:45:00+00:00         NaN  \n",
       "3 2017-05-01 05:30:00+00:00 2017-05-01 05:45:00+00:00         NaN  \n",
       "4 2017-05-01 05:45:00+00:00 2017-05-01 06:00:00+00:00        15.0  "
      ]
     },
     "metadata": {},
     "output_type": "display_data"
    },
    {
     "data": {
      "application/javascript": [
       "parent.postMessage({\"jupyterEvent\": \"custom.exercise_interaction\", \"data\": {\"outcomeType\": 1, \"valueTowardsCompletion\": 0.3333333333333333, \"interactionType\": 1, \"questionType\": 2, \"questionId\": \"3_BreakTime\", \"learnToolsVersion\": \"0.3.4\", \"failureMessage\": \"\", \"exceptionClass\": \"\", \"trace\": \"\"}}, \"*\")"
      ],
      "text/plain": [
       "<IPython.core.display.Javascript object>"
      ]
     },
     "metadata": {},
     "output_type": "display_data"
    },
    {
     "data": {
      "text/markdown": [
       "<span style=\"color:#33cc33\">Correct</span>"
      ],
      "text/plain": [
       "Correct"
      ]
     },
     "metadata": {},
     "output_type": "display_data"
    }
   ],
   "source": [
    "# Fill in the blanks below\n",
    "break_time_query = \"\"\"\n",
    "                   SELECT taxi_id,\n",
    "                       trip_start_timestamp,\n",
    "                       trip_end_timestamp,\n",
    "                       TIMESTAMP_DIFF(\n",
    "                           trip_start_timestamp, \n",
    "                           LAG(trip_start_timestamp)\n",
    "                               OVER (\n",
    "                                    PARTITION BY taxi_id\n",
    "                                    ORDER BY trip_start_timestamp), \n",
    "                           MINUTE) as prev_break\n",
    "                   FROM `bigquery-public-data.chicago_taxi_trips.taxi_trips`\n",
    "                   WHERE DATE(trip_start_timestamp) = '2017-05-01' \n",
    "                   \"\"\"\n",
    "\n",
    "# Check your answer\n",
    "q_3.check()"
   ]
  },
  {
   "cell_type": "code",
   "execution_count": 8,
   "metadata": {
    "execution": {
     "iopub.execute_input": "2021-01-24T18:32:54.164929Z",
     "iopub.status.busy": "2021-01-24T18:32:54.164048Z",
     "iopub.status.idle": "2021-01-24T18:32:54.175465Z",
     "shell.execute_reply": "2021-01-24T18:32:54.173061Z"
    },
    "papermill": {
     "duration": 0.049,
     "end_time": "2021-01-24T18:32:54.175662",
     "exception": false,
     "start_time": "2021-01-24T18:32:54.126662",
     "status": "completed"
    },
    "tags": []
   },
   "outputs": [],
   "source": [
    "# Lines below will give you a hint or solution code\n",
    "#q_3.hint()\n",
    "#q_3.solution()"
   ]
  },
  {
   "cell_type": "markdown",
   "metadata": {
    "papermill": {
     "duration": 0.026735,
     "end_time": "2021-01-24T18:32:54.233483",
     "exception": false,
     "start_time": "2021-01-24T18:32:54.206748",
     "status": "completed"
    },
    "tags": []
   },
   "source": [
    "# Keep going\n",
    "\n",
    "Move on to learn how to query **[nested and repeated data](https://www.kaggle.com/alexisbcook/nested-and-repeated-data)**."
   ]
  },
  {
   "cell_type": "markdown",
   "metadata": {
    "papermill": {
     "duration": 0.026309,
     "end_time": "2021-01-24T18:32:54.287583",
     "exception": false,
     "start_time": "2021-01-24T18:32:54.261274",
     "status": "completed"
    },
    "tags": []
   },
   "source": [
    "---\n",
    "\n",
    "\n",
    "\n",
    "\n",
    "*Have questions or comments? Visit the [Learn Discussion forum](https://www.kaggle.com/learn-forum/161315) to chat with other Learners.*"
   ]
  }
 ],
 "metadata": {
  "kernelspec": {
   "display_name": "Python 3",
   "language": "python",
   "name": "python3"
  },
  "language_info": {
   "codemirror_mode": {
    "name": "ipython",
    "version": 3
   },
   "file_extension": ".py",
   "mimetype": "text/x-python",
   "name": "python",
   "nbconvert_exporter": "python",
   "pygments_lexer": "ipython3",
   "version": "3.7.6"
  },
  "papermill": {
   "duration": 30.438309,
   "end_time": "2021-01-24T18:32:54.424338",
   "environment_variables": {},
   "exception": null,
   "input_path": "__notebook__.ipynb",
   "output_path": "__notebook__.ipynb",
   "parameters": {},
   "start_time": "2021-01-24T18:32:23.986029",
   "version": "2.1.0"
  }
 },
 "nbformat": 4,
 "nbformat_minor": 4
}
