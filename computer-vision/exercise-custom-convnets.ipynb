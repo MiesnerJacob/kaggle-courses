{
 "cells": [
  {
   "cell_type": "markdown",
   "metadata": {
    "papermill": {
     "duration": 0.010988,
     "end_time": "2021-01-18T20:51:02.471167",
     "exception": false,
     "start_time": "2021-01-18T20:51:02.460179",
     "status": "completed"
    },
    "tags": []
   },
   "source": [
    "**This notebook is an exercise in the [Computer Vision](https://www.kaggle.com/learn/computer-vision) course.  You can reference the tutorial at [this link](https://www.kaggle.com/ryanholbrook/custom-convnets).**\n",
    "\n",
    "---\n"
   ]
  },
  {
   "cell_type": "markdown",
   "metadata": {
    "papermill": {
     "duration": 0.008711,
     "end_time": "2021-01-18T20:51:02.488974",
     "exception": false,
     "start_time": "2021-01-18T20:51:02.480263",
     "status": "completed"
    },
    "tags": []
   },
   "source": [
    "# Introduction #\n",
    "\n",
    "In these exercises, you'll build a custom convnet with performance competitive to the VGG16 model from Lesson 1.\n",
    "\n",
    "Get started by running the code cell below."
   ]
  },
  {
   "cell_type": "code",
   "execution_count": 1,
   "metadata": {
    "execution": {
     "iopub.execute_input": "2021-01-18T20:51:02.522330Z",
     "iopub.status.busy": "2021-01-18T20:51:02.521791Z",
     "iopub.status.idle": "2021-01-18T20:51:13.217615Z",
     "shell.execute_reply": "2021-01-18T20:51:13.218274Z"
    },
    "papermill": {
     "duration": 10.720358,
     "end_time": "2021-01-18T20:51:13.218491",
     "exception": false,
     "start_time": "2021-01-18T20:51:02.498133",
     "status": "completed"
    },
    "tags": []
   },
   "outputs": [
    {
     "name": "stdout",
     "output_type": "stream",
     "text": [
      "Found 5117 files belonging to 2 classes.\n",
      "Found 5051 files belonging to 2 classes.\n"
     ]
    }
   ],
   "source": [
    "# Setup feedback system\n",
    "from learntools.core import binder\n",
    "binder.bind(globals())\n",
    "from learntools.computer_vision.ex5 import *\n",
    "\n",
    "# Imports\n",
    "import os, warnings\n",
    "import matplotlib.pyplot as plt\n",
    "from matplotlib import gridspec\n",
    "\n",
    "import numpy as np\n",
    "import tensorflow as tf\n",
    "from tensorflow.keras.preprocessing import image_dataset_from_directory\n",
    "\n",
    "# Reproducability\n",
    "def set_seed(seed=31415):\n",
    "    np.random.seed(seed)\n",
    "    tf.random.set_seed(seed)\n",
    "    os.environ['PYTHONHASHSEED'] = str(seed)\n",
    "    os.environ['TF_DETERMINISTIC_OPS'] = '1'\n",
    "set_seed()\n",
    "\n",
    "# Set Matplotlib defaults\n",
    "plt.rc('figure', autolayout=True)\n",
    "plt.rc('axes', labelweight='bold', labelsize='large',\n",
    "       titleweight='bold', titlesize=18, titlepad=10)\n",
    "plt.rc('image', cmap='magma')\n",
    "warnings.filterwarnings(\"ignore\") # to clean up output cells\n",
    "\n",
    "\n",
    "# Load training and validation sets\n",
    "ds_train_ = image_dataset_from_directory(\n",
    "    '../input/car-or-truck/train',\n",
    "    labels='inferred',\n",
    "    label_mode='binary',\n",
    "    image_size=[128, 128],\n",
    "    interpolation='nearest',\n",
    "    batch_size=64,\n",
    "    shuffle=True,\n",
    ")\n",
    "ds_valid_ = image_dataset_from_directory(\n",
    "    '../input/car-or-truck/valid',\n",
    "    labels='inferred',\n",
    "    label_mode='binary',\n",
    "    image_size=[128, 128],\n",
    "    interpolation='nearest',\n",
    "    batch_size=64,\n",
    "    shuffle=False,\n",
    ")\n",
    "\n",
    "# Data Pipeline\n",
    "def convert_to_float(image, label):\n",
    "    image = tf.image.convert_image_dtype(image, dtype=tf.float32)\n",
    "    return image, label\n",
    "\n",
    "AUTOTUNE = tf.data.experimental.AUTOTUNE\n",
    "ds_train = (\n",
    "    ds_train_\n",
    "    .map(convert_to_float)\n",
    "    .cache()\n",
    "    .prefetch(buffer_size=AUTOTUNE)\n",
    ")\n",
    "ds_valid = (\n",
    "    ds_valid_\n",
    "    .map(convert_to_float)\n",
    "    .cache()\n",
    "    .prefetch(buffer_size=AUTOTUNE)\n",
    ")\n"
   ]
  },
  {
   "cell_type": "markdown",
   "metadata": {
    "papermill": {
     "duration": 0.009495,
     "end_time": "2021-01-18T20:51:13.239013",
     "exception": false,
     "start_time": "2021-01-18T20:51:13.229518",
     "status": "completed"
    },
    "tags": []
   },
   "source": [
    "# Design a Convnet #\n",
    "\n",
    "Let's design a convolutional network with a block architecture like we saw in the tutorial. The model from the example had three blocks, each with a single convolutional layer. Its performance on the \"Car or Truck\" problem was okay, but far from what the pretrained VGG16 could achieve. It might be that our simple network lacks the ability to extract sufficiently complex features. We could try improving the model either by adding more blocks or by adding convolutions to the blocks we have.\n",
    "\n",
    "Let's go with the second approach. We'll keep the three block structure, but increase the number of `Conv2D` layer in the second block to two, and in the third block to three.\n",
    "\n",
    "<figure>\n",
    "<!-- <img src=\"./images/2-convmodel-2.png\" width=\"250\" alt=\"Diagram of a convolutional model.\"> -->\n",
    "<img src=\"https://i.imgur.com/Vko6nCK.png\" width=\"250\" alt=\"Diagram of a convolutional model.\">\n",
    "</figure>\n",
    "\n",
    "# 1) Define Model #\n",
    "\n",
    "Given the diagram above, complete the model by defining the layers of the third block."
   ]
  },
  {
   "cell_type": "code",
   "execution_count": 2,
   "metadata": {
    "execution": {
     "iopub.execute_input": "2021-01-18T20:51:13.267659Z",
     "iopub.status.busy": "2021-01-18T20:51:13.267121Z",
     "iopub.status.idle": "2021-01-18T20:51:13.372516Z",
     "shell.execute_reply": "2021-01-18T20:51:13.372066Z"
    },
    "lines_to_next_cell": 0,
    "papermill": {
     "duration": 0.123626,
     "end_time": "2021-01-18T20:51:13.372604",
     "exception": false,
     "start_time": "2021-01-18T20:51:13.248978",
     "status": "completed"
    },
    "tags": []
   },
   "outputs": [
    {
     "data": {
      "application/javascript": [
       "parent.postMessage({\"jupyterEvent\": \"custom.exercise_interaction\", \"data\": {\"outcomeType\": 1, \"valueTowardsCompletion\": 0.3333333333333333, \"interactionType\": 1, \"questionType\": 2, \"questionId\": \"1_Q1\", \"learnToolsVersion\": \"0.3.4\", \"failureMessage\": \"\", \"exceptionClass\": \"\", \"trace\": \"\"}}, \"*\")"
      ],
      "text/plain": [
       "<IPython.core.display.Javascript object>"
      ]
     },
     "metadata": {},
     "output_type": "display_data"
    },
    {
     "data": {
      "text/markdown": [
       "<span style=\"color:#33cc33\">Correct</span>"
      ],
      "text/plain": [
       "Correct"
      ]
     },
     "metadata": {},
     "output_type": "display_data"
    }
   ],
   "source": [
    "import tensorflow.keras as keras\n",
    "import tensorflow.keras.layers as layers\n",
    "\n",
    "model = keras.Sequential([\n",
    "    # Block One\n",
    "    layers.Conv2D(filters=32, kernel_size=3, activation='relu', padding='same',\n",
    "                  input_shape=[128, 128, 3]),\n",
    "    layers.MaxPool2D(),\n",
    "\n",
    "    # Block Two\n",
    "    layers.Conv2D(filters=64, kernel_size=3, activation='relu', padding='same'),\n",
    "    layers.MaxPool2D(),\n",
    "\n",
    "    # Block Three\n",
    "    # YOUR CODE HERE\n",
    "    layers.Conv2D(filters=128, kernel_size=3, activation='relu', padding='same'),\n",
    "    layers.Conv2D(filters=128, kernel_size=3, activation='relu', padding='same'),\n",
    "    layers.MaxPool2D(),\n",
    "\n",
    "    # Head\n",
    "    layers.Flatten(),\n",
    "    layers.Dense(6, activation='relu'),\n",
    "    layers.Dropout(0.2),\n",
    "    layers.Dense(1, activation='sigmoid'),\n",
    "])\n",
    "\n",
    "# Check your answer\n",
    "q_1.check()"
   ]
  },
  {
   "cell_type": "code",
   "execution_count": 3,
   "metadata": {
    "execution": {
     "iopub.execute_input": "2021-01-18T20:51:13.397145Z",
     "iopub.status.busy": "2021-01-18T20:51:13.396648Z",
     "iopub.status.idle": "2021-01-18T20:51:13.400286Z",
     "shell.execute_reply": "2021-01-18T20:51:13.399878Z"
    },
    "papermill": {
     "duration": 0.017083,
     "end_time": "2021-01-18T20:51:13.400370",
     "exception": false,
     "start_time": "2021-01-18T20:51:13.383287",
     "status": "completed"
    },
    "tags": []
   },
   "outputs": [],
   "source": [
    "# Lines below will give you a hint or solution code\n",
    "#q_1.hint()\n",
    "#q_1.solution()"
   ]
  },
  {
   "cell_type": "markdown",
   "metadata": {
    "papermill": {
     "duration": 0.010737,
     "end_time": "2021-01-18T20:51:13.422011",
     "exception": false,
     "start_time": "2021-01-18T20:51:13.411274",
     "status": "completed"
    },
    "tags": []
   },
   "source": [
    "# 2) Compile #\n",
    "\n",
    "To prepare for training, compile the model with an appropriate loss and accuracy metric for the \"Car or Truck\" dataset."
   ]
  },
  {
   "cell_type": "code",
   "execution_count": 4,
   "metadata": {
    "execution": {
     "iopub.execute_input": "2021-01-18T20:51:13.456287Z",
     "iopub.status.busy": "2021-01-18T20:51:13.455340Z",
     "iopub.status.idle": "2021-01-18T20:51:13.464324Z",
     "shell.execute_reply": "2021-01-18T20:51:13.464743Z"
    },
    "lines_to_next_cell": 0,
    "papermill": {
     "duration": 0.031684,
     "end_time": "2021-01-18T20:51:13.464841",
     "exception": false,
     "start_time": "2021-01-18T20:51:13.433157",
     "status": "completed"
    },
    "tags": []
   },
   "outputs": [
    {
     "data": {
      "application/javascript": [
       "parent.postMessage({\"jupyterEvent\": \"custom.exercise_interaction\", \"data\": {\"outcomeType\": 1, \"valueTowardsCompletion\": 0.3333333333333333, \"interactionType\": 1, \"questionType\": 2, \"questionId\": \"2_Q2\", \"learnToolsVersion\": \"0.3.4\", \"failureMessage\": \"\", \"exceptionClass\": \"\", \"trace\": \"\"}}, \"*\")"
      ],
      "text/plain": [
       "<IPython.core.display.Javascript object>"
      ]
     },
     "metadata": {},
     "output_type": "display_data"
    },
    {
     "data": {
      "text/markdown": [
       "<span style=\"color:#33cc33\">Correct</span>"
      ],
      "text/plain": [
       "Correct"
      ]
     },
     "metadata": {},
     "output_type": "display_data"
    }
   ],
   "source": [
    "model.compile(\n",
    "    optimizer=tf.keras.optimizers.Adam(epsilon=0.01),\n",
    "    # YOUR CODE HERE: Add loss and metric\n",
    "    loss='binary_crossentropy',\n",
    "    metrics=['binary_accuracy']\n",
    ")\n",
    "\n",
    "# Check your answer\n",
    "q_2.check()"
   ]
  },
  {
   "cell_type": "code",
   "execution_count": 5,
   "metadata": {
    "execution": {
     "iopub.execute_input": "2021-01-18T20:51:13.499091Z",
     "iopub.status.busy": "2021-01-18T20:51:13.498271Z",
     "iopub.status.idle": "2021-01-18T20:51:13.509450Z",
     "shell.execute_reply": "2021-01-18T20:51:13.509015Z"
    },
    "lines_to_next_cell": 0,
    "papermill": {
     "duration": 0.033124,
     "end_time": "2021-01-18T20:51:13.509535",
     "exception": false,
     "start_time": "2021-01-18T20:51:13.476411",
     "status": "completed"
    },
    "tags": []
   },
   "outputs": [
    {
     "data": {
      "application/javascript": [
       "parent.postMessage({\"jupyterEvent\": \"custom.exercise_interaction\", \"data\": {\"outcomeType\": 1, \"valueTowardsCompletion\": 0.3333333333333333, \"interactionType\": 1, \"questionType\": 2, \"questionId\": \"2_Q2\", \"learnToolsVersion\": \"0.3.4\", \"failureMessage\": \"\", \"exceptionClass\": \"\", \"trace\": \"\"}}, \"*\")"
      ],
      "text/plain": [
       "<IPython.core.display.Javascript object>"
      ]
     },
     "metadata": {},
     "output_type": "display_data"
    },
    {
     "data": {
      "text/markdown": [
       "<span style=\"color:#33cc33\">Correct</span>"
      ],
      "text/plain": [
       "Correct"
      ]
     },
     "metadata": {},
     "output_type": "display_data"
    }
   ],
   "source": [
    "model.compile(\n",
    "    optimizer=tf.keras.optimizers.Adam(epsilon=0.01),\n",
    "    loss='binary_crossentropy',\n",
    "    metrics=['binary_accuracy'],\n",
    ")\n",
    "q_2.assert_check_passed()"
   ]
  },
  {
   "cell_type": "code",
   "execution_count": 6,
   "metadata": {
    "execution": {
     "iopub.execute_input": "2021-01-18T20:51:13.538171Z",
     "iopub.status.busy": "2021-01-18T20:51:13.537662Z",
     "iopub.status.idle": "2021-01-18T20:51:13.541422Z",
     "shell.execute_reply": "2021-01-18T20:51:13.540977Z"
    },
    "lines_to_next_cell": 0,
    "papermill": {
     "duration": 0.01924,
     "end_time": "2021-01-18T20:51:13.541541",
     "exception": false,
     "start_time": "2021-01-18T20:51:13.522301",
     "status": "completed"
    },
    "tags": []
   },
   "outputs": [],
   "source": [
    "# Lines below will give you a hint or solution code\n",
    "#q_2.hint()\n",
    "#q_2.solution()"
   ]
  },
  {
   "cell_type": "markdown",
   "metadata": {
    "papermill": {
     "duration": 0.012857,
     "end_time": "2021-01-18T20:51:13.567239",
     "exception": false,
     "start_time": "2021-01-18T20:51:13.554382",
     "status": "completed"
    },
    "tags": []
   },
   "source": [
    "Finally, let's test the performance of this new model. First run this cell to fit the model to the training set."
   ]
  },
  {
   "cell_type": "code",
   "execution_count": 7,
   "metadata": {
    "execution": {
     "iopub.execute_input": "2021-01-18T20:51:13.596708Z",
     "iopub.status.busy": "2021-01-18T20:51:13.596164Z",
     "iopub.status.idle": "2021-01-18T20:55:34.592681Z",
     "shell.execute_reply": "2021-01-18T20:55:34.592063Z"
    },
    "papermill": {
     "duration": 261.012756,
     "end_time": "2021-01-18T20:55:34.592803",
     "exception": false,
     "start_time": "2021-01-18T20:51:13.580047",
     "status": "completed"
    },
    "tags": []
   },
   "outputs": [
    {
     "name": "stdout",
     "output_type": "stream",
     "text": [
      "Epoch 1/50\n",
      "80/80 [==============================] - 51s 643ms/step - loss: 0.6816 - binary_accuracy: 0.5744 - val_loss: 0.6691 - val_binary_accuracy: 0.5785\n",
      "Epoch 2/50\n",
      "80/80 [==============================] - 4s 52ms/step - loss: 0.6669 - binary_accuracy: 0.5787 - val_loss: 0.6612 - val_binary_accuracy: 0.5785\n",
      "Epoch 3/50\n",
      "80/80 [==============================] - 4s 51ms/step - loss: 0.6620 - binary_accuracy: 0.5787 - val_loss: 0.6505 - val_binary_accuracy: 0.5785\n",
      "Epoch 4/50\n",
      "80/80 [==============================] - 4s 50ms/step - loss: 0.6531 - binary_accuracy: 0.5787 - val_loss: 0.6450 - val_binary_accuracy: 0.5785\n",
      "Epoch 5/50\n",
      "80/80 [==============================] - 4s 51ms/step - loss: 0.6497 - binary_accuracy: 0.6007 - val_loss: 0.6383 - val_binary_accuracy: 0.6034\n",
      "Epoch 6/50\n",
      "80/80 [==============================] - 4s 50ms/step - loss: 0.6403 - binary_accuracy: 0.6320 - val_loss: 0.6342 - val_binary_accuracy: 0.5947\n",
      "Epoch 7/50\n",
      "80/80 [==============================] - 4s 51ms/step - loss: 0.6382 - binary_accuracy: 0.6347 - val_loss: 0.6314 - val_binary_accuracy: 0.6029\n",
      "Epoch 8/50\n",
      "80/80 [==============================] - 4s 52ms/step - loss: 0.6306 - binary_accuracy: 0.6486 - val_loss: 0.6231 - val_binary_accuracy: 0.6353\n",
      "Epoch 9/50\n",
      "80/80 [==============================] - 4s 53ms/step - loss: 0.6233 - binary_accuracy: 0.6533 - val_loss: 0.6233 - val_binary_accuracy: 0.6375\n",
      "Epoch 10/50\n",
      "80/80 [==============================] - 4s 51ms/step - loss: 0.6109 - binary_accuracy: 0.6666 - val_loss: 0.6014 - val_binary_accuracy: 0.6700\n",
      "Epoch 11/50\n",
      "80/80 [==============================] - 4s 51ms/step - loss: 0.5993 - binary_accuracy: 0.6779 - val_loss: 0.5903 - val_binary_accuracy: 0.6842\n",
      "Epoch 12/50\n",
      "80/80 [==============================] - 4s 51ms/step - loss: 0.5897 - binary_accuracy: 0.6809 - val_loss: 0.5867 - val_binary_accuracy: 0.6838\n",
      "Epoch 13/50\n",
      "80/80 [==============================] - 4s 51ms/step - loss: 0.5708 - binary_accuracy: 0.7018 - val_loss: 0.5699 - val_binary_accuracy: 0.7088\n",
      "Epoch 14/50\n",
      "80/80 [==============================] - 4s 50ms/step - loss: 0.5562 - binary_accuracy: 0.7196 - val_loss: 0.5732 - val_binary_accuracy: 0.6923\n",
      "Epoch 15/50\n",
      "80/80 [==============================] - 4s 51ms/step - loss: 0.5396 - binary_accuracy: 0.7329 - val_loss: 0.5425 - val_binary_accuracy: 0.7278\n",
      "Epoch 16/50\n",
      "80/80 [==============================] - 4s 51ms/step - loss: 0.5181 - binary_accuracy: 0.7534 - val_loss: 0.5334 - val_binary_accuracy: 0.7315\n",
      "Epoch 17/50\n",
      "80/80 [==============================] - 4s 53ms/step - loss: 0.4989 - binary_accuracy: 0.7586 - val_loss: 0.5115 - val_binary_accuracy: 0.7553\n",
      "Epoch 18/50\n",
      "80/80 [==============================] - 4s 51ms/step - loss: 0.4695 - binary_accuracy: 0.7833 - val_loss: 0.4899 - val_binary_accuracy: 0.7636\n",
      "Epoch 19/50\n",
      "80/80 [==============================] - 4s 51ms/step - loss: 0.4450 - binary_accuracy: 0.7936 - val_loss: 0.4776 - val_binary_accuracy: 0.7767\n",
      "Epoch 20/50\n",
      "80/80 [==============================] - 4s 50ms/step - loss: 0.4262 - binary_accuracy: 0.8030 - val_loss: 0.4488 - val_binary_accuracy: 0.7897\n",
      "Epoch 21/50\n",
      "80/80 [==============================] - 4s 51ms/step - loss: 0.3961 - binary_accuracy: 0.8259 - val_loss: 0.4330 - val_binary_accuracy: 0.7990\n",
      "Epoch 22/50\n",
      "80/80 [==============================] - 4s 52ms/step - loss: 0.3639 - binary_accuracy: 0.8421 - val_loss: 0.4385 - val_binary_accuracy: 0.8113\n",
      "Epoch 23/50\n",
      "80/80 [==============================] - 4s 52ms/step - loss: 0.3399 - binary_accuracy: 0.8560 - val_loss: 0.4576 - val_binary_accuracy: 0.8127\n",
      "Epoch 24/50\n",
      "80/80 [==============================] - 4s 52ms/step - loss: 0.3125 - binary_accuracy: 0.8642 - val_loss: 0.4356 - val_binary_accuracy: 0.8204\n",
      "Epoch 25/50\n",
      "80/80 [==============================] - 4s 52ms/step - loss: 0.2952 - binary_accuracy: 0.8724 - val_loss: 0.4359 - val_binary_accuracy: 0.8236\n",
      "Epoch 26/50\n",
      "80/80 [==============================] - 4s 51ms/step - loss: 0.2748 - binary_accuracy: 0.8853 - val_loss: 0.5846 - val_binary_accuracy: 0.7573\n",
      "Epoch 27/50\n",
      "80/80 [==============================] - 4s 51ms/step - loss: 0.2728 - binary_accuracy: 0.8886 - val_loss: 0.4742 - val_binary_accuracy: 0.7987\n",
      "Epoch 28/50\n",
      "80/80 [==============================] - 4s 51ms/step - loss: 0.2544 - binary_accuracy: 0.8921 - val_loss: 0.6449 - val_binary_accuracy: 0.7420\n",
      "Epoch 29/50\n",
      "80/80 [==============================] - 4s 51ms/step - loss: 0.2525 - binary_accuracy: 0.8937 - val_loss: 0.4547 - val_binary_accuracy: 0.8264\n",
      "Epoch 30/50\n",
      "80/80 [==============================] - 4s 50ms/step - loss: 0.2445 - binary_accuracy: 0.8994 - val_loss: 0.4249 - val_binary_accuracy: 0.8284\n",
      "Epoch 31/50\n",
      "80/80 [==============================] - 4s 52ms/step - loss: 0.2303 - binary_accuracy: 0.9056 - val_loss: 0.4168 - val_binary_accuracy: 0.8345\n",
      "Epoch 32/50\n",
      "80/80 [==============================] - 4s 53ms/step - loss: 0.2252 - binary_accuracy: 0.9083 - val_loss: 0.4651 - val_binary_accuracy: 0.8313\n",
      "Epoch 33/50\n",
      "80/80 [==============================] - 4s 50ms/step - loss: 0.2089 - binary_accuracy: 0.9181 - val_loss: 0.5111 - val_binary_accuracy: 0.8234\n",
      "Epoch 34/50\n",
      "80/80 [==============================] - 4s 51ms/step - loss: 0.1942 - binary_accuracy: 0.9181 - val_loss: 0.5736 - val_binary_accuracy: 0.8238\n",
      "Epoch 35/50\n",
      "80/80 [==============================] - 4s 50ms/step - loss: 0.1671 - binary_accuracy: 0.9380 - val_loss: 0.6557 - val_binary_accuracy: 0.8113\n",
      "Epoch 36/50\n",
      "80/80 [==============================] - 4s 51ms/step - loss: 0.1586 - binary_accuracy: 0.9334 - val_loss: 0.5820 - val_binary_accuracy: 0.8188\n",
      "Epoch 37/50\n",
      "80/80 [==============================] - 4s 55ms/step - loss: 0.1602 - binary_accuracy: 0.9375 - val_loss: 0.7982 - val_binary_accuracy: 0.7959\n",
      "Epoch 38/50\n",
      "80/80 [==============================] - 4s 51ms/step - loss: 0.1587 - binary_accuracy: 0.9412 - val_loss: 0.7301 - val_binary_accuracy: 0.7888\n",
      "Epoch 39/50\n",
      "80/80 [==============================] - 4s 52ms/step - loss: 0.1575 - binary_accuracy: 0.9388 - val_loss: 0.6244 - val_binary_accuracy: 0.8177\n",
      "Epoch 40/50\n",
      "80/80 [==============================] - 4s 51ms/step - loss: 0.1538 - binary_accuracy: 0.9351 - val_loss: 0.4775 - val_binary_accuracy: 0.8422\n",
      "Epoch 41/50\n",
      "80/80 [==============================] - 4s 51ms/step - loss: 0.1474 - binary_accuracy: 0.9427 - val_loss: 0.4923 - val_binary_accuracy: 0.8442\n",
      "Epoch 42/50\n",
      "80/80 [==============================] - 4s 51ms/step - loss: 0.1348 - binary_accuracy: 0.9474 - val_loss: 0.4893 - val_binary_accuracy: 0.8404\n",
      "Epoch 43/50\n",
      "80/80 [==============================] - 4s 50ms/step - loss: 0.1190 - binary_accuracy: 0.9572 - val_loss: 0.5523 - val_binary_accuracy: 0.8335\n",
      "Epoch 44/50\n",
      "80/80 [==============================] - 4s 51ms/step - loss: 0.1175 - binary_accuracy: 0.9519 - val_loss: 0.5565 - val_binary_accuracy: 0.8307\n",
      "Epoch 45/50\n",
      "80/80 [==============================] - 4s 51ms/step - loss: 0.0874 - binary_accuracy: 0.9695 - val_loss: 0.5025 - val_binary_accuracy: 0.8030\n",
      "Epoch 46/50\n",
      "80/80 [==============================] - 4s 51ms/step - loss: 0.0797 - binary_accuracy: 0.9707 - val_loss: 0.6244 - val_binary_accuracy: 0.8468\n",
      "Epoch 47/50\n",
      "80/80 [==============================] - 4s 53ms/step - loss: 0.0695 - binary_accuracy: 0.9736 - val_loss: 0.6598 - val_binary_accuracy: 0.8495\n",
      "Epoch 48/50\n",
      "80/80 [==============================] - 4s 51ms/step - loss: 0.0611 - binary_accuracy: 0.9773 - val_loss: 0.6518 - val_binary_accuracy: 0.8507\n",
      "Epoch 49/50\n",
      "80/80 [==============================] - 4s 50ms/step - loss: 0.0619 - binary_accuracy: 0.9769 - val_loss: 0.7031 - val_binary_accuracy: 0.8487\n",
      "Epoch 50/50\n",
      "80/80 [==============================] - 4s 51ms/step - loss: 0.0515 - binary_accuracy: 0.9810 - val_loss: 0.7169 - val_binary_accuracy: 0.8480\n"
     ]
    }
   ],
   "source": [
    "history = model.fit(\n",
    "    ds_train,\n",
    "    validation_data=ds_valid,\n",
    "    epochs=50,\n",
    ")"
   ]
  },
  {
   "cell_type": "markdown",
   "metadata": {
    "papermill": {
     "duration": 0.601422,
     "end_time": "2021-01-18T20:55:35.796998",
     "exception": false,
     "start_time": "2021-01-18T20:55:35.195576",
     "status": "completed"
    },
    "tags": []
   },
   "source": [
    "And now run the cell below to plot the loss and metric curves for this training run."
   ]
  },
  {
   "cell_type": "code",
   "execution_count": 8,
   "metadata": {
    "execution": {
     "iopub.execute_input": "2021-01-18T20:55:37.344610Z",
     "iopub.status.busy": "2021-01-18T20:55:37.343738Z",
     "iopub.status.idle": "2021-01-18T20:55:37.905176Z",
     "shell.execute_reply": "2021-01-18T20:55:37.906039Z"
    },
    "papermill": {
     "duration": 1.512186,
     "end_time": "2021-01-18T20:55:37.906257",
     "exception": false,
     "start_time": "2021-01-18T20:55:36.394071",
     "status": "completed"
    },
    "tags": []
   },
   "outputs": [
    {
     "data": {
      "image/png": "[encoded data removed]",
      "text/plain": [
       "<Figure size 432x288 with 1 Axes>"
      ]
     },
     "metadata": {
      "needs_background": "light"
     },
     "output_type": "display_data"
    },
    {
     "data": {
      "image/png": "[encoded data removed]",
      "text/plain": [
       "<Figure size 432x288 with 1 Axes>"
      ]
     },
     "metadata": {
      "needs_background": "light"
     },
     "output_type": "display_data"
    }
   ],
   "source": [
    "import pandas as pd\n",
    "history_frame = pd.DataFrame(history.history)\n",
    "history_frame.loc[:, ['loss', 'val_loss']].plot()\n",
    "history_frame.loc[:, ['binary_accuracy', 'val_binary_accuracy']].plot();"
   ]
  },
  {
   "cell_type": "markdown",
   "metadata": {
    "papermill": {
     "duration": 0.598263,
     "end_time": "2021-01-18T20:55:39.201625",
     "exception": false,
     "start_time": "2021-01-18T20:55:38.603362",
     "status": "completed"
    },
    "tags": []
   },
   "source": [
    "# 3) Train the Model #\n",
    "\n",
    "How would you interpret these training curves? Did this model improve upon the model from the tutorial?"
   ]
  },
  {
   "cell_type": "code",
   "execution_count": 9,
   "metadata": {
    "execution": {
     "iopub.execute_input": "2021-01-18T20:55:40.431782Z",
     "iopub.status.busy": "2021-01-18T20:55:40.430861Z",
     "iopub.status.idle": "2021-01-18T20:55:40.435900Z",
     "shell.execute_reply": "2021-01-18T20:55:40.436383Z"
    },
    "lines_to_next_cell": 0,
    "papermill": {
     "duration": 0.607889,
     "end_time": "2021-01-18T20:55:40.436554",
     "exception": false,
     "start_time": "2021-01-18T20:55:39.828665",
     "status": "completed"
    },
    "tags": []
   },
   "outputs": [
    {
     "data": {
      "application/javascript": [
       "parent.postMessage({\"jupyterEvent\": \"custom.exercise_interaction\", \"data\": {\"outcomeType\": 1, \"valueTowardsCompletion\": 0.3333333333333333, \"interactionType\": 1, \"questionType\": 4, \"questionId\": \"3_Q3\", \"learnToolsVersion\": \"0.3.4\", \"failureMessage\": \"\", \"exceptionClass\": \"\", \"trace\": \"\"}}, \"*\")"
      ],
      "text/plain": [
       "<IPython.core.display.Javascript object>"
      ]
     },
     "metadata": {},
     "output_type": "display_data"
    },
    {
     "data": {
      "text/markdown": [
       "<span style=\"color:#33cc33\">Correct:</span> \n",
       "\n",
       "\n",
       "The learning curves for the model from the tutorial diverged fairly rapidly. This would indicate that it was prone to overfitting and in need of some regularization. The additional layer in our new model would make it even more prone to overfitting. However, adding some regularization with the `Dropout` layer helped prevent this. These changes improved the validation accuracy of the model by several points.\n"
      ],
      "text/plain": [
       "Correct: \n",
       "\n",
       "\n",
       "The learning curves for the model from the tutorial diverged fairly rapidly. This would indicate that it was prone to overfitting and in need of some regularization. The additional layer in our new model would make it even more prone to overfitting. However, adding some regularization with the `Dropout` layer helped prevent this. These changes improved the validation accuracy of the model by several points."
      ]
     },
     "metadata": {},
     "output_type": "display_data"
    }
   ],
   "source": [
    "# View the solution (Run this code cell to receive credit!)\n",
    "q_3.check()"
   ]
  },
  {
   "cell_type": "markdown",
   "metadata": {
    "papermill": {
     "duration": 0.630182,
     "end_time": "2021-01-18T20:55:41.670544",
     "exception": false,
     "start_time": "2021-01-18T20:55:41.040362",
     "status": "completed"
    },
    "tags": []
   },
   "source": [
    "# Conclusion #\n",
    "\n",
    "These exercises showed you how to design a custom convolutional network to solve a specific classification problem. Though most models these days will be built on top of a pretrained base, it certain circumstances a smaller custom convnet might still be preferable -- such as with a smaller or unusual dataset or when computing resources are very limited. As you saw here, for certain problems they can perform just as well as a pretrained model.\n",
    "\n",
    "# Keep Going #\n",
    "\n",
    "Continue on to [**Lesson 6**](https://www.kaggle.com/ryanholbrook/data-augmentation), where you'll learn a widely-used technique that can give a boost to your training data: **data augmentation**."
   ]
  },
  {
   "cell_type": "markdown",
   "metadata": {
    "papermill": {
     "duration": 0.646862,
     "end_time": "2021-01-18T20:55:42.919549",
     "exception": false,
     "start_time": "2021-01-18T20:55:42.272687",
     "status": "completed"
    },
    "tags": []
   },
   "source": [
    "---\n",
    "\n",
    "\n",
    "\n",
    "\n",
    "*Have questions or comments? Visit the [Learn Discussion forum](https://www.kaggle.com/learn-forum/196537) to chat with other Learners.*"
   ]
  }
 ],
 "metadata": {
  "kernelspec": {
   "display_name": "Python 3",
   "language": "python",
   "name": "python3"
  },
  "language_info": {
   "codemirror_mode": {
    "name": "ipython",
    "version": 3
   },
   "file_extension": ".py",
   "mimetype": "text/x-python",
   "name": "python",
   "nbconvert_exporter": "python",
   "pygments_lexer": "ipython3",
   "version": "3.7.6"
  },
  "papermill": {
   "duration": 287.023548,
   "end_time": "2021-01-18T20:55:45.454797",
   "environment_variables": {},
   "exception": null,
   "input_path": "__notebook__.ipynb",
   "output_path": "__notebook__.ipynb",
   "parameters": {},
   "start_time": "2021-01-18T20:50:58.431249",
   "version": "2.1.0"
  }
 },
 "nbformat": 4,
 "nbformat_minor": 4
}
