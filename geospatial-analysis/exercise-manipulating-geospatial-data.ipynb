{
 "cells": [
  {
   "cell_type": "markdown",
   "metadata": {
    "papermill": {
     "duration": 0.023799,
     "end_time": "2021-01-31T19:46:29.322204",
     "exception": false,
     "start_time": "2021-01-31T19:46:29.298405",
     "status": "completed"
    },
    "tags": []
   },
   "source": [
    "**This notebook is an exercise in the [Geospatial Analysis](https://www.kaggle.com/learn/geospatial-analysis) course.  You can reference the tutorial at [this link](https://www.kaggle.com/alexisbcook/manipulating-geospatial-data).**\n",
    "\n",
    "---\n"
   ]
  },
  {
   "cell_type": "markdown",
   "metadata": {
    "papermill": {
     "duration": 0.022166,
     "end_time": "2021-01-31T19:46:29.366915",
     "exception": false,
     "start_time": "2021-01-31T19:46:29.344749",
     "status": "completed"
    },
    "tags": []
   },
   "source": [
    "# Introduction\n",
    "\n",
    "You are a Starbucks big data analyst ([that’s a real job!](https://www.forbes.com/sites/bernardmarr/2018/05/28/starbucks-using-big-data-analytics-and-artificial-intelligence-to-boost-performance/#130c7d765cdc)) looking to find the next store into a [Starbucks Reserve Roastery](https://www.businessinsider.com/starbucks-reserve-roastery-compared-regular-starbucks-2018-12#also-on-the-first-floor-was-the-main-coffee-bar-five-hourglass-like-units-hold-the-freshly-roasted-coffee-beans-that-are-used-in-each-order-the-selection-rotates-seasonally-5).  These roasteries are much larger than a typical Starbucks store and have several additional features, including various food and wine options, along with upscale lounge areas.  You'll investigate the demographics of various counties in the state of California, to determine potentially suitable locations.\n",
    "\n",
    "<center>\n",
    "<img src=\"https://i.imgur.com/BIyE6kR.png\" width=\"450\"><br/><br/>\n",
    "</center>\n",
    "\n",
    "Before you get started, run the code cell below to set everything up."
   ]
  },
  {
   "cell_type": "code",
   "execution_count": 1,
   "metadata": {
    "execution": {
     "iopub.execute_input": "2021-01-31T19:46:29.419611Z",
     "iopub.status.busy": "2021-01-31T19:46:29.418863Z",
     "iopub.status.idle": "2021-01-31T19:46:31.376357Z",
     "shell.execute_reply": "2021-01-31T19:46:31.377422Z"
    },
    "papermill": {
     "duration": 1.988184,
     "end_time": "2021-01-31T19:46:31.377908",
     "exception": false,
     "start_time": "2021-01-31T19:46:29.389724",
     "status": "completed"
    },
    "tags": []
   },
   "outputs": [],
   "source": [
    "import math\n",
    "import pandas as pd\n",
    "import geopandas as gpd\n",
    "#from geopandas.tools import geocode            # What you'd normally run\n",
    "from learntools.geospatial.tools import geocode # Just for this exercise\n",
    "\n",
    "import folium \n",
    "from folium import Marker\n",
    "from folium.plugins import MarkerCluster\n",
    "\n",
    "from learntools.core import binder\n",
    "binder.bind(globals())\n",
    "from learntools.geospatial.ex4 import *"
   ]
  },
  {
   "cell_type": "markdown",
   "metadata": {
    "papermill": {
     "duration": 0.028466,
     "end_time": "2021-01-31T19:46:31.433271",
     "exception": false,
     "start_time": "2021-01-31T19:46:31.404805",
     "status": "completed"
    },
    "tags": []
   },
   "source": [
    "You'll use the `embed_map()` function from the previous exercise to visualize your maps."
   ]
  },
  {
   "cell_type": "code",
   "execution_count": 2,
   "metadata": {
    "execution": {
     "iopub.execute_input": "2021-01-31T19:46:31.492948Z",
     "iopub.status.busy": "2021-01-31T19:46:31.491925Z",
     "iopub.status.idle": "2021-01-31T19:46:31.495839Z",
     "shell.execute_reply": "2021-01-31T19:46:31.495264Z"
    },
    "papermill": {
     "duration": 0.037138,
     "end_time": "2021-01-31T19:46:31.495997",
     "exception": false,
     "start_time": "2021-01-31T19:46:31.458859",
     "status": "completed"
    },
    "tags": []
   },
   "outputs": [],
   "source": [
    "def embed_map(m, file_name):\n",
    "    from IPython.display import IFrame\n",
    "    m.save(file_name)\n",
    "    return IFrame(file_name, width='100%', height='500px')"
   ]
  },
  {
   "cell_type": "markdown",
   "metadata": {
    "papermill": {
     "duration": 0.025458,
     "end_time": "2021-01-31T19:46:31.546018",
     "exception": false,
     "start_time": "2021-01-31T19:46:31.520560",
     "status": "completed"
    },
    "tags": []
   },
   "source": [
    "# Exercises\n",
    "\n",
    "### 1) Geocode the missing locations.\n",
    "\n",
    "Run the next code cell to create a DataFrame `starbucks` containing Starbucks locations in the state of California."
   ]
  },
  {
   "cell_type": "code",
   "execution_count": 3,
   "metadata": {
    "execution": {
     "iopub.execute_input": "2021-01-31T19:46:31.605355Z",
     "iopub.status.busy": "2021-01-31T19:46:31.604181Z",
     "iopub.status.idle": "2021-01-31T19:46:31.643492Z",
     "shell.execute_reply": "2021-01-31T19:46:31.644407Z"
    },
    "papermill": {
     "duration": 0.074718,
     "end_time": "2021-01-31T19:46:31.644692",
     "exception": false,
     "start_time": "2021-01-31T19:46:31.569974",
     "status": "completed"
    },
    "tags": []
   },
   "outputs": [
    {
     "data": {
      "text/html": [
       "<div>\n",
       "<style scoped>\n",
       "    .dataframe tbody tr th:only-of-type {\n",
       "        vertical-align: middle;\n",
       "    }\n",
       "\n",
       "    .dataframe tbody tr th {\n",
       "        vertical-align: top;\n",
       "    }\n",
       "\n",
       "    .dataframe thead th {\n",
       "        text-align: right;\n",
       "    }\n",
       "</style>\n",
       "<table border=\"1\" class=\"dataframe\">\n",
       "  <thead>\n",
       "    <tr style=\"text-align: right;\">\n",
       "      <th></th>\n",
       "      <th>Store Number</th>\n",
       "      <th>Store Name</th>\n",
       "      <th>Address</th>\n",
       "      <th>City</th>\n",
       "      <th>Longitude</th>\n",
       "      <th>Latitude</th>\n",
       "    </tr>\n",
       "  </thead>\n",
       "  <tbody>\n",
       "    <tr>\n",
       "      <th>0</th>\n",
       "      <td>10429-100710</td>\n",
       "      <td>Palmdale &amp; Hwy 395</td>\n",
       "      <td>14136 US Hwy 395 Adelanto CA</td>\n",
       "      <td>Adelanto</td>\n",
       "      <td>-117.40</td>\n",
       "      <td>34.51</td>\n",
       "    </tr>\n",
       "    <tr>\n",
       "      <th>1</th>\n",
       "      <td>635-352</td>\n",
       "      <td>Kanan &amp; Thousand Oaks</td>\n",
       "      <td>5827 Kanan Road Agoura CA</td>\n",
       "      <td>Agoura</td>\n",
       "      <td>-118.76</td>\n",
       "      <td>34.16</td>\n",
       "    </tr>\n",
       "    <tr>\n",
       "      <th>2</th>\n",
       "      <td>74510-27669</td>\n",
       "      <td>Vons-Agoura Hills #2001</td>\n",
       "      <td>5671 Kanan Rd. Agoura Hills CA</td>\n",
       "      <td>Agoura Hills</td>\n",
       "      <td>-118.76</td>\n",
       "      <td>34.15</td>\n",
       "    </tr>\n",
       "    <tr>\n",
       "      <th>3</th>\n",
       "      <td>29839-255026</td>\n",
       "      <td>Target Anaheim T-0677</td>\n",
       "      <td>8148 E SANTA ANA CANYON ROAD AHAHEIM CA</td>\n",
       "      <td>AHAHEIM</td>\n",
       "      <td>-117.75</td>\n",
       "      <td>33.87</td>\n",
       "    </tr>\n",
       "    <tr>\n",
       "      <th>4</th>\n",
       "      <td>23463-230284</td>\n",
       "      <td>Safeway - Alameda 3281</td>\n",
       "      <td>2600 5th Street Alameda CA</td>\n",
       "      <td>Alameda</td>\n",
       "      <td>-122.28</td>\n",
       "      <td>37.79</td>\n",
       "    </tr>\n",
       "  </tbody>\n",
       "</table>\n",
       "</div>"
      ],
      "text/plain": [
       "   Store Number               Store Name  \\\n",
       "0  10429-100710       Palmdale & Hwy 395   \n",
       "1       635-352    Kanan & Thousand Oaks   \n",
       "2   74510-27669  Vons-Agoura Hills #2001   \n",
       "3  29839-255026    Target Anaheim T-0677   \n",
       "4  23463-230284   Safeway - Alameda 3281   \n",
       "\n",
       "                                   Address          City  Longitude  Latitude  \n",
       "0             14136 US Hwy 395 Adelanto CA      Adelanto    -117.40     34.51  \n",
       "1                5827 Kanan Road Agoura CA        Agoura    -118.76     34.16  \n",
       "2           5671 Kanan Rd. Agoura Hills CA  Agoura Hills    -118.76     34.15  \n",
       "3  8148 E SANTA ANA CANYON ROAD AHAHEIM CA       AHAHEIM    -117.75     33.87  \n",
       "4               2600 5th Street Alameda CA       Alameda    -122.28     37.79  "
      ]
     },
     "execution_count": 3,
     "metadata": {},
     "output_type": "execute_result"
    }
   ],
   "source": [
    "# Load and preview Starbucks locations in California\n",
    "starbucks = pd.read_csv(\"../input/geospatial-learn-course-data/starbucks_locations.csv\")\n",
    "starbucks.head()"
   ]
  },
  {
   "cell_type": "markdown",
   "metadata": {
    "papermill": {
     "duration": 0.028059,
     "end_time": "2021-01-31T19:46:31.701805",
     "exception": false,
     "start_time": "2021-01-31T19:46:31.673746",
     "status": "completed"
    },
    "tags": []
   },
   "source": [
    "Most of the stores have known (latitude, longitude) locations.  But, all of the locations in the city of Berkeley are missing."
   ]
  },
  {
   "cell_type": "code",
   "execution_count": 4,
   "metadata": {
    "execution": {
     "iopub.execute_input": "2021-01-31T19:46:31.774956Z",
     "iopub.status.busy": "2021-01-31T19:46:31.773862Z",
     "iopub.status.idle": "2021-01-31T19:46:31.778967Z",
     "shell.execute_reply": "2021-01-31T19:46:31.779504Z"
    },
    "papermill": {
     "duration": 0.04934,
     "end_time": "2021-01-31T19:46:31.779679",
     "exception": false,
     "start_time": "2021-01-31T19:46:31.730339",
     "status": "completed"
    },
    "tags": []
   },
   "outputs": [
    {
     "name": "stdout",
     "output_type": "stream",
     "text": [
      "Store Number    0\n",
      "Store Name      0\n",
      "Address         0\n",
      "City            0\n",
      "Longitude       5\n",
      "Latitude        5\n",
      "dtype: int64\n"
     ]
    },
    {
     "data": {
      "text/html": [
       "<div>\n",
       "<style scoped>\n",
       "    .dataframe tbody tr th:only-of-type {\n",
       "        vertical-align: middle;\n",
       "    }\n",
       "\n",
       "    .dataframe tbody tr th {\n",
       "        vertical-align: top;\n",
       "    }\n",
       "\n",
       "    .dataframe thead th {\n",
       "        text-align: right;\n",
       "    }\n",
       "</style>\n",
       "<table border=\"1\" class=\"dataframe\">\n",
       "  <thead>\n",
       "    <tr style=\"text-align: right;\">\n",
       "      <th></th>\n",
       "      <th>Store Number</th>\n",
       "      <th>Store Name</th>\n",
       "      <th>Address</th>\n",
       "      <th>City</th>\n",
       "      <th>Longitude</th>\n",
       "      <th>Latitude</th>\n",
       "    </tr>\n",
       "  </thead>\n",
       "  <tbody>\n",
       "    <tr>\n",
       "      <th>153</th>\n",
       "      <td>5406-945</td>\n",
       "      <td>2224 Shattuck - Berkeley</td>\n",
       "      <td>2224 Shattuck Avenue Berkeley CA</td>\n",
       "      <td>Berkeley</td>\n",
       "      <td>NaN</td>\n",
       "      <td>NaN</td>\n",
       "    </tr>\n",
       "    <tr>\n",
       "      <th>154</th>\n",
       "      <td>570-512</td>\n",
       "      <td>Solano Ave</td>\n",
       "      <td>1799 Solano Avenue Berkeley CA</td>\n",
       "      <td>Berkeley</td>\n",
       "      <td>NaN</td>\n",
       "      <td>NaN</td>\n",
       "    </tr>\n",
       "    <tr>\n",
       "      <th>155</th>\n",
       "      <td>17877-164526</td>\n",
       "      <td>Safeway - Berkeley #691</td>\n",
       "      <td>1444 Shattuck Place Berkeley CA</td>\n",
       "      <td>Berkeley</td>\n",
       "      <td>NaN</td>\n",
       "      <td>NaN</td>\n",
       "    </tr>\n",
       "    <tr>\n",
       "      <th>156</th>\n",
       "      <td>19864-202264</td>\n",
       "      <td>Telegraph &amp; Ashby</td>\n",
       "      <td>3001 Telegraph Avenue Berkeley CA</td>\n",
       "      <td>Berkeley</td>\n",
       "      <td>NaN</td>\n",
       "      <td>NaN</td>\n",
       "    </tr>\n",
       "    <tr>\n",
       "      <th>157</th>\n",
       "      <td>9217-9253</td>\n",
       "      <td>2128 Oxford St.</td>\n",
       "      <td>2128 Oxford Street Berkeley CA</td>\n",
       "      <td>Berkeley</td>\n",
       "      <td>NaN</td>\n",
       "      <td>NaN</td>\n",
       "    </tr>\n",
       "  </tbody>\n",
       "</table>\n",
       "</div>"
      ],
      "text/plain": [
       "     Store Number                Store Name  \\\n",
       "153      5406-945  2224 Shattuck - Berkeley   \n",
       "154       570-512                Solano Ave   \n",
       "155  17877-164526   Safeway - Berkeley #691   \n",
       "156  19864-202264         Telegraph & Ashby   \n",
       "157     9217-9253           2128 Oxford St.   \n",
       "\n",
       "                               Address      City  Longitude  Latitude  \n",
       "153   2224 Shattuck Avenue Berkeley CA  Berkeley        NaN       NaN  \n",
       "154     1799 Solano Avenue Berkeley CA  Berkeley        NaN       NaN  \n",
       "155    1444 Shattuck Place Berkeley CA  Berkeley        NaN       NaN  \n",
       "156  3001 Telegraph Avenue Berkeley CA  Berkeley        NaN       NaN  \n",
       "157     2128 Oxford Street Berkeley CA  Berkeley        NaN       NaN  "
      ]
     },
     "execution_count": 4,
     "metadata": {},
     "output_type": "execute_result"
    }
   ],
   "source": [
    "# How many rows in each column have missing values?\n",
    "print(starbucks.isnull().sum())\n",
    "\n",
    "# View rows with missing locations\n",
    "rows_with_missing = starbucks[starbucks[\"City\"]==\"Berkeley\"]\n",
    "rows_with_missing"
   ]
  },
  {
   "cell_type": "markdown",
   "metadata": {
    "papermill": {
     "duration": 0.024914,
     "end_time": "2021-01-31T19:46:31.829346",
     "exception": false,
     "start_time": "2021-01-31T19:46:31.804432",
     "status": "completed"
    },
    "tags": []
   },
   "source": [
    "Use the code cell below to fill in these values with the OpenStreetMap Nominatim geocoder.\n",
    "\n",
    "Note that in the tutorial, we used `geocode()` (from `geopandas.tools`) to geocode values, and this is what you can use in your own projects outside of this micro-course.  \n",
    "\n",
    "In this exercise, you will use a slightly different function `geocode()` (from `learntools.geospatial.tools`).  This function was imported at the top of the notebook and works identically to the function from GeoPandas.\n",
    "\n",
    "So, in other words, as long as: \n",
    "- you don't change the import statements at the top of the notebook, and \n",
    "- you call the geocoding function as `geocode()` in the code cell below, \n",
    "\n",
    "your code will work as intended!"
   ]
  },
  {
   "cell_type": "code",
   "execution_count": 5,
   "metadata": {
    "execution": {
     "iopub.execute_input": "2021-01-31T19:46:31.883179Z",
     "iopub.status.busy": "2021-01-31T19:46:31.882170Z",
     "iopub.status.idle": "2021-01-31T19:46:32.018172Z",
     "shell.execute_reply": "2021-01-31T19:46:32.019805Z"
    },
    "papermill": {
     "duration": 0.165987,
     "end_time": "2021-01-31T19:46:32.020147",
     "exception": false,
     "start_time": "2021-01-31T19:46:31.854160",
     "status": "completed"
    },
    "tags": []
   },
   "outputs": [
    {
     "data": {
      "application/javascript": [
       "parent.postMessage({\"jupyterEvent\": \"custom.exercise_interaction\", \"data\": {\"outcomeType\": 1, \"valueTowardsCompletion\": 0.2, \"interactionType\": 1, \"questionType\": 2, \"questionId\": \"1_Q1\", \"learnToolsVersion\": \"0.3.4\", \"failureMessage\": \"\", \"exceptionClass\": \"\", \"trace\": \"\"}}, \"*\")"
      ],
      "text/plain": [
       "<IPython.core.display.Javascript object>"
      ]
     },
     "metadata": {},
     "output_type": "display_data"
    },
    {
     "data": {
      "text/markdown": [
       "<span style=\"color:#33cc33\">Correct</span>"
      ],
      "text/plain": [
       "Correct"
      ]
     },
     "metadata": {},
     "output_type": "display_data"
    }
   ],
   "source": [
    "# Your code here\n",
    "def my_geocoder(row):\n",
    "    try:\n",
    "        point = geocode(row, provider='nominatim').geometry.iloc[0]\n",
    "        return pd.Series({'Latitude': point.y, 'Longitude': point.x})\n",
    "    except:\n",
    "        return None\n",
    "\n",
    "berkeley_locations = rows_with_missing.apply(lambda x: my_geocoder(x['Address']), axis=1)\n",
    "starbucks.update(berkeley_locations)\n",
    "                          \n",
    "# Check your answer\n",
    "q_1.check()"
   ]
  },
  {
   "cell_type": "code",
   "execution_count": 6,
   "metadata": {
    "execution": {
     "iopub.execute_input": "2021-01-31T19:46:32.105198Z",
     "iopub.status.busy": "2021-01-31T19:46:32.104064Z",
     "iopub.status.idle": "2021-01-31T19:46:32.107187Z",
     "shell.execute_reply": "2021-01-31T19:46:32.108761Z"
    },
    "papermill": {
     "duration": 0.053171,
     "end_time": "2021-01-31T19:46:32.109046",
     "exception": false,
     "start_time": "2021-01-31T19:46:32.055875",
     "status": "completed"
    },
    "tags": []
   },
   "outputs": [],
   "source": [
    "# Line below will give you solution code\n",
    "#q_1.solution()"
   ]
  },
  {
   "cell_type": "markdown",
   "metadata": {
    "papermill": {
     "duration": 0.025426,
     "end_time": "2021-01-31T19:46:32.161276",
     "exception": false,
     "start_time": "2021-01-31T19:46:32.135850",
     "status": "completed"
    },
    "tags": []
   },
   "source": [
    "### 2) View Berkeley locations.\n",
    "\n",
    "Let's take a look at the locations you just found.  Visualize the (latitude, longitude) locations in Berkeley in the OpenStreetMap style. "
   ]
  },
  {
   "cell_type": "code",
   "execution_count": 7,
   "metadata": {
    "execution": {
     "iopub.execute_input": "2021-01-31T19:46:32.229135Z",
     "iopub.status.busy": "2021-01-31T19:46:32.228078Z",
     "iopub.status.idle": "2021-01-31T19:46:32.265914Z",
     "shell.execute_reply": "2021-01-31T19:46:32.265387Z"
    },
    "papermill": {
     "duration": 0.077649,
     "end_time": "2021-01-31T19:46:32.266086",
     "exception": false,
     "start_time": "2021-01-31T19:46:32.188437",
     "status": "completed"
    },
    "tags": []
   },
   "outputs": [
    {
     "data": {
      "text/html": [
       "\n",
       "        <iframe\n",
       "            width=\"100%\"\n",
       "            height=\"500px\"\n",
       "            src=\"q_2.html\"\n",
       "            frameborder=\"0\"\n",
       "            allowfullscreen\n",
       "        ></iframe>\n",
       "        "
      ],
      "text/plain": [
       "<IPython.lib.display.IFrame at 0x7fc99b93ec90>"
      ]
     },
     "execution_count": 7,
     "metadata": {},
     "output_type": "execute_result"
    }
   ],
   "source": [
    "# Create a base map\n",
    "m_2 = folium.Map(location=[37.88,-122.26], zoom_start=13)\n",
    "\n",
    "# Your code here: Add a marker for each Berkeley location\n",
    "for idx, row in starbucks[starbucks[\"City\"]=='Berkeley'].iterrows():\n",
    "    Marker([row['Latitude'], row['Longitude']], popup=row['Store Name']).add_to(m_2)\n",
    "\n",
    "# Uncomment to see a hint\n",
    "#q_2.a.hint()\n",
    "\n",
    "# Show the map\n",
    "embed_map(m_2, 'q_2.html')"
   ]
  },
  {
   "cell_type": "code",
   "execution_count": 8,
   "metadata": {
    "execution": {
     "iopub.execute_input": "2021-01-31T19:46:32.325288Z",
     "iopub.status.busy": "2021-01-31T19:46:32.324583Z",
     "iopub.status.idle": "2021-01-31T19:46:32.329418Z",
     "shell.execute_reply": "2021-01-31T19:46:32.329914Z"
    },
    "papermill": {
     "duration": 0.03793,
     "end_time": "2021-01-31T19:46:32.330112",
     "exception": false,
     "start_time": "2021-01-31T19:46:32.292182",
     "status": "completed"
    },
    "tags": []
   },
   "outputs": [
    {
     "data": {
      "application/javascript": [
       "parent.postMessage({\"jupyterEvent\": \"custom.exercise_interaction\", \"data\": {\"outcomeType\": 1, \"valueTowardsCompletion\": 0.2, \"interactionType\": 1, \"questionType\": 2, \"questionId\": \"2.1_Q2P\", \"learnToolsVersion\": \"0.3.4\", \"failureMessage\": \"\", \"exceptionClass\": \"\", \"trace\": \"\"}}, \"*\")"
      ],
      "text/plain": [
       "<IPython.core.display.Javascript object>"
      ]
     },
     "metadata": {},
     "output_type": "display_data"
    },
    {
     "data": {
      "text/markdown": [
       "<span style=\"color:#33cc33\">Thank you for creating a map!</span>"
      ],
      "text/plain": [
       "Thank you for creating a map!"
      ]
     },
     "metadata": {},
     "output_type": "display_data"
    }
   ],
   "source": [
    "# Get credit for your work after you have created a map\n",
    "q_2.a.check()\n",
    "\n",
    "# Uncomment to see our solution (your code may look different!)\n",
    "#q_2.a.solution()"
   ]
  },
  {
   "cell_type": "markdown",
   "metadata": {
    "papermill": {
     "duration": 0.027202,
     "end_time": "2021-01-31T19:46:32.384774",
     "exception": false,
     "start_time": "2021-01-31T19:46:32.357572",
     "status": "completed"
    },
    "tags": []
   },
   "source": [
    "Considering only the five locations in Berkeley, how many of the (latitude, longitude) locations seem potentially correct (are located in the correct city)?"
   ]
  },
  {
   "cell_type": "code",
   "execution_count": 9,
   "metadata": {
    "execution": {
     "iopub.execute_input": "2021-01-31T19:46:32.443558Z",
     "iopub.status.busy": "2021-01-31T19:46:32.442867Z",
     "iopub.status.idle": "2021-01-31T19:46:32.451134Z",
     "shell.execute_reply": "2021-01-31T19:46:32.450345Z"
    },
    "papermill": {
     "duration": 0.039058,
     "end_time": "2021-01-31T19:46:32.451282",
     "exception": false,
     "start_time": "2021-01-31T19:46:32.412224",
     "status": "completed"
    },
    "tags": []
   },
   "outputs": [
    {
     "data": {
      "application/javascript": [
       "parent.postMessage({\"jupyterEvent\": \"custom.exercise_interaction\", \"data\": {\"interactionType\": 3, \"questionType\": 4, \"questionId\": \"2.2_Q2T\", \"learnToolsVersion\": \"0.3.4\", \"valueTowardsCompletion\": 0.0, \"failureMessage\": \"\", \"exceptionClass\": \"\", \"trace\": \"\", \"outcomeType\": 4}}, \"*\")"
      ],
      "text/plain": [
       "<IPython.core.display.Javascript object>"
      ]
     },
     "metadata": {},
     "output_type": "display_data"
    },
    {
     "data": {
      "text/markdown": [
       "<span style=\"color:#33cc99\">Solution:</span> All five locations appear to be correct!"
      ],
      "text/plain": [
       "Solution: All five locations appear to be correct!"
      ]
     },
     "metadata": {},
     "output_type": "display_data"
    }
   ],
   "source": [
    "# View the solution (Run this code cell to receive credit!)\n",
    "q_2.b.solution()"
   ]
  },
  {
   "cell_type": "markdown",
   "metadata": {
    "papermill": {
     "duration": 0.028117,
     "end_time": "2021-01-31T19:46:32.508011",
     "exception": false,
     "start_time": "2021-01-31T19:46:32.479894",
     "status": "completed"
    },
    "tags": []
   },
   "source": [
    "### 3) Consolidate your data.\n",
    "\n",
    "Run the code below to load a GeoDataFrame `CA_counties` containing the name, area (in square kilometers), and a unique id (in the \"GEOID\" column) for each county in the state of California.  The \"geometry\" column contains a polygon with county boundaries."
   ]
  },
  {
   "cell_type": "code",
   "execution_count": 10,
   "metadata": {
    "execution": {
     "iopub.execute_input": "2021-01-31T19:46:32.674955Z",
     "iopub.status.busy": "2021-01-31T19:46:32.665003Z",
     "iopub.status.idle": "2021-01-31T19:46:32.822268Z",
     "shell.execute_reply": "2021-01-31T19:46:32.822781Z"
    },
    "papermill": {
     "duration": 0.286467,
     "end_time": "2021-01-31T19:46:32.822976",
     "exception": false,
     "start_time": "2021-01-31T19:46:32.536509",
     "status": "completed"
    },
    "tags": []
   },
   "outputs": [
    {
     "data": {
      "text/html": [
       "<div>\n",
       "<style scoped>\n",
       "    .dataframe tbody tr th:only-of-type {\n",
       "        vertical-align: middle;\n",
       "    }\n",
       "\n",
       "    .dataframe tbody tr th {\n",
       "        vertical-align: top;\n",
       "    }\n",
       "\n",
       "    .dataframe thead th {\n",
       "        text-align: right;\n",
       "    }\n",
       "</style>\n",
       "<table border=\"1\" class=\"dataframe\">\n",
       "  <thead>\n",
       "    <tr style=\"text-align: right;\">\n",
       "      <th></th>\n",
       "      <th>GEOID</th>\n",
       "      <th>name</th>\n",
       "      <th>area_sqkm</th>\n",
       "      <th>geometry</th>\n",
       "    </tr>\n",
       "  </thead>\n",
       "  <tbody>\n",
       "    <tr>\n",
       "      <th>0</th>\n",
       "      <td>6091</td>\n",
       "      <td>Sierra County</td>\n",
       "      <td>2491.995494</td>\n",
       "      <td>POLYGON ((-120.65560 39.69357, -120.65554 39.6...</td>\n",
       "    </tr>\n",
       "    <tr>\n",
       "      <th>1</th>\n",
       "      <td>6067</td>\n",
       "      <td>Sacramento County</td>\n",
       "      <td>2575.258262</td>\n",
       "      <td>POLYGON ((-121.18858 38.71431, -121.18732 38.7...</td>\n",
       "    </tr>\n",
       "    <tr>\n",
       "      <th>2</th>\n",
       "      <td>6083</td>\n",
       "      <td>Santa Barbara County</td>\n",
       "      <td>9813.817958</td>\n",
       "      <td>MULTIPOLYGON (((-120.58191 34.09856, -120.5822...</td>\n",
       "    </tr>\n",
       "    <tr>\n",
       "      <th>3</th>\n",
       "      <td>6009</td>\n",
       "      <td>Calaveras County</td>\n",
       "      <td>2685.626726</td>\n",
       "      <td>POLYGON ((-120.63095 38.34111, -120.63058 38.3...</td>\n",
       "    </tr>\n",
       "    <tr>\n",
       "      <th>4</th>\n",
       "      <td>6111</td>\n",
       "      <td>Ventura County</td>\n",
       "      <td>5719.321379</td>\n",
       "      <td>MULTIPOLYGON (((-119.63631 33.27304, -119.6360...</td>\n",
       "    </tr>\n",
       "  </tbody>\n",
       "</table>\n",
       "</div>"
      ],
      "text/plain": [
       "   GEOID                  name    area_sqkm  \\\n",
       "0   6091         Sierra County  2491.995494   \n",
       "1   6067     Sacramento County  2575.258262   \n",
       "2   6083  Santa Barbara County  9813.817958   \n",
       "3   6009      Calaveras County  2685.626726   \n",
       "4   6111        Ventura County  5719.321379   \n",
       "\n",
       "                                            geometry  \n",
       "0  POLYGON ((-120.65560 39.69357, -120.65554 39.6...  \n",
       "1  POLYGON ((-121.18858 38.71431, -121.18732 38.7...  \n",
       "2  MULTIPOLYGON (((-120.58191 34.09856, -120.5822...  \n",
       "3  POLYGON ((-120.63095 38.34111, -120.63058 38.3...  \n",
       "4  MULTIPOLYGON (((-119.63631 33.27304, -119.6360...  "
      ]
     },
     "execution_count": 10,
     "metadata": {},
     "output_type": "execute_result"
    }
   ],
   "source": [
    "CA_counties = gpd.read_file(\"../input/geospatial-learn-course-data/CA_county_boundaries/CA_county_boundaries/CA_county_boundaries.shp\")\n",
    "CA_counties.head()"
   ]
  },
  {
   "cell_type": "markdown",
   "metadata": {
    "papermill": {
     "duration": 0.028528,
     "end_time": "2021-01-31T19:46:32.880667",
     "exception": false,
     "start_time": "2021-01-31T19:46:32.852139",
     "status": "completed"
    },
    "tags": []
   },
   "source": [
    "Next, we create three DataFrames:\n",
    "- `CA_pop` contains an estimate of the population of each county.\n",
    "- `CA_high_earners` contains the number of households with an income of at least $150,000 per year.\n",
    "- `CA_median_age` contains the median age for each county."
   ]
  },
  {
   "cell_type": "code",
   "execution_count": 11,
   "metadata": {
    "execution": {
     "iopub.execute_input": "2021-01-31T19:46:32.947011Z",
     "iopub.status.busy": "2021-01-31T19:46:32.946328Z",
     "iopub.status.idle": "2021-01-31T19:46:32.958915Z",
     "shell.execute_reply": "2021-01-31T19:46:32.958325Z"
    },
    "papermill": {
     "duration": 0.04936,
     "end_time": "2021-01-31T19:46:32.959093",
     "exception": false,
     "start_time": "2021-01-31T19:46:32.909733",
     "status": "completed"
    },
    "tags": []
   },
   "outputs": [],
   "source": [
    "CA_pop = pd.read_csv(\"../input/geospatial-learn-course-data/CA_county_population.csv\", index_col=\"GEOID\")\n",
    "CA_high_earners = pd.read_csv(\"../input/geospatial-learn-course-data/CA_county_high_earners.csv\", index_col=\"GEOID\")\n",
    "CA_median_age = pd.read_csv(\"../input/geospatial-learn-course-data/CA_county_median_age.csv\", index_col=\"GEOID\")"
   ]
  },
  {
   "cell_type": "code",
   "execution_count": 12,
   "metadata": {
    "execution": {
     "iopub.execute_input": "2021-01-31T19:46:33.030542Z",
     "iopub.status.busy": "2021-01-31T19:46:33.029418Z",
     "iopub.status.idle": "2021-01-31T19:46:33.034529Z",
     "shell.execute_reply": "2021-01-31T19:46:33.035007Z"
    },
    "papermill": {
     "duration": 0.046596,
     "end_time": "2021-01-31T19:46:33.035215",
     "exception": false,
     "start_time": "2021-01-31T19:46:32.988619",
     "status": "completed"
    },
    "tags": []
   },
   "outputs": [
    {
     "name": "stdout",
     "output_type": "stream",
     "text": [
      "CA_counties: Index(['GEOID', 'name', 'area_sqkm', 'geometry'], dtype='object')\n",
      "CA_pop: Index(['GEOID', 'population'], dtype='object')\n",
      "CA_high_earners: Index(['GEOID', 'high_earners'], dtype='object')\n",
      "CA_median_age: Index(['GEOID', 'median_age'], dtype='object')\n"
     ]
    }
   ],
   "source": [
    "print(\"CA_counties: \" + str(CA_counties.columns))\n",
    "print(\"CA_pop: \" + str(CA_pop.reset_index().columns))\n",
    "print(\"CA_high_earners: \" + str(CA_high_earners.reset_index().columns))\n",
    "print(\"CA_median_age: \" + str(CA_median_age.reset_index().columns))"
   ]
  },
  {
   "cell_type": "markdown",
   "metadata": {
    "papermill": {
     "duration": 0.029491,
     "end_time": "2021-01-31T19:46:33.094761",
     "exception": false,
     "start_time": "2021-01-31T19:46:33.065270",
     "status": "completed"
    },
    "tags": []
   },
   "source": [
    "Use the next code cell to join the `CA_counties` GeoDataFrame with `CA_pop`, `CA_high_earners`, and `CA_median_age`.\n",
    "\n",
    "Name the resultant GeoDataFrame `CA_stats`, and make sure it has 8 columns: \"GEOID\", \"name\", \"area_sqkm\", \"geometry\", \"population\", \"high_earners\", and \"median_age\".  Also, make sure the CRS is set to `{'init': 'epsg:4326'}`."
   ]
  },
  {
   "cell_type": "code",
   "execution_count": 13,
   "metadata": {
    "execution": {
     "iopub.execute_input": "2021-01-31T19:46:33.175456Z",
     "iopub.status.busy": "2021-01-31T19:46:33.174709Z",
     "iopub.status.idle": "2021-01-31T19:46:33.356491Z",
     "shell.execute_reply": "2021-01-31T19:46:33.356959Z"
    },
    "papermill": {
     "duration": 0.23265,
     "end_time": "2021-01-31T19:46:33.357194",
     "exception": false,
     "start_time": "2021-01-31T19:46:33.124544",
     "status": "completed"
    },
    "tags": []
   },
   "outputs": [
    {
     "name": "stderr",
     "output_type": "stream",
     "text": [
      "/opt/conda/lib/python3.7/site-packages/pyproj/crs/crs.py:53: FutureWarning: '+init=<authority>:<code>' syntax is deprecated. '<authority>:<code>' is the preferred initialization method. When making the change, be mindful of axis order changes: https://pyproj4.github.io/pyproj/stable/gotchas.html#axis-order-changes-in-proj-6\n",
      "  return _prepare_from_string(\" \".join(pjargs))\n"
     ]
    },
    {
     "data": {
      "application/javascript": [
       "parent.postMessage({\"jupyterEvent\": \"custom.exercise_interaction\", \"data\": {\"outcomeType\": 1, \"valueTowardsCompletion\": 0.2, \"interactionType\": 1, \"questionType\": 2, \"questionId\": \"3_Q3\", \"learnToolsVersion\": \"0.3.4\", \"failureMessage\": \"\", \"exceptionClass\": \"\", \"trace\": \"\"}}, \"*\")"
      ],
      "text/plain": [
       "<IPython.core.display.Javascript object>"
      ]
     },
     "metadata": {},
     "output_type": "display_data"
    },
    {
     "data": {
      "text/markdown": [
       "<span style=\"color:#33cc33\">Correct</span>"
      ],
      "text/plain": [
       "Correct"
      ]
     },
     "metadata": {},
     "output_type": "display_data"
    }
   ],
   "source": [
    "# Your code here\n",
    "CA_stats = CA_counties.merge(CA_pop.reset_index(), on = 'GEOID').merge(CA_high_earners.reset_index(), on = 'GEOID').merge(CA_median_age.reset_index(), on = 'GEOID')\n",
    "CA_stats.crs = {'init': 'epsg:4326'}\n",
    "\n",
    "# Check your answer\n",
    "q_3.check()"
   ]
  },
  {
   "cell_type": "code",
   "execution_count": 14,
   "metadata": {
    "execution": {
     "iopub.execute_input": "2021-01-31T19:46:33.424275Z",
     "iopub.status.busy": "2021-01-31T19:46:33.423529Z",
     "iopub.status.idle": "2021-01-31T19:46:33.427601Z",
     "shell.execute_reply": "2021-01-31T19:46:33.427061Z"
    },
    "papermill": {
     "duration": 0.039592,
     "end_time": "2021-01-31T19:46:33.427768",
     "exception": false,
     "start_time": "2021-01-31T19:46:33.388176",
     "status": "completed"
    },
    "tags": []
   },
   "outputs": [],
   "source": [
    "# Lines below will give you a hint or solution code\n",
    "#q_3.hint()\n",
    "#q_3.solution()"
   ]
  },
  {
   "cell_type": "markdown",
   "metadata": {
    "papermill": {
     "duration": 0.030925,
     "end_time": "2021-01-31T19:46:33.490064",
     "exception": false,
     "start_time": "2021-01-31T19:46:33.459139",
     "status": "completed"
    },
    "tags": []
   },
   "source": [
    "Now that we have all of the data in one place, it's much easier to calculate statistics that use a combination of columns.  Run the next code cell to create a \"density\" column with the population density."
   ]
  },
  {
   "cell_type": "code",
   "execution_count": 15,
   "metadata": {
    "execution": {
     "iopub.execute_input": "2021-01-31T19:46:33.559892Z",
     "iopub.status.busy": "2021-01-31T19:46:33.559160Z",
     "iopub.status.idle": "2021-01-31T19:46:33.562571Z",
     "shell.execute_reply": "2021-01-31T19:46:33.563071Z"
    },
    "papermill": {
     "duration": 0.041448,
     "end_time": "2021-01-31T19:46:33.563243",
     "exception": false,
     "start_time": "2021-01-31T19:46:33.521795",
     "status": "completed"
    },
    "tags": []
   },
   "outputs": [],
   "source": [
    "CA_stats[\"density\"] = CA_stats[\"population\"] / CA_stats[\"area_sqkm\"]"
   ]
  },
  {
   "cell_type": "markdown",
   "metadata": {
    "papermill": {
     "duration": 0.031011,
     "end_time": "2021-01-31T19:46:33.625455",
     "exception": false,
     "start_time": "2021-01-31T19:46:33.594444",
     "status": "completed"
    },
    "tags": []
   },
   "source": [
    "### 4) Which counties look promising?\n",
    "\n",
    "Collapsing all of the information into a single GeoDataFrame also makes it much easier to select counties that meet specific criteria.\n",
    "\n",
    "Use the next code cell to create a GeoDataFrame `sel_counties` that contains a subset of the rows (and all of the columns) from the `CA_stats` GeoDataFrame.  In particular, you should select counties where:\n",
    "- there are at least 100,000 households making \\$150,000 per year,\n",
    "- the median age is less than 38.5, and\n",
    "- the density of inhabitants is at least 285 (per square kilometer).\n",
    "\n",
    "Additionally, selected counties should satisfy at least one of the following criteria:\n",
    "- there are at least 500,000 households making \\$150,000 per year,\n",
    "- the median age is less than 35.5, or\n",
    "- the density of inhabitants is at least 1400 (per square kilometer)."
   ]
  },
  {
   "cell_type": "code",
   "execution_count": 16,
   "metadata": {
    "execution": {
     "iopub.execute_input": "2021-01-31T19:46:33.697691Z",
     "iopub.status.busy": "2021-01-31T19:46:33.696904Z",
     "iopub.status.idle": "2021-01-31T19:46:33.841750Z",
     "shell.execute_reply": "2021-01-31T19:46:33.841112Z"
    },
    "papermill": {
     "duration": 0.184966,
     "end_time": "2021-01-31T19:46:33.841902",
     "exception": false,
     "start_time": "2021-01-31T19:46:33.656936",
     "status": "completed"
    },
    "tags": []
   },
   "outputs": [
    {
     "data": {
      "text/html": [
       "<div>\n",
       "<style scoped>\n",
       "    .dataframe tbody tr th:only-of-type {\n",
       "        vertical-align: middle;\n",
       "    }\n",
       "\n",
       "    .dataframe tbody tr th {\n",
       "        vertical-align: top;\n",
       "    }\n",
       "\n",
       "    .dataframe thead th {\n",
       "        text-align: right;\n",
       "    }\n",
       "</style>\n",
       "<table border=\"1\" class=\"dataframe\">\n",
       "  <thead>\n",
       "    <tr style=\"text-align: right;\">\n",
       "      <th></th>\n",
       "      <th>GEOID</th>\n",
       "      <th>name</th>\n",
       "      <th>area_sqkm</th>\n",
       "      <th>geometry</th>\n",
       "      <th>population</th>\n",
       "      <th>high_earners</th>\n",
       "      <th>median_age</th>\n",
       "      <th>density</th>\n",
       "    </tr>\n",
       "  </thead>\n",
       "  <tbody>\n",
       "    <tr>\n",
       "      <th>0</th>\n",
       "      <td>6091</td>\n",
       "      <td>Sierra County</td>\n",
       "      <td>2491.995494</td>\n",
       "      <td>POLYGON ((-120.65560 39.69357, -120.65554 39.6...</td>\n",
       "      <td>2987</td>\n",
       "      <td>111</td>\n",
       "      <td>55.0</td>\n",
       "      <td>1.198638</td>\n",
       "    </tr>\n",
       "    <tr>\n",
       "      <th>1</th>\n",
       "      <td>6067</td>\n",
       "      <td>Sacramento County</td>\n",
       "      <td>2575.258262</td>\n",
       "      <td>POLYGON ((-121.18858 38.71431, -121.18732 38.7...</td>\n",
       "      <td>1540975</td>\n",
       "      <td>65768</td>\n",
       "      <td>35.9</td>\n",
       "      <td>598.376878</td>\n",
       "    </tr>\n",
       "    <tr>\n",
       "      <th>2</th>\n",
       "      <td>6083</td>\n",
       "      <td>Santa Barbara County</td>\n",
       "      <td>9813.817958</td>\n",
       "      <td>MULTIPOLYGON (((-120.58191 34.09856, -120.5822...</td>\n",
       "      <td>446527</td>\n",
       "      <td>25231</td>\n",
       "      <td>33.7</td>\n",
       "      <td>45.499825</td>\n",
       "    </tr>\n",
       "    <tr>\n",
       "      <th>3</th>\n",
       "      <td>6009</td>\n",
       "      <td>Calaveras County</td>\n",
       "      <td>2685.626726</td>\n",
       "      <td>POLYGON ((-120.63095 38.34111, -120.63058 38.3...</td>\n",
       "      <td>45602</td>\n",
       "      <td>2046</td>\n",
       "      <td>51.6</td>\n",
       "      <td>16.980022</td>\n",
       "    </tr>\n",
       "    <tr>\n",
       "      <th>4</th>\n",
       "      <td>6111</td>\n",
       "      <td>Ventura County</td>\n",
       "      <td>5719.321379</td>\n",
       "      <td>MULTIPOLYGON (((-119.63631 33.27304, -119.6360...</td>\n",
       "      <td>850967</td>\n",
       "      <td>57121</td>\n",
       "      <td>37.5</td>\n",
       "      <td>148.788107</td>\n",
       "    </tr>\n",
       "  </tbody>\n",
       "</table>\n",
       "</div>"
      ],
      "text/plain": [
       "   GEOID                  name    area_sqkm  \\\n",
       "0   6091         Sierra County  2491.995494   \n",
       "1   6067     Sacramento County  2575.258262   \n",
       "2   6083  Santa Barbara County  9813.817958   \n",
       "3   6009      Calaveras County  2685.626726   \n",
       "4   6111        Ventura County  5719.321379   \n",
       "\n",
       "                                            geometry  population  \\\n",
       "0  POLYGON ((-120.65560 39.69357, -120.65554 39.6...        2987   \n",
       "1  POLYGON ((-121.18858 38.71431, -121.18732 38.7...     1540975   \n",
       "2  MULTIPOLYGON (((-120.58191 34.09856, -120.5822...      446527   \n",
       "3  POLYGON ((-120.63095 38.34111, -120.63058 38.3...       45602   \n",
       "4  MULTIPOLYGON (((-119.63631 33.27304, -119.6360...      850967   \n",
       "\n",
       "   high_earners  median_age     density  \n",
       "0           111        55.0    1.198638  \n",
       "1         65768        35.9  598.376878  \n",
       "2         25231        33.7   45.499825  \n",
       "3          2046        51.6   16.980022  \n",
       "4         57121        37.5  148.788107  "
      ]
     },
     "execution_count": 16,
     "metadata": {},
     "output_type": "execute_result"
    }
   ],
   "source": [
    "CA_stats.head()"
   ]
  },
  {
   "cell_type": "code",
   "execution_count": 17,
   "metadata": {
    "execution": {
     "iopub.execute_input": "2021-01-31T19:46:33.923885Z",
     "iopub.status.busy": "2021-01-31T19:46:33.922394Z",
     "iopub.status.idle": "2021-01-31T19:46:33.930409Z",
     "shell.execute_reply": "2021-01-31T19:46:33.929777Z"
    },
    "papermill": {
     "duration": 0.055269,
     "end_time": "2021-01-31T19:46:33.930553",
     "exception": false,
     "start_time": "2021-01-31T19:46:33.875284",
     "status": "completed"
    },
    "tags": []
   },
   "outputs": [
    {
     "data": {
      "application/javascript": [
       "parent.postMessage({\"jupyterEvent\": \"custom.exercise_interaction\", \"data\": {\"outcomeType\": 1, \"valueTowardsCompletion\": 0.2, \"interactionType\": 1, \"questionType\": 2, \"questionId\": \"4_Q4\", \"learnToolsVersion\": \"0.3.4\", \"failureMessage\": \"\", \"exceptionClass\": \"\", \"trace\": \"\"}}, \"*\")"
      ],
      "text/plain": [
       "<IPython.core.display.Javascript object>"
      ]
     },
     "metadata": {},
     "output_type": "display_data"
    },
    {
     "data": {
      "text/markdown": [
       "<span style=\"color:#33cc33\">Correct</span>"
      ],
      "text/plain": [
       "Correct"
      ]
     },
     "metadata": {},
     "output_type": "display_data"
    }
   ],
   "source": [
    "# Your code here\n",
    "sel_counties = CA_stats[((CA_stats['high_earners'] >= 100000) & (CA_stats['median_age'] < 38.5) & (CA_stats['density'] >= 285)) \n",
    "                        & ((CA_stats['high_earners'] >= 500000) | (CA_stats['median_age'] < 35.5) | (CA_stats['density'] >= 1400))]\n",
    "\n",
    "# Check your answer\n",
    "q_4.check()"
   ]
  },
  {
   "cell_type": "code",
   "execution_count": 18,
   "metadata": {
    "execution": {
     "iopub.execute_input": "2021-01-31T19:46:34.002314Z",
     "iopub.status.busy": "2021-01-31T19:46:34.001594Z",
     "iopub.status.idle": "2021-01-31T19:46:34.005194Z",
     "shell.execute_reply": "2021-01-31T19:46:34.004560Z"
    },
    "papermill": {
     "duration": 0.041706,
     "end_time": "2021-01-31T19:46:34.005344",
     "exception": false,
     "start_time": "2021-01-31T19:46:33.963638",
     "status": "completed"
    },
    "tags": []
   },
   "outputs": [],
   "source": [
    "# Lines below will give you a hint or solution code\n",
    "#q_4.hint()\n",
    "#q_4.solution()"
   ]
  },
  {
   "cell_type": "markdown",
   "metadata": {
    "papermill": {
     "duration": 0.033038,
     "end_time": "2021-01-31T19:46:34.071690",
     "exception": false,
     "start_time": "2021-01-31T19:46:34.038652",
     "status": "completed"
    },
    "tags": []
   },
   "source": [
    "### 5) How many stores did you identify?\n",
    "\n",
    "When looking for the next Starbucks Reserve Roastery location, you'd like to consider all of the stores within the counties that you selected.  So, how many stores are within the selected counties?\n",
    "\n",
    "To prepare to answer this question, run the next code cell to create a GeoDataFrame `starbucks_gdf` with all of the starbucks locations."
   ]
  },
  {
   "cell_type": "code",
   "execution_count": 19,
   "metadata": {
    "execution": {
     "iopub.execute_input": "2021-01-31T19:46:34.143756Z",
     "iopub.status.busy": "2021-01-31T19:46:34.143109Z",
     "iopub.status.idle": "2021-01-31T19:46:34.193117Z",
     "shell.execute_reply": "2021-01-31T19:46:34.192532Z"
    },
    "papermill": {
     "duration": 0.088327,
     "end_time": "2021-01-31T19:46:34.193269",
     "exception": false,
     "start_time": "2021-01-31T19:46:34.104942",
     "status": "completed"
    },
    "tags": []
   },
   "outputs": [
    {
     "name": "stderr",
     "output_type": "stream",
     "text": [
      "/opt/conda/lib/python3.7/site-packages/pyproj/crs/crs.py:53: FutureWarning: '+init=<authority>:<code>' syntax is deprecated. '<authority>:<code>' is the preferred initialization method. When making the change, be mindful of axis order changes: https://pyproj4.github.io/pyproj/stable/gotchas.html#axis-order-changes-in-proj-6\n",
      "  return _prepare_from_string(\" \".join(pjargs))\n"
     ]
    }
   ],
   "source": [
    "starbucks_gdf = gpd.GeoDataFrame(starbucks, geometry=gpd.points_from_xy(starbucks.Longitude, starbucks.Latitude))\n",
    "starbucks_gdf.crs = {'init': 'epsg:4326'}"
   ]
  },
  {
   "cell_type": "markdown",
   "metadata": {
    "papermill": {
     "duration": 0.034245,
     "end_time": "2021-01-31T19:46:34.261783",
     "exception": false,
     "start_time": "2021-01-31T19:46:34.227538",
     "status": "completed"
    },
    "tags": []
   },
   "source": [
    "So, how many stores are in the counties you selected?"
   ]
  },
  {
   "cell_type": "code",
   "execution_count": 20,
   "metadata": {
    "execution": {
     "iopub.execute_input": "2021-01-31T19:46:34.338557Z",
     "iopub.status.busy": "2021-01-31T19:46:34.337493Z",
     "iopub.status.idle": "2021-01-31T19:46:34.396453Z",
     "shell.execute_reply": "2021-01-31T19:46:34.396916Z"
    },
    "papermill": {
     "duration": 0.101268,
     "end_time": "2021-01-31T19:46:34.397136",
     "exception": false,
     "start_time": "2021-01-31T19:46:34.295868",
     "status": "completed"
    },
    "tags": []
   },
   "outputs": [
    {
     "data": {
      "text/html": [
       "<div>\n",
       "<style scoped>\n",
       "    .dataframe tbody tr th:only-of-type {\n",
       "        vertical-align: middle;\n",
       "    }\n",
       "\n",
       "    .dataframe tbody tr th {\n",
       "        vertical-align: top;\n",
       "    }\n",
       "\n",
       "    .dataframe thead th {\n",
       "        text-align: right;\n",
       "    }\n",
       "</style>\n",
       "<table border=\"1\" class=\"dataframe\">\n",
       "  <thead>\n",
       "    <tr style=\"text-align: right;\">\n",
       "      <th></th>\n",
       "      <th>GEOID</th>\n",
       "      <th>name</th>\n",
       "      <th>area_sqkm</th>\n",
       "      <th>geometry</th>\n",
       "      <th>population</th>\n",
       "      <th>high_earners</th>\n",
       "      <th>median_age</th>\n",
       "      <th>density</th>\n",
       "    </tr>\n",
       "  </thead>\n",
       "  <tbody>\n",
       "    <tr>\n",
       "      <th>5</th>\n",
       "      <td>6037</td>\n",
       "      <td>Los Angeles County</td>\n",
       "      <td>12305.376879</td>\n",
       "      <td>MULTIPOLYGON (((-118.66761 33.47749, -118.6682...</td>\n",
       "      <td>10105518</td>\n",
       "      <td>501413</td>\n",
       "      <td>36.0</td>\n",
       "      <td>821.227834</td>\n",
       "    </tr>\n",
       "    <tr>\n",
       "      <th>8</th>\n",
       "      <td>6073</td>\n",
       "      <td>San Diego County</td>\n",
       "      <td>11721.342229</td>\n",
       "      <td>POLYGON ((-117.43744 33.17953, -117.44955 33.1...</td>\n",
       "      <td>3343364</td>\n",
       "      <td>194676</td>\n",
       "      <td>35.4</td>\n",
       "      <td>285.237299</td>\n",
       "    </tr>\n",
       "    <tr>\n",
       "      <th>10</th>\n",
       "      <td>6075</td>\n",
       "      <td>San Francisco County</td>\n",
       "      <td>600.588247</td>\n",
       "      <td>MULTIPOLYGON (((-122.60025 37.80249, -122.6123...</td>\n",
       "      <td>883305</td>\n",
       "      <td>114989</td>\n",
       "      <td>38.3</td>\n",
       "      <td>1470.733077</td>\n",
       "    </tr>\n",
       "  </tbody>\n",
       "</table>\n",
       "</div>"
      ],
      "text/plain": [
       "    GEOID                  name     area_sqkm  \\\n",
       "5    6037    Los Angeles County  12305.376879   \n",
       "8    6073      San Diego County  11721.342229   \n",
       "10   6075  San Francisco County    600.588247   \n",
       "\n",
       "                                             geometry  population  \\\n",
       "5   MULTIPOLYGON (((-118.66761 33.47749, -118.6682...    10105518   \n",
       "8   POLYGON ((-117.43744 33.17953, -117.44955 33.1...     3343364   \n",
       "10  MULTIPOLYGON (((-122.60025 37.80249, -122.6123...      883305   \n",
       "\n",
       "    high_earners  median_age      density  \n",
       "5         501413        36.0   821.227834  \n",
       "8         194676        35.4   285.237299  \n",
       "10        114989        38.3  1470.733077  "
      ]
     },
     "execution_count": 20,
     "metadata": {},
     "output_type": "execute_result"
    }
   ],
   "source": [
    "sel_counties"
   ]
  },
  {
   "cell_type": "code",
   "execution_count": 21,
   "metadata": {
    "execution": {
     "iopub.execute_input": "2021-01-31T19:46:34.477957Z",
     "iopub.status.busy": "2021-01-31T19:46:34.477273Z",
     "iopub.status.idle": "2021-01-31T19:46:34.489684Z",
     "shell.execute_reply": "2021-01-31T19:46:34.489040Z"
    },
    "papermill": {
     "duration": 0.056085,
     "end_time": "2021-01-31T19:46:34.489827",
     "exception": false,
     "start_time": "2021-01-31T19:46:34.433742",
     "status": "completed"
    },
    "tags": []
   },
   "outputs": [
    {
     "data": {
      "text/html": [
       "<div>\n",
       "<style scoped>\n",
       "    .dataframe tbody tr th:only-of-type {\n",
       "        vertical-align: middle;\n",
       "    }\n",
       "\n",
       "    .dataframe tbody tr th {\n",
       "        vertical-align: top;\n",
       "    }\n",
       "\n",
       "    .dataframe thead th {\n",
       "        text-align: right;\n",
       "    }\n",
       "</style>\n",
       "<table border=\"1\" class=\"dataframe\">\n",
       "  <thead>\n",
       "    <tr style=\"text-align: right;\">\n",
       "      <th></th>\n",
       "      <th>Store Number</th>\n",
       "      <th>Store Name</th>\n",
       "      <th>Address</th>\n",
       "      <th>City</th>\n",
       "      <th>Longitude</th>\n",
       "      <th>Latitude</th>\n",
       "      <th>geometry</th>\n",
       "    </tr>\n",
       "  </thead>\n",
       "  <tbody>\n",
       "    <tr>\n",
       "      <th>0</th>\n",
       "      <td>10429-100710</td>\n",
       "      <td>Palmdale &amp; Hwy 395</td>\n",
       "      <td>14136 US Hwy 395 Adelanto CA</td>\n",
       "      <td>Adelanto</td>\n",
       "      <td>-117.40</td>\n",
       "      <td>34.51</td>\n",
       "      <td>POINT (-117.40000 34.51000)</td>\n",
       "    </tr>\n",
       "    <tr>\n",
       "      <th>1</th>\n",
       "      <td>635-352</td>\n",
       "      <td>Kanan &amp; Thousand Oaks</td>\n",
       "      <td>5827 Kanan Road Agoura CA</td>\n",
       "      <td>Agoura</td>\n",
       "      <td>-118.76</td>\n",
       "      <td>34.16</td>\n",
       "      <td>POINT (-118.76000 34.16000)</td>\n",
       "    </tr>\n",
       "    <tr>\n",
       "      <th>2</th>\n",
       "      <td>74510-27669</td>\n",
       "      <td>Vons-Agoura Hills #2001</td>\n",
       "      <td>5671 Kanan Rd. Agoura Hills CA</td>\n",
       "      <td>Agoura Hills</td>\n",
       "      <td>-118.76</td>\n",
       "      <td>34.15</td>\n",
       "      <td>POINT (-118.76000 34.15000)</td>\n",
       "    </tr>\n",
       "    <tr>\n",
       "      <th>3</th>\n",
       "      <td>29839-255026</td>\n",
       "      <td>Target Anaheim T-0677</td>\n",
       "      <td>8148 E SANTA ANA CANYON ROAD AHAHEIM CA</td>\n",
       "      <td>AHAHEIM</td>\n",
       "      <td>-117.75</td>\n",
       "      <td>33.87</td>\n",
       "      <td>POINT (-117.75000 33.87000)</td>\n",
       "    </tr>\n",
       "    <tr>\n",
       "      <th>4</th>\n",
       "      <td>23463-230284</td>\n",
       "      <td>Safeway - Alameda 3281</td>\n",
       "      <td>2600 5th Street Alameda CA</td>\n",
       "      <td>Alameda</td>\n",
       "      <td>-122.28</td>\n",
       "      <td>37.79</td>\n",
       "      <td>POINT (-122.28000 37.79000)</td>\n",
       "    </tr>\n",
       "  </tbody>\n",
       "</table>\n",
       "</div>"
      ],
      "text/plain": [
       "   Store Number               Store Name  \\\n",
       "0  10429-100710       Palmdale & Hwy 395   \n",
       "1       635-352    Kanan & Thousand Oaks   \n",
       "2   74510-27669  Vons-Agoura Hills #2001   \n",
       "3  29839-255026    Target Anaheim T-0677   \n",
       "4  23463-230284   Safeway - Alameda 3281   \n",
       "\n",
       "                                   Address          City  Longitude  Latitude  \\\n",
       "0             14136 US Hwy 395 Adelanto CA      Adelanto    -117.40     34.51   \n",
       "1                5827 Kanan Road Agoura CA        Agoura    -118.76     34.16   \n",
       "2           5671 Kanan Rd. Agoura Hills CA  Agoura Hills    -118.76     34.15   \n",
       "3  8148 E SANTA ANA CANYON ROAD AHAHEIM CA       AHAHEIM    -117.75     33.87   \n",
       "4               2600 5th Street Alameda CA       Alameda    -122.28     37.79   \n",
       "\n",
       "                      geometry  \n",
       "0  POINT (-117.40000 34.51000)  \n",
       "1  POINT (-118.76000 34.16000)  \n",
       "2  POINT (-118.76000 34.15000)  \n",
       "3  POINT (-117.75000 33.87000)  \n",
       "4  POINT (-122.28000 37.79000)  "
      ]
     },
     "execution_count": 21,
     "metadata": {},
     "output_type": "execute_result"
    }
   ],
   "source": [
    "starbucks_gdf.head()"
   ]
  },
  {
   "cell_type": "code",
   "execution_count": 22,
   "metadata": {
    "execution": {
     "iopub.execute_input": "2021-01-31T19:46:34.567631Z",
     "iopub.status.busy": "2021-01-31T19:46:34.566669Z",
     "iopub.status.idle": "2021-01-31T19:46:34.762069Z",
     "shell.execute_reply": "2021-01-31T19:46:34.761411Z"
    },
    "papermill": {
     "duration": 0.235844,
     "end_time": "2021-01-31T19:46:34.762218",
     "exception": false,
     "start_time": "2021-01-31T19:46:34.526374",
     "status": "completed"
    },
    "tags": []
   },
   "outputs": [
    {
     "name": "stdout",
     "output_type": "stream",
     "text": [
      "1043\n"
     ]
    },
    {
     "data": {
      "application/javascript": [
       "parent.postMessage({\"jupyterEvent\": \"custom.exercise_interaction\", \"data\": {\"outcomeType\": 1, \"valueTowardsCompletion\": 0.2, \"interactionType\": 1, \"questionType\": 2, \"questionId\": \"5_Q5\", \"learnToolsVersion\": \"0.3.4\", \"failureMessage\": \"\", \"exceptionClass\": \"\", \"trace\": \"\"}}, \"*\")"
      ],
      "text/plain": [
       "<IPython.core.display.Javascript object>"
      ]
     },
     "metadata": {},
     "output_type": "display_data"
    },
    {
     "data": {
      "text/markdown": [
       "<span style=\"color:#33cc33\">Correct</span>"
      ],
      "text/plain": [
       "Correct"
      ]
     },
     "metadata": {},
     "output_type": "display_data"
    }
   ],
   "source": [
    "# Fill in your answer\n",
    "num_stores = gpd.sjoin(sel_counties, starbucks_gdf).shape[0]\n",
    "print(num_stores)\n",
    "\n",
    "# Check your answer\n",
    "q_5.check()"
   ]
  },
  {
   "cell_type": "code",
   "execution_count": 23,
   "metadata": {
    "execution": {
     "iopub.execute_input": "2021-01-31T19:46:34.839226Z",
     "iopub.status.busy": "2021-01-31T19:46:34.838591Z",
     "iopub.status.idle": "2021-01-31T19:46:34.841586Z",
     "shell.execute_reply": "2021-01-31T19:46:34.840973Z"
    },
    "papermill": {
     "duration": 0.043328,
     "end_time": "2021-01-31T19:46:34.841734",
     "exception": false,
     "start_time": "2021-01-31T19:46:34.798406",
     "status": "completed"
    },
    "tags": []
   },
   "outputs": [],
   "source": [
    "# Lines below will give you a hint or solution code\n",
    "#q_5.hint()\n",
    "#q_5.solution()"
   ]
  },
  {
   "cell_type": "markdown",
   "metadata": {
    "papermill": {
     "duration": 0.036518,
     "end_time": "2021-01-31T19:46:34.915426",
     "exception": false,
     "start_time": "2021-01-31T19:46:34.878908",
     "status": "completed"
    },
    "tags": []
   },
   "source": [
    "### 6) Visualize the store locations.\n",
    "\n",
    "Create a map that shows the locations of the stores that you identified in the previous question."
   ]
  },
  {
   "cell_type": "code",
   "execution_count": 24,
   "metadata": {
    "execution": {
     "iopub.execute_input": "2021-01-31T19:46:34.996402Z",
     "iopub.status.busy": "2021-01-31T19:46:34.995721Z",
     "iopub.status.idle": "2021-01-31T19:46:35.201000Z",
     "shell.execute_reply": "2021-01-31T19:46:35.200421Z"
    },
    "papermill": {
     "duration": 0.247521,
     "end_time": "2021-01-31T19:46:35.201180",
     "exception": false,
     "start_time": "2021-01-31T19:46:34.953659",
     "status": "completed"
    },
    "tags": []
   },
   "outputs": [
    {
     "data": {
      "text/html": [
       "<div>\n",
       "<style scoped>\n",
       "    .dataframe tbody tr th:only-of-type {\n",
       "        vertical-align: middle;\n",
       "    }\n",
       "\n",
       "    .dataframe tbody tr th {\n",
       "        vertical-align: top;\n",
       "    }\n",
       "\n",
       "    .dataframe thead th {\n",
       "        text-align: right;\n",
       "    }\n",
       "</style>\n",
       "<table border=\"1\" class=\"dataframe\">\n",
       "  <thead>\n",
       "    <tr style=\"text-align: right;\">\n",
       "      <th></th>\n",
       "      <th>GEOID</th>\n",
       "      <th>name</th>\n",
       "      <th>area_sqkm</th>\n",
       "      <th>geometry</th>\n",
       "      <th>population</th>\n",
       "      <th>high_earners</th>\n",
       "      <th>median_age</th>\n",
       "      <th>density</th>\n",
       "      <th>index_right</th>\n",
       "      <th>Store Number</th>\n",
       "      <th>Store Name</th>\n",
       "      <th>Address</th>\n",
       "      <th>City</th>\n",
       "      <th>Longitude</th>\n",
       "      <th>Latitude</th>\n",
       "    </tr>\n",
       "  </thead>\n",
       "  <tbody>\n",
       "    <tr>\n",
       "      <th>5</th>\n",
       "      <td>6037</td>\n",
       "      <td>Los Angeles County</td>\n",
       "      <td>12305.376879</td>\n",
       "      <td>MULTIPOLYGON (((-118.66761 33.47749, -118.6682...</td>\n",
       "      <td>10105518</td>\n",
       "      <td>501413</td>\n",
       "      <td>36.0</td>\n",
       "      <td>821.227834</td>\n",
       "      <td>346</td>\n",
       "      <td>10540-193704</td>\n",
       "      <td>Fullerton &amp; Gale</td>\n",
       "      <td>18200 Gale Avenue City of Industry CA</td>\n",
       "      <td>City of Industry</td>\n",
       "      <td>-117.91</td>\n",
       "      <td>33.99</td>\n",
       "    </tr>\n",
       "    <tr>\n",
       "      <th>5</th>\n",
       "      <td>6037</td>\n",
       "      <td>Los Angeles County</td>\n",
       "      <td>12305.376879</td>\n",
       "      <td>MULTIPOLYGON (((-118.66761 33.47749, -118.6682...</td>\n",
       "      <td>10105518</td>\n",
       "      <td>501413</td>\n",
       "      <td>36.0</td>\n",
       "      <td>821.227834</td>\n",
       "      <td>1807</td>\n",
       "      <td>76189-93365</td>\n",
       "      <td>Target Rowland Heights T-222</td>\n",
       "      <td>17751 Colima Rd Rowland Heights CA</td>\n",
       "      <td>Rowland Heights</td>\n",
       "      <td>-117.92</td>\n",
       "      <td>33.99</td>\n",
       "    </tr>\n",
       "    <tr>\n",
       "      <th>5</th>\n",
       "      <td>6037</td>\n",
       "      <td>Los Angeles County</td>\n",
       "      <td>12305.376879</td>\n",
       "      <td>MULTIPOLYGON (((-118.66761 33.47749, -118.6682...</td>\n",
       "      <td>10105518</td>\n",
       "      <td>501413</td>\n",
       "      <td>36.0</td>\n",
       "      <td>821.227834</td>\n",
       "      <td>768</td>\n",
       "      <td>74766-98352</td>\n",
       "      <td>Vons-Hacienda Heights #3086</td>\n",
       "      <td>2122 S Hacienda Blvd, Strawflower Village Shop...</td>\n",
       "      <td>Hacienda Heights</td>\n",
       "      <td>-117.97</td>\n",
       "      <td>34.00</td>\n",
       "    </tr>\n",
       "    <tr>\n",
       "      <th>5</th>\n",
       "      <td>6037</td>\n",
       "      <td>Los Angeles County</td>\n",
       "      <td>12305.376879</td>\n",
       "      <td>MULTIPOLYGON (((-118.66761 33.47749, -118.6682...</td>\n",
       "      <td>10105518</td>\n",
       "      <td>501413</td>\n",
       "      <td>36.0</td>\n",
       "      <td>821.227834</td>\n",
       "      <td>485</td>\n",
       "      <td>76687-102983</td>\n",
       "      <td>Target Diamond Bar T-2179</td>\n",
       "      <td>747 Grand Ave Diamond Bar CA</td>\n",
       "      <td>Diamond Bar</td>\n",
       "      <td>-117.82</td>\n",
       "      <td>34.00</td>\n",
       "    </tr>\n",
       "    <tr>\n",
       "      <th>5</th>\n",
       "      <td>6037</td>\n",
       "      <td>Los Angeles County</td>\n",
       "      <td>12305.376879</td>\n",
       "      <td>MULTIPOLYGON (((-118.66761 33.47749, -118.6682...</td>\n",
       "      <td>10105518</td>\n",
       "      <td>501413</td>\n",
       "      <td>36.0</td>\n",
       "      <td>821.227834</td>\n",
       "      <td>486</td>\n",
       "      <td>5681-219126</td>\n",
       "      <td>Grand &amp; Golden Springs</td>\n",
       "      <td>22438 Golden Springs Drive, Suite 100 Diamond ...</td>\n",
       "      <td>Diamond Bar</td>\n",
       "      <td>-117.82</td>\n",
       "      <td>34.01</td>\n",
       "    </tr>\n",
       "  </tbody>\n",
       "</table>\n",
       "</div>"
      ],
      "text/plain": [
       "   GEOID                name     area_sqkm  \\\n",
       "5   6037  Los Angeles County  12305.376879   \n",
       "5   6037  Los Angeles County  12305.376879   \n",
       "5   6037  Los Angeles County  12305.376879   \n",
       "5   6037  Los Angeles County  12305.376879   \n",
       "5   6037  Los Angeles County  12305.376879   \n",
       "\n",
       "                                            geometry  population  \\\n",
       "5  MULTIPOLYGON (((-118.66761 33.47749, -118.6682...    10105518   \n",
       "5  MULTIPOLYGON (((-118.66761 33.47749, -118.6682...    10105518   \n",
       "5  MULTIPOLYGON (((-118.66761 33.47749, -118.6682...    10105518   \n",
       "5  MULTIPOLYGON (((-118.66761 33.47749, -118.6682...    10105518   \n",
       "5  MULTIPOLYGON (((-118.66761 33.47749, -118.6682...    10105518   \n",
       "\n",
       "   high_earners  median_age     density  index_right  Store Number  \\\n",
       "5        501413        36.0  821.227834          346  10540-193704   \n",
       "5        501413        36.0  821.227834         1807   76189-93365   \n",
       "5        501413        36.0  821.227834          768   74766-98352   \n",
       "5        501413        36.0  821.227834          485  76687-102983   \n",
       "5        501413        36.0  821.227834          486   5681-219126   \n",
       "\n",
       "                     Store Name  \\\n",
       "5              Fullerton & Gale   \n",
       "5  Target Rowland Heights T-222   \n",
       "5   Vons-Hacienda Heights #3086   \n",
       "5     Target Diamond Bar T-2179   \n",
       "5        Grand & Golden Springs   \n",
       "\n",
       "                                             Address              City  \\\n",
       "5              18200 Gale Avenue City of Industry CA  City of Industry   \n",
       "5                 17751 Colima Rd Rowland Heights CA   Rowland Heights   \n",
       "5  2122 S Hacienda Blvd, Strawflower Village Shop...  Hacienda Heights   \n",
       "5                       747 Grand Ave Diamond Bar CA       Diamond Bar   \n",
       "5  22438 Golden Springs Drive, Suite 100 Diamond ...       Diamond Bar   \n",
       "\n",
       "   Longitude  Latitude  \n",
       "5    -117.91     33.99  \n",
       "5    -117.92     33.99  \n",
       "5    -117.97     34.00  \n",
       "5    -117.82     34.00  \n",
       "5    -117.82     34.01  "
      ]
     },
     "execution_count": 24,
     "metadata": {},
     "output_type": "execute_result"
    }
   ],
   "source": [
    "sel_stores = gpd.sjoin(sel_counties,starbucks_gdf)\n",
    "sel_stores.head()"
   ]
  },
  {
   "cell_type": "code",
   "execution_count": 25,
   "metadata": {
    "execution": {
     "iopub.execute_input": "2021-01-31T19:46:35.287652Z",
     "iopub.status.busy": "2021-01-31T19:46:35.286843Z",
     "iopub.status.idle": "2021-01-31T19:46:36.128615Z",
     "shell.execute_reply": "2021-01-31T19:46:36.127942Z"
    },
    "papermill": {
     "duration": 0.886181,
     "end_time": "2021-01-31T19:46:36.128770",
     "exception": false,
     "start_time": "2021-01-31T19:46:35.242589",
     "status": "completed"
    },
    "tags": []
   },
   "outputs": [
    {
     "data": {
      "text/html": [
       "\n",
       "        <iframe\n",
       "            width=\"100%\"\n",
       "            height=\"500px\"\n",
       "            src=\"q_6.html\"\n",
       "            frameborder=\"0\"\n",
       "            allowfullscreen\n",
       "        ></iframe>\n",
       "        "
      ],
      "text/plain": [
       "<IPython.lib.display.IFrame at 0x7fc99b430910>"
      ]
     },
     "execution_count": 25,
     "metadata": {},
     "output_type": "execute_result"
    }
   ],
   "source": [
    "# Create a base map\n",
    "m_6 = folium.Map(location=[37,-120], zoom_start=6)\n",
    "\n",
    "# Your code here: show selected store locations\n",
    "mc = MarkerCluster()\n",
    "for idx, row in sel_stores.iterrows():\n",
    "    if not math.isnan(row['Longitude']) and not math.isnan(row['Latitude']):\n",
    "        mc.add_child(Marker([row['Latitude'], row['Longitude']]))\n",
    "m_6.add_child(mc)\n",
    "\n",
    "# Uncomment to see a hint\n",
    "#q_6.hint()\n",
    "\n",
    "# Show the map\n",
    "embed_map(m_6, 'q_6.html')"
   ]
  },
  {
   "cell_type": "code",
   "execution_count": 26,
   "metadata": {
    "execution": {
     "iopub.execute_input": "2021-01-31T19:46:36.213278Z",
     "iopub.status.busy": "2021-01-31T19:46:36.212459Z",
     "iopub.status.idle": "2021-01-31T19:46:36.218718Z",
     "shell.execute_reply": "2021-01-31T19:46:36.218084Z"
    },
    "papermill": {
     "duration": 0.050891,
     "end_time": "2021-01-31T19:46:36.218877",
     "exception": false,
     "start_time": "2021-01-31T19:46:36.167986",
     "status": "completed"
    },
    "tags": []
   },
   "outputs": [
    {
     "data": {
      "application/javascript": [
       "parent.postMessage({\"jupyterEvent\": \"custom.exercise_interaction\", \"data\": {\"outcomeType\": 1, \"valueTowardsCompletion\": 0.2, \"interactionType\": 1, \"questionType\": 2, \"questionId\": \"6_Q6\", \"learnToolsVersion\": \"0.3.4\", \"failureMessage\": \"\", \"exceptionClass\": \"\", \"trace\": \"\"}}, \"*\")"
      ],
      "text/plain": [
       "<IPython.core.display.Javascript object>"
      ]
     },
     "metadata": {},
     "output_type": "display_data"
    },
    {
     "data": {
      "text/markdown": [
       "<span style=\"color:#33cc33\">Thank you for creating a map!</span>"
      ],
      "text/plain": [
       "Thank you for creating a map!"
      ]
     },
     "metadata": {},
     "output_type": "display_data"
    }
   ],
   "source": [
    "# Get credit for your work after you have created a map\n",
    "q_6.check()\n",
    "\n",
    "# Uncomment to see our solution (your code may look different!)\n",
    "#q_6.solution()"
   ]
  },
  {
   "cell_type": "markdown",
   "metadata": {
    "papermill": {
     "duration": 0.039042,
     "end_time": "2021-01-31T19:46:36.297570",
     "exception": false,
     "start_time": "2021-01-31T19:46:36.258528",
     "status": "completed"
    },
    "tags": []
   },
   "source": [
    "# Keep going\n",
    "\n",
    "Learn about how **[proximity analysis](https://www.kaggle.com/alexisbcook/proximity-analysis)** can help you to understand the relationships between points on a map."
   ]
  },
  {
   "cell_type": "markdown",
   "metadata": {
    "papermill": {
     "duration": 0.039306,
     "end_time": "2021-01-31T19:46:36.377562",
     "exception": false,
     "start_time": "2021-01-31T19:46:36.338256",
     "status": "completed"
    },
    "tags": []
   },
   "source": [
    "---\n",
    "\n",
    "\n",
    "\n",
    "\n",
    "*Have questions or comments? Visit the [Learn Discussion forum](https://www.kaggle.com/learn-forum/161464) to chat with other Learners.*"
   ]
  }
 ],
 "metadata": {
  "kernelspec": {
   "display_name": "Python 3",
   "language": "python",
   "name": "python3"
  },
  "language_info": {
   "codemirror_mode": {
    "name": "ipython",
    "version": 3
   },
   "file_extension": ".py",
   "mimetype": "text/x-python",
   "name": "python",
   "nbconvert_exporter": "python",
   "pygments_lexer": "ipython3",
   "version": "3.7.9"
  },
  "papermill": {
   "default_parameters": {},
   "duration": 13.795921,
   "end_time": "2021-01-31T19:46:37.026272",
   "environment_variables": {},
   "exception": null,
   "input_path": "__notebook__.ipynb",
   "output_path": "__notebook__.ipynb",
   "parameters": {},
   "start_time": "2021-01-31T19:46:23.230351",
   "version": "2.2.2"
  }
 },
 "nbformat": 4,
 "nbformat_minor": 4
}
