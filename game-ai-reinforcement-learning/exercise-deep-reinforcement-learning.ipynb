{
 "cells": [
  {
   "cell_type": "markdown",
   "metadata": {
    "papermill": {
     "duration": 0.011939,
     "end_time": "2021-02-21T19:41:57.171110",
     "exception": false,
     "start_time": "2021-02-21T19:41:57.159171",
     "status": "completed"
    },
    "tags": []
   },
   "source": [
    "**This notebook is an exercise in the [Intro to Game AI and Reinforcement Learning](https://www.kaggle.com/learn/intro-to-game-ai-and-reinforcement-learning) course.  You can reference the tutorial at [this link](https://www.kaggle.com/alexisbcook/deep-reinforcement-learning).**\n",
    "\n",
    "---\n"
   ]
  },
  {
   "cell_type": "markdown",
   "metadata": {
    "papermill": {
     "duration": 0.010884,
     "end_time": "2021-02-21T19:41:57.193063",
     "exception": false,
     "start_time": "2021-02-21T19:41:57.182179",
     "status": "completed"
    },
    "tags": []
   },
   "source": [
    "# Introduction\n",
    "\n",
    "In the tutorial, you learned a bit about reinforcement learning and used the `stable-baselines` package to train an agent to beat a random opponent.  In this exercise, you will check your understanding and tinker with the code to deepen your intuition."
   ]
  },
  {
   "cell_type": "code",
   "execution_count": 1,
   "metadata": {
    "execution": {
     "iopub.execute_input": "2021-02-21T19:41:57.222224Z",
     "iopub.status.busy": "2021-02-21T19:41:57.221382Z",
     "iopub.status.idle": "2021-02-21T19:41:57.282481Z",
     "shell.execute_reply": "2021-02-21T19:41:57.281681Z"
    },
    "papermill": {
     "duration": 0.078781,
     "end_time": "2021-02-21T19:41:57.282754",
     "exception": false,
     "start_time": "2021-02-21T19:41:57.203973",
     "status": "completed"
    },
    "tags": []
   },
   "outputs": [],
   "source": [
    "from learntools.core import binder\n",
    "binder.bind(globals())\n",
    "from learntools.game_ai.ex4 import *"
   ]
  },
  {
   "cell_type": "markdown",
   "metadata": {
    "papermill": {
     "duration": 0.010571,
     "end_time": "2021-02-21T19:41:57.305301",
     "exception": false,
     "start_time": "2021-02-21T19:41:57.294730",
     "status": "completed"
    },
    "tags": []
   },
   "source": [
    "### 1) Set the architecture\n",
    "\n",
    "In the tutorial, you learned one way to design a neural network that can select moves in Connect Four.  The neural network had an output layer with seven nodes: one for each column in the game board.\n",
    "\n",
    "Say now you wanted to create a neural network that can play chess.  How many nodes should you put in the output layer?\n",
    "\n",
    "- Option A: 2 nodes (number of game players)\n",
    "- Option B: 16 nodes (number of game pieces that each player starts with)\n",
    "- Option C: 4672 nodes (number of possible moves)\n",
    "- Option D: 64 nodes (number of squares on the game board)\n",
    "\n",
    "Use your answer to set the value of the `best_option` variable below.  Your answer should be one of `'A'`, `'B'`, `'C'`, or `'D'`."
   ]
  },
  {
   "cell_type": "code",
   "execution_count": 2,
   "metadata": {
    "execution": {
     "iopub.execute_input": "2021-02-21T19:41:57.336407Z",
     "iopub.status.busy": "2021-02-21T19:41:57.335267Z",
     "iopub.status.idle": "2021-02-21T19:41:57.341910Z",
     "shell.execute_reply": "2021-02-21T19:41:57.342592Z"
    },
    "papermill": {
     "duration": 0.026411,
     "end_time": "2021-02-21T19:41:57.342809",
     "exception": false,
     "start_time": "2021-02-21T19:41:57.316398",
     "status": "completed"
    },
    "tags": []
   },
   "outputs": [
    {
     "data": {
      "application/javascript": [
       "parent.postMessage({\"jupyterEvent\": \"custom.exercise_interaction\", \"data\": {\"outcomeType\": 1, \"valueTowardsCompletion\": 0.5, \"interactionType\": 1, \"questionType\": 2, \"questionId\": \"1_PickBestOption\", \"learnToolsVersion\": \"0.3.4\", \"failureMessage\": \"\", \"exceptionClass\": \"\", \"trace\": \"\"}}, \"*\")"
      ],
      "text/plain": [
       "<IPython.core.display.Javascript object>"
      ]
     },
     "metadata": {},
     "output_type": "display_data"
    },
    {
     "data": {
      "text/markdown": [
       "<span style=\"color:#33cc33\">Correct:</span> If we use a similar network as in the tutorial, the network should output a probability for each possible move."
      ],
      "text/plain": [
       "Correct: If we use a similar network as in the tutorial, the network should output a probability for each possible move."
      ]
     },
     "metadata": {},
     "output_type": "display_data"
    }
   ],
   "source": [
    "# Fill in the blank\n",
    "best_option = 'C'\n",
    "\n",
    "# Check your answer\n",
    "q_1.check()"
   ]
  },
  {
   "cell_type": "code",
   "execution_count": 3,
   "metadata": {
    "execution": {
     "iopub.execute_input": "2021-02-21T19:41:57.373665Z",
     "iopub.status.busy": "2021-02-21T19:41:57.372616Z",
     "iopub.status.idle": "2021-02-21T19:41:57.375037Z",
     "shell.execute_reply": "2021-02-21T19:41:57.375772Z"
    },
    "papermill": {
     "duration": 0.020362,
     "end_time": "2021-02-21T19:41:57.375965",
     "exception": false,
     "start_time": "2021-02-21T19:41:57.355603",
     "status": "completed"
    },
    "tags": []
   },
   "outputs": [],
   "source": [
    "# Lines below will give you solution code\n",
    "#q_1.solution()"
   ]
  },
  {
   "cell_type": "markdown",
   "metadata": {
    "papermill": {
     "duration": 0.012361,
     "end_time": "2021-02-21T19:41:57.401099",
     "exception": false,
     "start_time": "2021-02-21T19:41:57.388738",
     "status": "completed"
    },
    "tags": []
   },
   "source": [
    "### 2) Decide reward\n",
    "\n",
    "In the tutorial, you learned how to give your agent a reward that encourages it to win games of Connect Four.  Consider now training an agent to win at the game [Minesweeper](https://bit.ly/2T5xEY8).  The goal of the game is to clear the board without detonating any bombs.\n",
    "\n",
    "To play this game in Google Search, click on the **[Play]** button at [this link](https://www.google.com/search?q=minesweeper).  \n",
    "\n",
    "<center>\n",
    "<img src=\"https://i.imgur.com/WzoEfKY.png\" width=50%><br/>\n",
    "</center>\n",
    "\n",
    "With each move, one of the following is true:\n",
    "- The agent selected an invalid move (in other words, it tried to uncover a square that was uncovered as part of a previous move).  Let's assume this ends the game, and the agent loses.\n",
    "- The agent clears a square that did not contain a hidden mine.  The agent wins the game, because all squares without mines are revealed.\n",
    "- The agent clears a square that did not contain a hidden mine, but has not yet won or lost the game.\n",
    "- The agent detonates a mine and loses the game.\n",
    "\n",
    "How might you specify the reward for each of these four cases, so that by maximizing the cumulative reward, the agent will try to win the game?\n",
    "\n",
    "After you have decided on your answer, run the code cell below to get credit for completing this question."
   ]
  },
  {
   "cell_type": "code",
   "execution_count": 4,
   "metadata": {
    "execution": {
     "iopub.execute_input": "2021-02-21T19:41:57.432793Z",
     "iopub.status.busy": "2021-02-21T19:41:57.431702Z",
     "iopub.status.idle": "2021-02-21T19:41:57.438402Z",
     "shell.execute_reply": "2021-02-21T19:41:57.439046Z"
    },
    "papermill": {
     "duration": 0.025461,
     "end_time": "2021-02-21T19:41:57.439301",
     "exception": false,
     "start_time": "2021-02-21T19:41:57.413840",
     "status": "completed"
    },
    "tags": []
   },
   "outputs": [
    {
     "data": {
      "application/javascript": [
       "parent.postMessage({\"jupyterEvent\": \"custom.exercise_interaction\", \"data\": {\"interactionType\": 3, \"questionType\": 4, \"questionId\": \"2_DecideReward\", \"learnToolsVersion\": \"0.3.4\", \"valueTowardsCompletion\": 0.0, \"failureMessage\": \"\", \"exceptionClass\": \"\", \"trace\": \"\", \"outcomeType\": 4}}, \"*\")"
      ],
      "text/plain": [
       "<IPython.core.display.Javascript object>"
      ]
     },
     "metadata": {},
     "output_type": "display_data"
    },
    {
     "data": {
      "text/markdown": [
       "<span style=\"color:#33cc99\">Solution:</span> Here's a possible solution - after each move, we give the agent a reward that tells it how well it did:\n",
       "- If agent wins the game in that move, it gets a reward of `+1`.\n",
       "- Else if the agent selects an invalid move, it gets a reward of `-10`.\n",
       "- Else if it detonates a mine, it gets a reward of `-1`.\n",
       "- Else if the agent clears a square with no hidden mine, it gets a reward of `+1/100`.\n",
       "\n",
       "To check the validity of your answer, note that the reward for selecting an invalid move and for detonating a mine should both be negative.  The reward for winning the game should be positive.  And, the reward for clearing a square with no hidden mine should be either zero or slightly positive."
      ],
      "text/plain": [
       "Solution: Here's a possible solution - after each move, we give the agent a reward that tells it how well it did:\n",
       "- If agent wins the game in that move, it gets a reward of `+1`.\n",
       "- Else if the agent selects an invalid move, it gets a reward of `-10`.\n",
       "- Else if it detonates a mine, it gets a reward of `-1`.\n",
       "- Else if the agent clears a square with no hidden mine, it gets a reward of `+1/100`.\n",
       "\n",
       "To check the validity of your answer, note that the reward for selecting an invalid move and for detonating a mine should both be negative.  The reward for winning the game should be positive.  And, the reward for clearing a square with no hidden mine should be either zero or slightly positive."
      ]
     },
     "metadata": {},
     "output_type": "display_data"
    }
   ],
   "source": [
    "# Check your answer (Run this code cell to receive credit!)\n",
    "q_2.solution()"
   ]
  },
  {
   "cell_type": "markdown",
   "metadata": {
    "papermill": {
     "duration": 0.013668,
     "end_time": "2021-02-21T19:41:57.467258",
     "exception": false,
     "start_time": "2021-02-21T19:41:57.453590",
     "status": "completed"
    },
    "tags": []
   },
   "source": [
    "### 3) (Optional) Amend the code\n",
    "\n",
    "In this next part of the exercise, you will amend the code from the tutorial to experiment with creating your own agents!  There are a lot of hyperparameters involved with specifying a reinforcement learning agent, and you'll have a chance to amend them, to see how performance is affected.\n",
    "\n",
    "First, we'll need to make sure that your Kaggle Notebook is set up to run the code.  Begin by looking at the \"Settings\" menu to the right of your notebook.  Your menu will look like one of the following:\n",
    "\n",
    "<center>\n",
    "<img src=\"https://i.imgur.com/kR1az0y.png\" width=100%><br/>\n",
    "</center>\n",
    "\n",
    "If your \"Internet\" setting appears as a \"Requires phone verification\" link, click on this link.  This will bring you to a new window; then, follow the instructions to verify your account.  After following this step, your \"Internet\" setting will appear \"Off\", as in the example to the right.\n",
    "\n",
    "Once your \"Internet\" setting appears as \"Off\", click to turn it on.  You'll see a pop-up window that you'll need to \"Accept\" in order to complete the process and have the setting switched to \"On\".  Once the Internet is turned \"On\", you're ready to proceed!\n",
    "\n",
    "<center>\n",
    "<img src=\"https://i.imgur.com/gOVh6Aa.png\" width=100%><br/>\n",
    "</center>\n",
    "\n",
    "Begin by running the code cell below. "
   ]
  },
  {
   "cell_type": "code",
   "execution_count": 5,
   "metadata": {
    "execution": {
     "iopub.execute_input": "2021-02-21T19:41:57.511018Z",
     "iopub.status.busy": "2021-02-21T19:41:57.505783Z",
     "iopub.status.idle": "2021-02-21T19:44:39.207999Z",
     "shell.execute_reply": "2021-02-21T19:44:39.208619Z"
    },
    "papermill": {
     "duration": 161.727515,
     "end_time": "2021-02-21T19:44:39.208851",
     "exception": false,
     "start_time": "2021-02-21T19:41:57.481336",
     "status": "completed"
    },
    "tags": []
   },
   "outputs": [
    {
     "name": "stdout",
     "output_type": "stream",
     "text": [
      "Collecting tensorflow==1.15.0\r\n",
      "  Downloading tensorflow-1.15.0-cp37-cp37m-manylinux2010_x86_64.whl (412.3 MB)\r\n",
      "\u001b[K     |████████████████████████████████| 412.3 MB 19 kB/s \r\n",
      "\u001b[?25hRequirement already satisfied: termcolor>=1.1.0 in /opt/conda/lib/python3.7/site-packages (from tensorflow==1.15.0) (1.1.0)\r\n",
      "Collecting tensorflow-estimator==1.15.1\r\n",
      "  Downloading tensorflow_estimator-1.15.1-py2.py3-none-any.whl (503 kB)\r\n",
      "\u001b[K     |████████████████████████████████| 503 kB 32.8 MB/s \r\n",
      "\u001b[?25hCollecting tensorboard<1.16.0,>=1.15.0\r\n",
      "  Downloading tensorboard-1.15.0-py3-none-any.whl (3.8 MB)\r\n",
      "\u001b[K     |████████████████████████████████| 3.8 MB 34.2 MB/s \r\n",
      "\u001b[?25hRequirement already satisfied: wheel>=0.26 in /opt/conda/lib/python3.7/site-packages (from tensorflow==1.15.0) (0.36.2)\r\n",
      "Requirement already satisfied: grpcio>=1.8.6 in /opt/conda/lib/python3.7/site-packages (from tensorflow==1.15.0) (1.32.0)\r\n",
      "Requirement already satisfied: six>=1.10.0 in /opt/conda/lib/python3.7/site-packages (from tensorflow==1.15.0) (1.15.0)\r\n",
      "Requirement already satisfied: opt-einsum>=2.3.2 in /opt/conda/lib/python3.7/site-packages (from tensorflow==1.15.0) (3.3.0)\r\n",
      "Requirement already satisfied: google-pasta>=0.1.6 in /opt/conda/lib/python3.7/site-packages (from tensorflow==1.15.0) (0.2.0)\r\n",
      "Collecting gast==0.2.2\r\n",
      "  Downloading gast-0.2.2.tar.gz (10 kB)\r\n",
      "Collecting astor>=0.6.0\r\n",
      "  Downloading astor-0.8.1-py2.py3-none-any.whl (27 kB)\r\n",
      "Requirement already satisfied: keras-preprocessing>=1.0.5 in /opt/conda/lib/python3.7/site-packages (from tensorflow==1.15.0) (1.1.2)\r\n",
      "Requirement already satisfied: absl-py>=0.7.0 in /opt/conda/lib/python3.7/site-packages (from tensorflow==1.15.0) (0.10.0)\r\n",
      "Requirement already satisfied: numpy<2.0,>=1.16.0 in /opt/conda/lib/python3.7/site-packages (from tensorflow==1.15.0) (1.19.5)\r\n",
      "Collecting keras-applications>=1.0.8\r\n",
      "  Downloading Keras_Applications-1.0.8-py3-none-any.whl (50 kB)\r\n",
      "\u001b[K     |████████████████████████████████| 50 kB 4.2 MB/s \r\n",
      "\u001b[?25hRequirement already satisfied: protobuf>=3.6.1 in /opt/conda/lib/python3.7/site-packages (from tensorflow==1.15.0) (3.14.0)\r\n",
      "Requirement already satisfied: wrapt>=1.11.1 in /opt/conda/lib/python3.7/site-packages (from tensorflow==1.15.0) (1.12.1)\r\n",
      "Requirement already satisfied: h5py in /opt/conda/lib/python3.7/site-packages (from keras-applications>=1.0.8->tensorflow==1.15.0) (2.10.0)\r\n",
      "Requirement already satisfied: markdown>=2.6.8 in /opt/conda/lib/python3.7/site-packages (from tensorboard<1.16.0,>=1.15.0->tensorflow==1.15.0) (3.3.3)\r\n",
      "Requirement already satisfied: setuptools>=41.0.0 in /opt/conda/lib/python3.7/site-packages (from tensorboard<1.16.0,>=1.15.0->tensorflow==1.15.0) (49.6.0.post20201009)\r\n",
      "Requirement already satisfied: werkzeug>=0.11.15 in /opt/conda/lib/python3.7/site-packages (from tensorboard<1.16.0,>=1.15.0->tensorflow==1.15.0) (1.0.1)\r\n",
      "Requirement already satisfied: importlib-metadata in /opt/conda/lib/python3.7/site-packages (from markdown>=2.6.8->tensorboard<1.16.0,>=1.15.0->tensorflow==1.15.0) (3.3.0)\r\n",
      "Requirement already satisfied: zipp>=0.5 in /opt/conda/lib/python3.7/site-packages (from importlib-metadata->markdown>=2.6.8->tensorboard<1.16.0,>=1.15.0->tensorflow==1.15.0) (3.4.0)\r\n",
      "Requirement already satisfied: typing-extensions>=3.6.4 in /opt/conda/lib/python3.7/site-packages (from importlib-metadata->markdown>=2.6.8->tensorboard<1.16.0,>=1.15.0->tensorflow==1.15.0) (3.7.4.3)\r\n",
      "Building wheels for collected packages: gast\r\n",
      "  Building wheel for gast (setup.py) ... \u001b[?25l-\b \b\\\b \bdone\r\n",
      "\u001b[?25h  Created wheel for gast: filename=gast-0.2.2-py3-none-any.whl size=7538 sha256=912a857468461795198a2262d2cc1f722580bcceb6d78c8122f0c09e1edd5eb2\r\n",
      "  Stored in directory: /root/.cache/pip/wheels/21/7f/02/420f32a803f7d0967b48dd823da3f558c5166991bfd204eef3\r\n",
      "Successfully built gast\r\n",
      "Installing collected packages: tensorflow-estimator, tensorboard, keras-applications, gast, astor, tensorflow\r\n",
      "  Attempting uninstall: tensorflow-estimator\r\n",
      "    Found existing installation: tensorflow-estimator 2.4.0\r\n",
      "    Uninstalling tensorflow-estimator-2.4.0:\r\n",
      "      Successfully uninstalled tensorflow-estimator-2.4.0\r\n",
      "  Attempting uninstall: tensorboard\r\n",
      "    Found existing installation: tensorboard 2.4.1\r\n",
      "    Uninstalling tensorboard-2.4.1:\r\n",
      "      Successfully uninstalled tensorboard-2.4.1\r\n",
      "  Attempting uninstall: gast\r\n",
      "    Found existing installation: gast 0.3.3\r\n",
      "    Uninstalling gast-0.3.3:\r\n",
      "      Successfully uninstalled gast-0.3.3\r\n",
      "  Attempting uninstall: tensorflow\r\n",
      "    Found existing installation: tensorflow 2.4.1\r\n",
      "    Uninstalling tensorflow-2.4.1:\r\n",
      "      Successfully uninstalled tensorflow-2.4.1\r\n",
      "\u001b[31mERROR: pip's dependency resolver does not currently take into account all the packages that are installed. This behaviour is the source of the following dependency conflicts.\r\n",
      "tensorflow-probability 0.12.1 requires gast>=0.3.2, but you have gast 0.2.2 which is incompatible.\r\n",
      "tensorflow-cloud 0.1.13 requires tensorboard>=2.3.0, but you have tensorboard 1.15.0 which is incompatible.\r\n",
      "pytorch-lightning 1.1.8 requires tensorboard>=2.2.0, but you have tensorboard 1.15.0 which is incompatible.\u001b[0m\r\n",
      "Successfully installed astor-0.8.1 gast-0.2.2 keras-applications-1.0.8 tensorboard-1.15.0 tensorflow-1.15.0 tensorflow-estimator-1.15.1\r\n",
      "Loading environment football failed: No module named 'gfootball'\n",
      "Hit:1 http://archive.ubuntu.com/ubuntu bionic InRelease\r\n",
      "Get:2 http://archive.ubuntu.com/ubuntu bionic-updates InRelease [88.7 kB]\r\n",
      "Get:3 http://security.ubuntu.com/ubuntu bionic-security InRelease [88.7 kB]\r\n",
      "Get:4 http://packages.cloud.google.com/apt gcsfuse-bionic InRelease [5394 B]\r\n",
      "Get:5 http://archive.ubuntu.com/ubuntu bionic-backports InRelease [74.6 kB]\r\n",
      "Get:6 http://packages.cloud.google.com/apt cloud-sdk-bionic InRelease [6774 B]\r\n",
      "Get:7 http://packages.cloud.google.com/apt cloud-sdk InRelease [6739 B]\r\n",
      "Get:8 http://archive.ubuntu.com/ubuntu bionic-updates/main amd64 Packages [2360 kB]\r\n",
      "Get:9 http://archive.ubuntu.com/ubuntu bionic-updates/universe amd64 Packages [2162 kB]\r\n",
      "Get:10 http://security.ubuntu.com/ubuntu bionic-security/universe amd64 Packages [1391 kB]\r\n",
      "Get:11 http://security.ubuntu.com/ubuntu bionic-security/main amd64 Packages [1929 kB]\r\n",
      "Get:12 http://packages.cloud.google.com/apt cloud-sdk-bionic/main amd64 Packages [166 kB]\r\n",
      "Get:13 http://packages.cloud.google.com/apt cloud-sdk/main amd64 Packages [159 kB]\r\n",
      "Fetched 8439 kB in 1s (5649 kB/s)\r\n",
      "\r\n",
      "\r\n",
      "\r\n",
      "\r\n",
      "zlib1g-dev is already the newest version (1:1.2.11.dfsg-0ubuntu2).\r\n",
      "cmake is already the newest version (3.10.2-1ubuntu2.18.04.1).\r\n",
      "python3-dev is already the newest version (3.6.7-1~18.04).\r\n",
      "python3-dev set to manually installed.\r\n",
      "The following additional packages will be installed:\r\n",
      "  autotools-dev ibverbs-providers libfabric1 libhwloc-dev libhwloc-plugins\r\n",
      "  libhwloc5 libibverbs-dev libibverbs1 libltdl-dev libnl-3-200\r\n",
      "  libnl-route-3-200 libnuma-dev libopenmpi2 libpsm-infinipath1 librdmacm1\r\n",
      "  libtool ocl-icd-libopencl1 openmpi-bin openmpi-common\r\n",
      "Suggested packages:\r\n",
      "  libhwloc-contrib-plugins libtool-doc openmpi-doc autoconf automaken gfortran\r\n",
      "  | fortran95-compiler gcj-jdk opencl-icd gfortran\r\n",
      "The following NEW packages will be installed:\r\n",
      "  autotools-dev ibverbs-providers libfabric1 libhwloc-dev libhwloc-plugins\r\n",
      "  libhwloc5 libibverbs-dev libibverbs1 libltdl-dev libnl-3-200\r\n",
      "  libnl-route-3-200 libnuma-dev libopenmpi-dev libopenmpi2 libpsm-infinipath1\r\n",
      "  librdmacm1 libtool ocl-icd-libopencl1 openmpi-bin openmpi-common\r\n",
      "0 upgraded, 20 newly installed, 0 to remove and 26 not upgraded.\r\n",
      "Need to get 4991 kB of archives.\r\n",
      "After this operation, 20.7 MB of additional disk space will be used.\r\n",
      "Get:1 http://archive.ubuntu.com/ubuntu bionic/main amd64 autotools-dev all 20180224.1 [39.6 kB]\r\n",
      "Get:2 http://archive.ubuntu.com/ubuntu bionic/main amd64 libnl-3-200 amd64 3.2.29-0ubuntu3 [52.8 kB]\r\n",
      "Get:3 http://archive.ubuntu.com/ubuntu bionic/main amd64 libnl-route-3-200 amd64 3.2.29-0ubuntu3 [146 kB]\r\n",
      "Get:4 http://archive.ubuntu.com/ubuntu bionic-updates/main amd64 libibverbs1 amd64 17.1-1ubuntu0.2 [44.4 kB]\r\n",
      "Get:5 http://archive.ubuntu.com/ubuntu bionic-updates/main amd64 ibverbs-providers amd64 17.1-1ubuntu0.2 [160 kB]\r\n",
      "Get:6 http://archive.ubuntu.com/ubuntu bionic/universe amd64 libpsm-infinipath1 amd64 3.3+20.604758e7-5 [174 kB]\r\n",
      "Get:7 http://archive.ubuntu.com/ubuntu bionic-updates/main amd64 librdmacm1 amd64 17.1-1ubuntu0.2 [56.1 kB]\r\n",
      "Get:8 http://archive.ubuntu.com/ubuntu bionic/universe amd64 libfabric1 amd64 1.5.3-1 [302 kB]\r\n",
      "Get:9 http://archive.ubuntu.com/ubuntu bionic/main amd64 libltdl-dev amd64 2.4.6-2 [162 kB]\r\n",
      "Get:10 http://archive.ubuntu.com/ubuntu bionic/main amd64 libtool all 2.4.6-2 [194 kB]\r\n",
      "Get:11 http://archive.ubuntu.com/ubuntu bionic/universe amd64 libhwloc5 amd64 1.11.9-1 [105 kB]\r\n",
      "Get:12 http://archive.ubuntu.com/ubuntu bionic/main amd64 ocl-icd-libopencl1 amd64 2.2.11-1ubuntu1 [30.3 kB]\r\n",
      "Get:13 http://archive.ubuntu.com/ubuntu bionic/universe amd64 libhwloc-plugins amd64 1.11.9-1 [12.5 kB]\r\n",
      "Get:14 http://archive.ubuntu.com/ubuntu bionic/universe amd64 libopenmpi2 amd64 2.1.1-8 [2056 kB]\r\n",
      "Get:15 http://archive.ubuntu.com/ubuntu bionic/universe amd64 openmpi-common all 2.1.1-8 [140 kB]\r\n",
      "Get:16 http://archive.ubuntu.com/ubuntu bionic/universe amd64 openmpi-bin amd64 2.1.1-8 [88.2 kB]\r\n",
      "Get:17 http://archive.ubuntu.com/ubuntu bionic-updates/main amd64 libnuma-dev amd64 2.0.11-2.1ubuntu0.1 [32.3 kB]\r\n",
      "Get:18 http://archive.ubuntu.com/ubuntu bionic/universe amd64 libhwloc-dev amd64 1.11.9-1 [167 kB]\r\n",
      "Get:19 http://archive.ubuntu.com/ubuntu bionic-updates/main amd64 libibverbs-dev amd64 17.1-1ubuntu0.2 [103 kB]\r\n",
      "Get:20 http://archive.ubuntu.com/ubuntu bionic/universe amd64 libopenmpi-dev amd64 2.1.1-8 [925 kB]\r\n",
      "Fetched 4991 kB in 0s (13.4 MB/s)\r\n",
      "debconf: delaying package configuration, since apt-utils is not installed\r\n",
      "Selecting previously unselected package autotools-dev.\r\n",
      "(Reading database ... 111691 files and directories currently installed.)\r\n",
      "Preparing to unpack .../00-autotools-dev_20180224.1_all.deb ...\r\n",
      "Unpacking autotools-dev (20180224.1) ...\r\n",
      "Selecting previously unselected package libnl-3-200:amd64.\r\n",
      "Preparing to unpack .../01-libnl-3-200_3.2.29-0ubuntu3_amd64.deb ...\r\n",
      "Unpacking libnl-3-200:amd64 (3.2.29-0ubuntu3) ...\r\n",
      "Selecting previously unselected package libnl-route-3-200:amd64.\r\n",
      "Preparing to unpack .../02-libnl-route-3-200_3.2.29-0ubuntu3_amd64.deb ...\r\n",
      "Unpacking libnl-route-3-200:amd64 (3.2.29-0ubuntu3) ...\r\n",
      "Selecting previously unselected package libibverbs1:amd64.\r\n",
      "Preparing to unpack .../03-libibverbs1_17.1-1ubuntu0.2_amd64.deb ...\r\n",
      "Unpacking libibverbs1:amd64 (17.1-1ubuntu0.2) ...\r\n",
      "Selecting previously unselected package ibverbs-providers:amd64.\r\n",
      "Preparing to unpack .../04-ibverbs-providers_17.1-1ubuntu0.2_amd64.deb ...\r\n",
      "Unpacking ibverbs-providers:amd64 (17.1-1ubuntu0.2) ...\r\n",
      "Selecting previously unselected package libpsm-infinipath1.\r\n",
      "Preparing to unpack .../05-libpsm-infinipath1_3.3+20.604758e7-5_amd64.deb ...\r\n",
      "Unpacking libpsm-infinipath1 (3.3+20.604758e7-5) ...\r\n",
      "Selecting previously unselected package librdmacm1:amd64.\r\n",
      "Preparing to unpack .../06-librdmacm1_17.1-1ubuntu0.2_amd64.deb ...\r\n",
      "Unpacking librdmacm1:amd64 (17.1-1ubuntu0.2) ...\r\n",
      "Selecting previously unselected package libfabric1.\r\n",
      "Preparing to unpack .../07-libfabric1_1.5.3-1_amd64.deb ...\r\n",
      "Unpacking libfabric1 (1.5.3-1) ...\r\n",
      "Selecting previously unselected package libltdl-dev:amd64.\r\n",
      "Preparing to unpack .../08-libltdl-dev_2.4.6-2_amd64.deb ...\r\n",
      "Unpacking libltdl-dev:amd64 (2.4.6-2) ...\r\n",
      "Selecting previously unselected package libtool.\r\n",
      "Preparing to unpack .../09-libtool_2.4.6-2_all.deb ...\r\n",
      "Unpacking libtool (2.4.6-2) ...\r\n",
      "Selecting previously unselected package libhwloc5:amd64.\r\n",
      "Preparing to unpack .../10-libhwloc5_1.11.9-1_amd64.deb ...\r\n",
      "Unpacking libhwloc5:amd64 (1.11.9-1) ...\r\n",
      "Selecting previously unselected package ocl-icd-libopencl1:amd64.\r\n",
      "Preparing to unpack .../11-ocl-icd-libopencl1_2.2.11-1ubuntu1_amd64.deb ...\r\n",
      "Unpacking ocl-icd-libopencl1:amd64 (2.2.11-1ubuntu1) ...\r\n",
      "Selecting previously unselected package libhwloc-plugins.\r\n",
      "Preparing to unpack .../12-libhwloc-plugins_1.11.9-1_amd64.deb ...\r\n",
      "Unpacking libhwloc-plugins (1.11.9-1) ...\r\n",
      "Selecting previously unselected package libopenmpi2:amd64.\r\n",
      "Preparing to unpack .../13-libopenmpi2_2.1.1-8_amd64.deb ...\r\n",
      "Unpacking libopenmpi2:amd64 (2.1.1-8) ...\r\n",
      "Selecting previously unselected package openmpi-common.\r\n",
      "Preparing to unpack .../14-openmpi-common_2.1.1-8_all.deb ...\r\n",
      "Unpacking openmpi-common (2.1.1-8) ...\r\n",
      "Selecting previously unselected package openmpi-bin.\r\n",
      "Preparing to unpack .../15-openmpi-bin_2.1.1-8_amd64.deb ...\r\n",
      "Unpacking openmpi-bin (2.1.1-8) ...\r\n",
      "Selecting previously unselected package libnuma-dev:amd64.\r\n",
      "Preparing to unpack .../16-libnuma-dev_2.0.11-2.1ubuntu0.1_amd64.deb ...\r\n",
      "Unpacking libnuma-dev:amd64 (2.0.11-2.1ubuntu0.1) ...\r\n",
      "Selecting previously unselected package libhwloc-dev:amd64.\r\n",
      "Preparing to unpack .../17-libhwloc-dev_1.11.9-1_amd64.deb ...\r\n",
      "Unpacking libhwloc-dev:amd64 (1.11.9-1) ...\r\n",
      "Selecting previously unselected package libibverbs-dev:amd64.\r\n",
      "Preparing to unpack .../18-libibverbs-dev_17.1-1ubuntu0.2_amd64.deb ...\r\n",
      "Unpacking libibverbs-dev:amd64 (17.1-1ubuntu0.2) ...\r\n",
      "Selecting previously unselected package libopenmpi-dev.\r\n",
      "Preparing to unpack .../19-libopenmpi-dev_2.1.1-8_amd64.deb ...\r\n",
      "Unpacking libopenmpi-dev (2.1.1-8) ...\r\n",
      "Setting up libltdl-dev:amd64 (2.4.6-2) ...\r\n",
      "Setting up libhwloc5:amd64 (1.11.9-1) ...\r\n",
      "Setting up libpsm-infinipath1 (3.3+20.604758e7-5) ...\r\n",
      "update-alternatives: using /usr/lib/libpsm1/libpsm_infinipath.so.1.16 to provide /usr/lib/x86_64-linux-gnu/libpsm_infinipath.so.1 (libpsm_infinipath.so.1) in auto mode\r\n",
      "Setting up openmpi-common (2.1.1-8) ...\r\n",
      "Setting up autotools-dev (20180224.1) ...\r\n",
      "Setting up libnuma-dev:amd64 (2.0.11-2.1ubuntu0.1) ...\r\n",
      "Setting up ocl-icd-libopencl1:amd64 (2.2.11-1ubuntu1) ...\r\n",
      "Setting up libnl-3-200:amd64 (3.2.29-0ubuntu3) ...\r\n",
      "Setting up libtool (2.4.6-2) ...\r\n",
      "Setting up libhwloc-dev:amd64 (1.11.9-1) ...\r\n",
      "Setting up libnl-route-3-200:amd64 (3.2.29-0ubuntu3) ...\r\n",
      "Setting up libhwloc-plugins (1.11.9-1) ...\r\n",
      "Setting up libibverbs1:amd64 (17.1-1ubuntu0.2) ...\r\n",
      "Setting up librdmacm1:amd64 (17.1-1ubuntu0.2) ...\r\n",
      "Setting up ibverbs-providers:amd64 (17.1-1ubuntu0.2) ...\r\n",
      "Setting up libibverbs-dev:amd64 (17.1-1ubuntu0.2) ...\r\n",
      "Setting up libfabric1 (1.5.3-1) ...\r\n",
      "Setting up libopenmpi2:amd64 (2.1.1-8) ...\r\n",
      "Setting up libopenmpi-dev (2.1.1-8) ...\r\n",
      "update-alternatives: using /usr/lib/x86_64-linux-gnu/openmpi/include to provide /usr/include/mpi (mpi) in auto mode\r\n",
      "update-alternatives: warning: skip creation of /usr/share/man/man1/mpicc.1.gz because associated file /usr/share/man/man1/mpicc.openmpi.1.gz (of link group mpi) doesn't exist\r\n",
      "update-alternatives: warning: skip creation of /usr/share/man/man1/mpic++.1.gz because associated file /usr/share/man/man1/mpic++.openmpi.1.gz (of link group mpi) doesn't exist\r\n",
      "update-alternatives: warning: skip creation of /usr/share/man/man1/mpicxx.1.gz because associated file /usr/share/man/man1/mpicxx.openmpi.1.gz (of link group mpi) doesn't exist\r\n",
      "update-alternatives: warning: skip creation of /usr/share/man/man1/mpiCC.1.gz because associated file /usr/share/man/man1/mpiCC.openmpi.1.gz (of link group mpi) doesn't exist\r\n",
      "update-alternatives: warning: skip creation of /usr/share/man/man1/mpif77.1.gz because associated file /usr/share/man/man1/mpif77.openmpi.1.gz (of link group mpi) doesn't exist\r\n",
      "update-alternatives: warning: skip creation of /usr/share/man/man1/mpif90.1.gz because associated file /usr/share/man/man1/mpif90.openmpi.1.gz (of link group mpi) doesn't exist\r\n",
      "update-alternatives: warning: skip creation of /usr/share/man/man1/mpifort.1.gz because associated file /usr/share/man/man1/mpifort.openmpi.1.gz (of link group mpi) doesn't exist\r\n",
      "Setting up openmpi-bin (2.1.1-8) ...\r\n",
      "update-alternatives: using /usr/bin/mpirun.openmpi to provide /usr/bin/mpirun (mpirun) in auto mode\r\n",
      "update-alternatives: warning: skip creation of /usr/share/man/man1/mpirun.1.gz because associated file /usr/share/man/man1/mpirun.openmpi.1.gz (of link group mpirun) doesn't exist\r\n",
      "update-alternatives: warning: skip creation of /usr/share/man/man1/mpiexec.1.gz because associated file /usr/share/man/man1/mpiexec.openmpi.1.gz (of link group mpirun) doesn't exist\r\n",
      "Processing triggers for libc-bin (2.27-3ubuntu1.3) ...\r\n",
      "Collecting stable-baselines[mpi]==2.9.0\r\n",
      "  Downloading stable_baselines-2.9.0-py3-none-any.whl (232 kB)\r\n",
      "\u001b[K     |████████████████████████████████| 232 kB 902 kB/s \r\n",
      "\u001b[?25hRequirement already satisfied: scipy in /opt/conda/lib/python3.7/site-packages (from stable-baselines[mpi]==2.9.0) (1.4.1)\r\n",
      "Requirement already satisfied: pandas in /opt/conda/lib/python3.7/site-packages (from stable-baselines[mpi]==2.9.0) (1.2.0)\r\n",
      "Requirement already satisfied: gym[atari,classic_control]>=0.10.9 in /opt/conda/lib/python3.7/site-packages (from stable-baselines[mpi]==2.9.0) (0.18.0)\r\n",
      "Requirement already satisfied: matplotlib in /opt/conda/lib/python3.7/site-packages (from stable-baselines[mpi]==2.9.0) (3.3.3)\r\n",
      "Requirement already satisfied: opencv-python in /opt/conda/lib/python3.7/site-packages (from stable-baselines[mpi]==2.9.0) (4.5.1.48)\r\n",
      "Requirement already satisfied: joblib in /opt/conda/lib/python3.7/site-packages (from stable-baselines[mpi]==2.9.0) (1.0.0)\r\n",
      "Requirement already satisfied: cloudpickle>=0.5.5 in /opt/conda/lib/python3.7/site-packages (from stable-baselines[mpi]==2.9.0) (1.6.0)\r\n",
      "Requirement already satisfied: numpy in /opt/conda/lib/python3.7/site-packages (from stable-baselines[mpi]==2.9.0) (1.19.5)\r\n",
      "Collecting mpi4py\r\n",
      "  Downloading mpi4py-3.0.3.tar.gz (1.4 MB)\r\n",
      "\u001b[K     |████████████████████████████████| 1.4 MB 3.5 MB/s \r\n",
      "\u001b[?25hRequirement already satisfied: Pillow<=7.2.0 in /opt/conda/lib/python3.7/site-packages (from gym[atari,classic_control]>=0.10.9->stable-baselines[mpi]==2.9.0) (7.2.0)\r\n",
      "Requirement already satisfied: pyglet<=1.5.0,>=1.4.0 in /opt/conda/lib/python3.7/site-packages (from gym[atari,classic_control]>=0.10.9->stable-baselines[mpi]==2.9.0) (1.5.0)\r\n",
      "Collecting atari-py~=0.2.0\r\n",
      "  Downloading atari_py-0.2.6-cp37-cp37m-manylinux1_x86_64.whl (2.8 MB)\r\n",
      "\u001b[K     |████████████████████████████████| 2.8 MB 4.6 MB/s \r\n",
      "\u001b[?25hRequirement already satisfied: six in /opt/conda/lib/python3.7/site-packages (from atari-py~=0.2.0->gym[atari,classic_control]>=0.10.9->stable-baselines[mpi]==2.9.0) (1.15.0)\r\n",
      "Requirement already satisfied: future in /opt/conda/lib/python3.7/site-packages (from pyglet<=1.5.0,>=1.4.0->gym[atari,classic_control]>=0.10.9->stable-baselines[mpi]==2.9.0) (0.18.2)\r\n",
      "Requirement already satisfied: kiwisolver>=1.0.1 in /opt/conda/lib/python3.7/site-packages (from matplotlib->stable-baselines[mpi]==2.9.0) (1.3.1)\r\n",
      "Requirement already satisfied: cycler>=0.10 in /opt/conda/lib/python3.7/site-packages (from matplotlib->stable-baselines[mpi]==2.9.0) (0.10.0)\r\n",
      "Requirement already satisfied: pyparsing!=2.0.4,!=2.1.2,!=2.1.6,>=2.0.3 in /opt/conda/lib/python3.7/site-packages (from matplotlib->stable-baselines[mpi]==2.9.0) (2.4.7)\r\n",
      "Requirement already satisfied: python-dateutil>=2.1 in /opt/conda/lib/python3.7/site-packages (from matplotlib->stable-baselines[mpi]==2.9.0) (2.8.1)\r\n",
      "Requirement already satisfied: pytz>=2017.3 in /opt/conda/lib/python3.7/site-packages (from pandas->stable-baselines[mpi]==2.9.0) (2020.5)\r\n",
      "Building wheels for collected packages: mpi4py\r\n",
      "  Building wheel for mpi4py (setup.py) ... \u001b[?25l-\b \b\\\b \b|\b \b/\b \b-\b \b\\\b \b|\b \b/\b \b-\b \b\\\b \b|\b \b/\b \b-\b \b\\\b \b|\b \b/\b \b-\b \b\\\b \b|\b \bdone\r\n",
      "\u001b[?25h  Created wheel for mpi4py: filename=mpi4py-3.0.3-cp37-cp37m-linux_x86_64.whl size=2088490 sha256=ec78a6c2e470924f35af49097778956db1132110aafde0a678b703f8ede331ee\r\n",
      "  Stored in directory: /root/.cache/pip/wheels/da/37/ee/8d5c9166a378bb0b661bf4257b8e1ef8d79d879b931534fb98\r\n",
      "Successfully built mpi4py\r\n",
      "Installing collected packages: atari-py, stable-baselines, mpi4py\r\n",
      "Successfully installed atari-py-0.2.6 mpi4py-3.0.3 stable-baselines-2.9.0\r\n"
     ]
    }
   ],
   "source": [
    "import os\n",
    "import random\n",
    "import numpy as np\n",
    "import pandas as pd\n",
    "import matplotlib.pyplot as plt\n",
    "%matplotlib inline\n",
    "\n",
    "!pip install 'tensorflow==1.15.0'\n",
    "\n",
    "import tensorflow as tf\n",
    "from kaggle_environments import make, evaluate\n",
    "from gym import spaces\n",
    "\n",
    "!apt-get update\n",
    "!apt-get install -y cmake libopenmpi-dev python3-dev zlib1g-dev\n",
    "!pip install \"stable-baselines[mpi]==2.9.0\"\n",
    "\n",
    "from stable_baselines.bench import Monitor \n",
    "from stable_baselines.common.vec_env import DummyVecEnv\n",
    "from stable_baselines import PPO1, A2C, ACER, ACKTR, TRPO\n",
    "from stable_baselines.a2c.utils import conv, linear, conv_to_fc\n",
    "from stable_baselines.common.policies import CnnPolicy\n",
    "\n",
    "class ConnectFourGym:\n",
    "    def __init__(self, agent2=\"random\"):\n",
    "        ks_env = make(\"connectx\", debug=True)\n",
    "        self.env = ks_env.train([None, agent2])\n",
    "        self.rows = ks_env.configuration.rows\n",
    "        self.columns = ks_env.configuration.columns\n",
    "        # Learn about spaces here: http://gym.openai.com/docs/#spaces\n",
    "        self.action_space = spaces.Discrete(self.columns)\n",
    "        self.observation_space = spaces.Box(low=0, high=2, \n",
    "                                            shape=(self.rows,self.columns,1), dtype=np.int)\n",
    "        # Tuple corresponding to the min and max possible rewards\n",
    "        self.reward_range = (-10, 1)\n",
    "        # StableBaselines throws error if these are not defined\n",
    "        self.spec = None\n",
    "        self.metadata = None\n",
    "    def reset(self):\n",
    "        self.obs = self.env.reset()\n",
    "        return np.array(self.obs['board']).reshape(self.rows,self.columns,1)\n",
    "    def change_reward(self, old_reward, done):\n",
    "        if old_reward == 1: # The agent won the game\n",
    "            return 1\n",
    "        elif done: # The opponent won the game\n",
    "            return -1\n",
    "        else: # Reward 1/42\n",
    "            return 1/(self.rows*self.columns)\n",
    "    def step(self, action):\n",
    "        # Check if agent's move is valid\n",
    "        is_valid = (self.obs['board'][int(action)] == 0)\n",
    "        if is_valid: # Play the move\n",
    "            self.obs, old_reward, done, _ = self.env.step(int(action))\n",
    "            reward = self.change_reward(old_reward, done)\n",
    "        else: # End the game and penalize agent\n",
    "            reward, done, _ = -10, True, {}\n",
    "        return np.array(self.obs['board']).reshape(self.rows,self.columns,1), reward, done, _\n",
    "    \n",
    "# Create ConnectFour environment\n",
    "env = ConnectFourGym(agent2=\"random\")\n",
    "\n",
    "# Create directory for logging training information\n",
    "log_dir = \"log/\"\n",
    "os.makedirs(log_dir, exist_ok=True)\n",
    "\n",
    "# Logging progress\n",
    "monitor_env = Monitor(env, log_dir, allow_early_resets=True)\n",
    "\n",
    "# Create a vectorized environment\n",
    "vec_env = DummyVecEnv([lambda: monitor_env])\n",
    "\n",
    "# Neural network for predicting action values\n",
    "def modified_cnn(scaled_images, **kwargs):\n",
    "    activ = tf.nn.relu\n",
    "    layer_1 = activ(conv(scaled_images, 'c1', n_filters=32, filter_size=3, stride=1, \n",
    "                         init_scale=np.sqrt(2), **kwargs))\n",
    "    layer_2 = activ(conv(layer_1, 'c2', n_filters=64, filter_size=3, stride=1, \n",
    "                         init_scale=np.sqrt(2), **kwargs))\n",
    "    layer_2 = conv_to_fc(layer_2)\n",
    "    return activ(linear(layer_2, 'fc1', n_hidden=512, init_scale=np.sqrt(2)))  \n",
    "\n",
    "class CustomCnnPolicy(CnnPolicy):\n",
    "    def __init__(self, *args, **kwargs):\n",
    "        super(CustomCnnPolicy, self).__init__(*args, **kwargs, cnn_extractor=modified_cnn)"
   ]
  },
  {
   "cell_type": "markdown",
   "metadata": {
    "papermill": {
     "duration": 0.302392,
     "end_time": "2021-02-21T19:44:39.814247",
     "exception": false,
     "start_time": "2021-02-21T19:44:39.511855",
     "status": "completed"
    },
    "tags": []
   },
   "source": [
    "Next, run the code cell below to train an agent with PPO and view how the rewards evolved during training.  This code is identical to the code from the tutorial."
   ]
  },
  {
   "cell_type": "code",
   "execution_count": 6,
   "metadata": {
    "execution": {
     "iopub.execute_input": "2021-02-21T19:44:40.422687Z",
     "iopub.status.busy": "2021-02-21T19:44:40.421748Z",
     "iopub.status.idle": "2021-02-21T19:56:59.070230Z",
     "shell.execute_reply": "2021-02-21T19:56:59.070893Z"
    },
    "papermill": {
     "duration": 738.9615,
     "end_time": "2021-02-21T19:56:59.071116",
     "exception": false,
     "start_time": "2021-02-21T19:44:40.109616",
     "status": "completed"
    },
    "tags": []
   },
   "outputs": [
    {
     "data": {
      "image/png": "[encoded data removed]",
      "text/plain": [
       "<Figure size 432x288 with 1 Axes>"
      ]
     },
     "metadata": {
      "needs_background": "light"
     },
     "output_type": "display_data"
    }
   ],
   "source": [
    "# Initialize agent\n",
    "model = PPO1(CustomCnnPolicy, vec_env, verbose=0)\n",
    "\n",
    "# Train agent\n",
    "model.learn(total_timesteps=100000)\n",
    "\n",
    "# Plot cumulative reward\n",
    "with open(os.path.join(log_dir, \"monitor.csv\"), 'rt') as fh:    \n",
    "    firstline = fh.readline()\n",
    "    assert firstline[0] == '#'\n",
    "    df = pd.read_csv(fh, index_col=None)['r']\n",
    "df.rolling(window=1000).mean().plot()\n",
    "plt.show()"
   ]
  },
  {
   "cell_type": "markdown",
   "metadata": {
    "papermill": {
     "duration": 0.298116,
     "end_time": "2021-02-21T19:56:59.666977",
     "exception": false,
     "start_time": "2021-02-21T19:56:59.368861",
     "status": "completed"
    },
    "tags": []
   },
   "source": [
    "If your agent trained well, the plot (which shows average cumulative rewards) should increase over time.\n",
    "\n",
    "Once you have verified that the code runs, try making amendments to see if you can get increased performance.  You might like to:\n",
    "- change `PPO1` to `A2C` (or `ACER` or `ACKTR` or `TRPO`) when defining the model in this line of code: `model = PPO1(CustomCnnPolicy, vec_env, verbose=0)`.  This will let you see how performance can be affected by changing the algorithm from Proximal Policy Optimization [PPO] to one of:\n",
    "  - Advantage Actor-Critic (A2C),\n",
    "  - or Actor-Critic with Experience Replay (ACER),\n",
    "  - Actor Critic using Kronecker-factored Trust Region (ACKTR), or \n",
    "  - Trust Region Policy Optimization (TRPO).\n",
    "- modify the `change_reward()` method in the `ConnectFourGym` class to change the rewards that the agent receives in different conditions.  You may also need to modify `self.reward_range` in the `__init__` method (this tuple should always correspond to the minimum and maximum reward that the agent can receive).\n",
    "- change `agent2` to a different agent when creating the ConnectFour environment with `env = ConnectFourGym(agent2=\"random\")`.  For instance, you might like to use the `\"negamax\"` agent, or a different, custom agent.  Note that the smarter you make the opponent, the harder it will be for your agent to train!"
   ]
  },
  {
   "cell_type": "markdown",
   "metadata": {
    "papermill": {
     "duration": 0.300144,
     "end_time": "2021-02-21T19:57:00.268320",
     "exception": false,
     "start_time": "2021-02-21T19:56:59.968176",
     "status": "completed"
    },
    "tags": []
   },
   "source": [
    "# Congratulations!\n",
    "\n",
    "You have completed the course, and it's time to put your new skills to work!  \n",
    "\n",
    "The next step is to apply what you've learned to a **[more complex game: Halite](https://www.kaggle.com/c/halite)**.  For a step-by-step tutorial in how to make your first submission to this competition, **[check out the bonus lesson](https://www.kaggle.com/alexisbcook/getting-started-with-halite)**!\n",
    "\n",
    "You can find more games as they're released on the **[Kaggle Simulations page](https://www.kaggle.com/simulations)**.\n",
    "\n",
    "As we did in the course, we recommend that you start simple, with an agent that follows your precise instructions.  This will allow you to learn more about the mechanics of the game and to build intuition for what makes a good agent.  Then, gradually increase the complexity of your agents to climb the leaderboard!"
   ]
  },
  {
   "cell_type": "markdown",
   "metadata": {
    "papermill": {
     "duration": 0.298739,
     "end_time": "2021-02-21T19:57:00.873862",
     "exception": false,
     "start_time": "2021-02-21T19:57:00.575123",
     "status": "completed"
    },
    "tags": []
   },
   "source": [
    "---\n",
    "\n",
    "\n",
    "\n",
    "\n",
    "*Have questions or comments? Visit the [Learn Discussion forum](https://www.kaggle.com/learn-forum/161477) to chat with other Learners.*"
   ]
  }
 ],
 "metadata": {
  "kernelspec": {
   "display_name": "Python 3",
   "language": "python",
   "name": "python3"
  },
  "language_info": {
   "codemirror_mode": {
    "name": "ipython",
    "version": 3
   },
   "file_extension": ".py",
   "mimetype": "text/x-python",
   "name": "python",
   "nbconvert_exporter": "python",
   "pygments_lexer": "ipython3",
   "version": "3.7.9"
  },
  "papermill": {
   "default_parameters": {},
   "duration": 913.008231,
   "end_time": "2021-02-21T19:57:03.188361",
   "environment_variables": {},
   "exception": null,
   "input_path": "__notebook__.ipynb",
   "output_path": "__notebook__.ipynb",
   "parameters": {},
   "start_time": "2021-02-21T19:41:50.180130",
   "version": "2.2.2"
  }
 },
 "nbformat": 4,
 "nbformat_minor": 4
}
