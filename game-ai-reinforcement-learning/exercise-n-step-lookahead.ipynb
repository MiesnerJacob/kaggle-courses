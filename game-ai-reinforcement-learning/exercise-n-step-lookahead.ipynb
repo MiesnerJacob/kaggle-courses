{
 "cells": [
  {
   "cell_type": "markdown",
   "metadata": {
    "papermill": {
     "duration": 0.012936,
     "end_time": "2021-02-15T00:02:13.928160",
     "exception": false,
     "start_time": "2021-02-15T00:02:13.915224",
     "status": "completed"
    },
    "tags": []
   },
   "source": [
    "**This notebook is an exercise in the [Intro to Game AI and Reinforcement Learning](https://www.kaggle.com/learn/intro-to-game-ai-and-reinforcement-learning) course.  You can reference the tutorial at [this link](https://www.kaggle.com/alexisbcook/n-step-lookahead).**\n",
    "\n",
    "---\n"
   ]
  },
  {
   "cell_type": "markdown",
   "metadata": {
    "papermill": {
     "duration": 0.011567,
     "end_time": "2021-02-15T00:02:13.952381",
     "exception": false,
     "start_time": "2021-02-15T00:02:13.940814",
     "status": "completed"
    },
    "tags": []
   },
   "source": [
    "# Introduction\n",
    "\n",
    "In the tutorial, you learned how to build a reasonably intelligent agent with the minimax algorithm.  In this exercise, you will check your understanding and submit your own agent to the competition."
   ]
  },
  {
   "cell_type": "code",
   "execution_count": 1,
   "metadata": {
    "execution": {
     "iopub.execute_input": "2021-02-15T00:02:13.982413Z",
     "iopub.status.busy": "2021-02-15T00:02:13.981649Z",
     "iopub.status.idle": "2021-02-15T00:02:14.029915Z",
     "shell.execute_reply": "2021-02-15T00:02:14.029156Z"
    },
    "papermill": {
     "duration": 0.066031,
     "end_time": "2021-02-15T00:02:14.030121",
     "exception": false,
     "start_time": "2021-02-15T00:02:13.964090",
     "status": "completed"
    },
    "tags": []
   },
   "outputs": [],
   "source": [
    "from learntools.core import binder\n",
    "binder.bind(globals())\n",
    "from learntools.game_ai.ex3 import *"
   ]
  },
  {
   "cell_type": "markdown",
   "metadata": {
    "papermill": {
     "duration": 0.011533,
     "end_time": "2021-02-15T00:02:14.054026",
     "exception": false,
     "start_time": "2021-02-15T00:02:14.042493",
     "status": "completed"
    },
    "tags": []
   },
   "source": [
    "### 1) A closer look\n",
    "\n",
    "The heuristic from the tutorial looks at all groups of four adjacent grid locations on the same row, column, or diagonal and assigns points for each occurrence of the following patterns:\n",
    "\n",
    "<center>\n",
    "<img src=\"https://i.imgur.com/3NvBEGL.png\" width=70%><br/>\n",
    "</center>\n",
    "\n",
    "Is it really necessary to use so many numbers to define the heuristic?  Consider simplifying it, as in the image below.\n",
    "\n",
    "<center>\n",
    "<img src=\"https://i.imgur.com/grViegG.png\" width=70%><br/>\n",
    "</center>\n",
    "\n",
    "How would each heuristic score the potential moves in the example below (where, in this case, the agent looks only one step ahead)?  Which heuristic would lead to the agent selecting the better move?\n",
    "\n",
    "<center>\n",
    "<img src=\"https://i.imgur.com/LWPLy7N.png\" width=100%><br/>\n",
    "</center>"
   ]
  },
  {
   "cell_type": "code",
   "execution_count": 2,
   "metadata": {
    "execution": {
     "iopub.execute_input": "2021-02-15T00:02:14.081556Z",
     "iopub.status.busy": "2021-02-15T00:02:14.080824Z",
     "iopub.status.idle": "2021-02-15T00:02:14.086276Z",
     "shell.execute_reply": "2021-02-15T00:02:14.085708Z"
    },
    "papermill": {
     "duration": 0.020488,
     "end_time": "2021-02-15T00:02:14.086448",
     "exception": false,
     "start_time": "2021-02-15T00:02:14.065960",
     "status": "completed"
    },
    "tags": []
   },
   "outputs": [],
   "source": [
    "#q_1.hint()"
   ]
  },
  {
   "cell_type": "code",
   "execution_count": 3,
   "metadata": {
    "execution": {
     "iopub.execute_input": "2021-02-15T00:02:14.118430Z",
     "iopub.status.busy": "2021-02-15T00:02:14.117725Z",
     "iopub.status.idle": "2021-02-15T00:02:14.122507Z",
     "shell.execute_reply": "2021-02-15T00:02:14.123087Z"
    },
    "papermill": {
     "duration": 0.024573,
     "end_time": "2021-02-15T00:02:14.123276",
     "exception": false,
     "start_time": "2021-02-15T00:02:14.098703",
     "status": "completed"
    },
    "tags": []
   },
   "outputs": [
    {
     "data": {
      "application/javascript": [
       "parent.postMessage({\"jupyterEvent\": \"custom.exercise_interaction\", \"data\": {\"interactionType\": 3, \"questionType\": 4, \"questionId\": \"1_WorseHeuristic\", \"learnToolsVersion\": \"0.3.4\", \"valueTowardsCompletion\": 0.0, \"failureMessage\": \"\", \"exceptionClass\": \"\", \"trace\": \"\", \"outcomeType\": 4}}, \"*\")"
      ],
      "text/plain": [
       "<IPython.core.display.Javascript object>"
      ]
     },
     "metadata": {},
     "output_type": "display_data"
    },
    {
     "data": {
      "text/markdown": [
       "<span style=\"color:#33cc99\">Solution:</span> The first heuristic is guaranteed to select column 2 to block the opponent from winning.  The second heuristic selects either column 2 or column 3 (where it selects each with 50% probability). Thus, for this game board, the first heuristic is better. In general, we can expect that the first heuristic is a better heuristic, since we cannot trust the second heuristic to block the opponent from winning."
      ],
      "text/plain": [
       "Solution: The first heuristic is guaranteed to select column 2 to block the opponent from winning.  The second heuristic selects either column 2 or column 3 (where it selects each with 50% probability). Thus, for this game board, the first heuristic is better. In general, we can expect that the first heuristic is a better heuristic, since we cannot trust the second heuristic to block the opponent from winning."
      ]
     },
     "metadata": {},
     "output_type": "display_data"
    }
   ],
   "source": [
    "# Check your answer (Run this code cell to receive credit!)\n",
    "q_1.solution()"
   ]
  },
  {
   "cell_type": "markdown",
   "metadata": {
    "papermill": {
     "duration": 0.013135,
     "end_time": "2021-02-15T00:02:14.150471",
     "exception": false,
     "start_time": "2021-02-15T00:02:14.137336",
     "status": "completed"
    },
    "tags": []
   },
   "source": [
    "### 2) Count the leaves\n",
    "\n",
    "In the tutorial, we worked with a small game tree.\n",
    "\n",
    "<center>\n",
    "<img src=\"https://i.imgur.com/BrRe7Bu.png\" width=90%><br/>\n",
    "</center>\n",
    "\n",
    "The game tree above has 8 leaf nodes that appear at the bottom of the tree.  By definition, \"leaf nodes\" in a game tree are nodes that don't have nodes below them.\n",
    "\n",
    "In the ConnectX competition, the game trees will be much larger!  \n",
    "\n",
    "To see this, consider a minimax agent that is trying to plan its first move, where all columns in the game board are  empty.  Say the agent builds a game tree of depth 3.  How many leaf nodes are in the game tree?  \n",
    "\n",
    "Use your answer to fill in the blank below."
   ]
  },
  {
   "cell_type": "code",
   "execution_count": 4,
   "metadata": {
    "execution": {
     "iopub.execute_input": "2021-02-15T00:02:14.180600Z",
     "iopub.status.busy": "2021-02-15T00:02:14.179869Z",
     "iopub.status.idle": "2021-02-15T00:02:14.187711Z",
     "shell.execute_reply": "2021-02-15T00:02:14.187137Z"
    },
    "papermill": {
     "duration": 0.024027,
     "end_time": "2021-02-15T00:02:14.187864",
     "exception": false,
     "start_time": "2021-02-15T00:02:14.163837",
     "status": "completed"
    },
    "tags": []
   },
   "outputs": [
    {
     "data": {
      "application/javascript": [
       "parent.postMessage({\"jupyterEvent\": \"custom.exercise_interaction\", \"data\": {\"outcomeType\": 1, \"valueTowardsCompletion\": 0.2, \"interactionType\": 1, \"questionType\": 1, \"questionId\": \"2_NumLeaves\", \"learnToolsVersion\": \"0.3.4\", \"failureMessage\": \"\", \"exceptionClass\": \"\", \"trace\": \"\"}}, \"*\")"
      ],
      "text/plain": [
       "<IPython.core.display.Javascript object>"
      ]
     },
     "metadata": {},
     "output_type": "display_data"
    },
    {
     "data": {
      "text/markdown": [
       "<span style=\"color:#33cc33\">Correct</span>"
      ],
      "text/plain": [
       "Correct"
      ]
     },
     "metadata": {},
     "output_type": "display_data"
    }
   ],
   "source": [
    "# Fill in the blank\n",
    "num_leaves = 7 ** 3\n",
    "\n",
    "# Check your answer\n",
    "q_2.check()"
   ]
  },
  {
   "cell_type": "code",
   "execution_count": 5,
   "metadata": {
    "execution": {
     "iopub.execute_input": "2021-02-15T00:02:14.221976Z",
     "iopub.status.busy": "2021-02-15T00:02:14.221270Z",
     "iopub.status.idle": "2021-02-15T00:02:14.223294Z",
     "shell.execute_reply": "2021-02-15T00:02:14.223749Z"
    },
    "papermill": {
     "duration": 0.021438,
     "end_time": "2021-02-15T00:02:14.223929",
     "exception": false,
     "start_time": "2021-02-15T00:02:14.202491",
     "status": "completed"
    },
    "tags": []
   },
   "outputs": [],
   "source": [
    "# Lines below will give you a hint or solution code\n",
    "#q_2.hint()\n",
    "#q_2.solution()"
   ]
  },
  {
   "cell_type": "markdown",
   "metadata": {
    "papermill": {
     "duration": 0.014433,
     "end_time": "2021-02-15T00:02:14.253160",
     "exception": false,
     "start_time": "2021-02-15T00:02:14.238727",
     "status": "completed"
    },
    "tags": []
   },
   "source": [
    "### 3) Which move will the agent select?\n",
    "\n",
    "In this question, you'll check your understanding of the minimax algorithm.  Remember that with this algorithm, \n",
    "> The agent chooses moves to get a score that is as high as possible, and it assumes the opponent will counteract this by choosing moves to force the score to be as low as possible.\n",
    "\n",
    "Consider the toy example below of a game tree that the agent will use to select its next move.  \n",
    "<center>\n",
    "<img src=\"https://i.imgur.com/QlfWGM9.png\" width=80%><br/>\n",
    "</center>\n",
    "\n",
    "Which move will the agent select?  Use your answer to set the value of the `selected_move` variable below.  Your answer should be one of `1`, `2`, or `3`."
   ]
  },
  {
   "cell_type": "code",
   "execution_count": 6,
   "metadata": {
    "execution": {
     "iopub.execute_input": "2021-02-15T00:02:14.285855Z",
     "iopub.status.busy": "2021-02-15T00:02:14.285142Z",
     "iopub.status.idle": "2021-02-15T00:02:14.292766Z",
     "shell.execute_reply": "2021-02-15T00:02:14.293251Z"
    },
    "papermill": {
     "duration": 0.025587,
     "end_time": "2021-02-15T00:02:14.293431",
     "exception": false,
     "start_time": "2021-02-15T00:02:14.267844",
     "status": "completed"
    },
    "tags": []
   },
   "outputs": [
    {
     "data": {
      "application/javascript": [
       "parent.postMessage({\"jupyterEvent\": \"custom.exercise_interaction\", \"data\": {\"outcomeType\": 1, \"valueTowardsCompletion\": 0.2, \"interactionType\": 1, \"questionType\": 2, \"questionId\": \"3_WhichMove\", \"learnToolsVersion\": \"0.3.4\", \"failureMessage\": \"\", \"exceptionClass\": \"\", \"trace\": \"\"}}, \"*\")"
      ],
      "text/plain": [
       "<IPython.core.display.Javascript object>"
      ]
     },
     "metadata": {},
     "output_type": "display_data"
    },
    {
     "data": {
      "text/markdown": [
       "<span style=\"color:#33cc33\">Correct</span>"
      ],
      "text/plain": [
       "Correct"
      ]
     },
     "metadata": {},
     "output_type": "display_data"
    }
   ],
   "source": [
    "# Fill in the blank\n",
    "selected_move = 3\n",
    "\n",
    "# Check your answer\n",
    "q_3.check()"
   ]
  },
  {
   "cell_type": "code",
   "execution_count": 7,
   "metadata": {
    "execution": {
     "iopub.execute_input": "2021-02-15T00:02:14.330758Z",
     "iopub.status.busy": "2021-02-15T00:02:14.330065Z",
     "iopub.status.idle": "2021-02-15T00:02:14.333081Z",
     "shell.execute_reply": "2021-02-15T00:02:14.333579Z"
    },
    "papermill": {
     "duration": 0.023384,
     "end_time": "2021-02-15T00:02:14.333773",
     "exception": false,
     "start_time": "2021-02-15T00:02:14.310389",
     "status": "completed"
    },
    "tags": []
   },
   "outputs": [],
   "source": [
    "# Lines below will give you a hint or solution code\n",
    "#q_3.hint()\n",
    "#q_3.solution()"
   ]
  },
  {
   "cell_type": "markdown",
   "metadata": {
    "papermill": {
     "duration": 0.015502,
     "end_time": "2021-02-15T00:02:14.366521",
     "exception": false,
     "start_time": "2021-02-15T00:02:14.351019",
     "status": "completed"
    },
    "tags": []
   },
   "source": [
    "### 4) Examine the assumptions\n",
    "\n",
    "The minimax agent assumes that its opponent plays optimally (with respect to the heuristic, and using a game tree of limited depth).  But this is almost never the case, in practice: it's far more likely for the agent to encounter a suboptimal (that is: worse than optimal) opponent.  \n",
    "\n",
    "Say the minimax agent encounters a suboptimal opponent. Should we expect the minimax agent to still play the game well, despite the contradiction with its assumptions?  If so, why?"
   ]
  },
  {
   "cell_type": "code",
   "execution_count": 8,
   "metadata": {
    "execution": {
     "iopub.execute_input": "2021-02-15T00:02:14.403402Z",
     "iopub.status.busy": "2021-02-15T00:02:14.402621Z",
     "iopub.status.idle": "2021-02-15T00:02:14.405847Z",
     "shell.execute_reply": "2021-02-15T00:02:14.405203Z"
    },
    "papermill": {
     "duration": 0.023827,
     "end_time": "2021-02-15T00:02:14.405991",
     "exception": false,
     "start_time": "2021-02-15T00:02:14.382164",
     "status": "completed"
    },
    "tags": []
   },
   "outputs": [],
   "source": [
    "#q_4.hint()"
   ]
  },
  {
   "cell_type": "code",
   "execution_count": 9,
   "metadata": {
    "execution": {
     "iopub.execute_input": "2021-02-15T00:02:14.446372Z",
     "iopub.status.busy": "2021-02-15T00:02:14.445231Z",
     "iopub.status.idle": "2021-02-15T00:02:14.452530Z",
     "shell.execute_reply": "2021-02-15T00:02:14.453218Z"
    },
    "papermill": {
     "duration": 0.031437,
     "end_time": "2021-02-15T00:02:14.453410",
     "exception": false,
     "start_time": "2021-02-15T00:02:14.421973",
     "status": "completed"
    },
    "tags": []
   },
   "outputs": [
    {
     "data": {
      "application/javascript": [
       "parent.postMessage({\"jupyterEvent\": \"custom.exercise_interaction\", \"data\": {\"interactionType\": 3, \"questionType\": 4, \"questionId\": \"4_Assumptions\", \"learnToolsVersion\": \"0.3.4\", \"valueTowardsCompletion\": 0.0, \"failureMessage\": \"\", \"exceptionClass\": \"\", \"trace\": \"\", \"outcomeType\": 4}}, \"*\")"
      ],
      "text/plain": [
       "<IPython.core.display.Javascript object>"
      ]
     },
     "metadata": {},
     "output_type": "display_data"
    },
    {
     "data": {
      "text/markdown": [
       "<span style=\"color:#33cc99\">Solution:</span> We can still expect the minimax agent to perform well. On a high level, assuming an optimal opponent simply overestimates the opponent, but does not break the algorithm.  The effect of overestimating the opponent is merely that the minimax agent will take longer to win, than if it had a more accurate understanding of its opponent.  For instance, the minimax agent is highly unlikely to select the same column three times in its first three moves (since it assumes an optimal opponent that will certainly block the winning play in the next move), but this is not a bad initial strategy for playing against an agent that selects columns completely at random."
      ],
      "text/plain": [
       "Solution: We can still expect the minimax agent to perform well. On a high level, assuming an optimal opponent simply overestimates the opponent, but does not break the algorithm.  The effect of overestimating the opponent is merely that the minimax agent will take longer to win, than if it had a more accurate understanding of its opponent.  For instance, the minimax agent is highly unlikely to select the same column three times in its first three moves (since it assumes an optimal opponent that will certainly block the winning play in the next move), but this is not a bad initial strategy for playing against an agent that selects columns completely at random."
      ]
     },
     "metadata": {},
     "output_type": "display_data"
    }
   ],
   "source": [
    "# Check your answer (Run this code cell to receive credit!)\n",
    "q_4.solution()"
   ]
  },
  {
   "cell_type": "markdown",
   "metadata": {
    "papermill": {
     "duration": 0.016463,
     "end_time": "2021-02-15T00:02:14.488368",
     "exception": false,
     "start_time": "2021-02-15T00:02:14.471905",
     "status": "completed"
    },
    "tags": []
   },
   "source": [
    "### 5) Submit to the competition\n",
    "\n",
    "Now, it's time to submit an agent to the competition!  Use the next code cell to define an agent.  (You can see an example of how to write a valid agent in **[this notebook](https://www.kaggle.com/alexisbcook/create-a-connectx-agent)**.)\n",
    "\n",
    "If you decide to use the minimax code from the tutorial, you might like to add [**alpha-beta pruning**](https://en.wikipedia.org/wiki/Alpha%E2%80%93beta_pruning) to decrease the computation time (i.e., get the minimax algorithm to run much faster!).  In this case, \"alpha\" and \"beta\" to refer to two values that are maintained while the algorithm is running, that help to identify early stopping conditions.  \n",
    "\n",
    "Without alpha-beta pruning, minimax evaluates each leaf node.  With alpha-beta pruning, minimax only evaluates nodes that could provide information that affects the agent's choice of action.  Put another way, it identifies nodes that could not possibly affect the final result and avoids evaluating them."
   ]
  },
  {
   "cell_type": "code",
   "execution_count": 10,
   "metadata": {
    "execution": {
     "iopub.execute_input": "2021-02-15T00:02:14.528406Z",
     "iopub.status.busy": "2021-02-15T00:02:14.527330Z",
     "iopub.status.idle": "2021-02-15T00:02:14.529753Z",
     "shell.execute_reply": "2021-02-15T00:02:14.530318Z"
    },
    "papermill": {
     "duration": 0.025294,
     "end_time": "2021-02-15T00:02:14.530503",
     "exception": false,
     "start_time": "2021-02-15T00:02:14.505209",
     "status": "completed"
    },
    "tags": []
   },
   "outputs": [],
   "source": [
    "def my_agent(obs, config):\n",
    "    # Your code here: Amend the agent!\n",
    "    import random\n",
    "    valid_moves = [col for col in range(config.columns) if obs.board[col] == 0]\n",
    "    return random.choice(valid_moves)"
   ]
  },
  {
   "cell_type": "code",
   "execution_count": 11,
   "metadata": {
    "execution": {
     "iopub.execute_input": "2021-02-15T00:02:14.568820Z",
     "iopub.status.busy": "2021-02-15T00:02:14.567839Z",
     "iopub.status.idle": "2021-02-15T00:02:14.575099Z",
     "shell.execute_reply": "2021-02-15T00:02:14.574582Z"
    },
    "papermill": {
     "duration": 0.027494,
     "end_time": "2021-02-15T00:02:14.575260",
     "exception": false,
     "start_time": "2021-02-15T00:02:14.547766",
     "status": "completed"
    },
    "tags": []
   },
   "outputs": [
    {
     "data": {
      "application/javascript": [
       "parent.postMessage({\"jupyterEvent\": \"custom.exercise_interaction\", \"data\": {\"outcomeType\": 1, \"valueTowardsCompletion\": 0.2, \"interactionType\": 1, \"questionType\": 2, \"questionId\": \"5_JustSubmitEx3\", \"learnToolsVersion\": \"0.3.4\", \"failureMessage\": \"\", \"exceptionClass\": \"\", \"trace\": \"\"}}, \"*\")"
      ],
      "text/plain": [
       "<IPython.core.display.Javascript object>"
      ]
     },
     "metadata": {},
     "output_type": "display_data"
    },
    {
     "data": {
      "text/markdown": [
       "<span style=\"color:#33cc33\">Thank you for creating an agent!</span>"
      ],
      "text/plain": [
       "Thank you for creating an agent!"
      ]
     },
     "metadata": {},
     "output_type": "display_data"
    }
   ],
   "source": [
    "# Run this code cell to get credit for creating an agent\n",
    "q_5.check()"
   ]
  },
  {
   "cell_type": "code",
   "execution_count": 12,
   "metadata": {
    "execution": {
     "iopub.execute_input": "2021-02-15T00:02:14.619246Z",
     "iopub.status.busy": "2021-02-15T00:02:14.618337Z",
     "iopub.status.idle": "2021-02-15T00:02:14.623311Z",
     "shell.execute_reply": "2021-02-15T00:02:14.622608Z"
    },
    "papermill": {
     "duration": 0.030057,
     "end_time": "2021-02-15T00:02:14.623460",
     "exception": false,
     "start_time": "2021-02-15T00:02:14.593403",
     "status": "completed"
    },
    "tags": []
   },
   "outputs": [
    {
     "name": "stdout",
     "output_type": "stream",
     "text": [
      "<function my_agent at 0x7fdb61c5d170> written to submission.py\n"
     ]
    }
   ],
   "source": [
    "import inspect\n",
    "import os\n",
    "\n",
    "def write_agent_to_file(function, file):\n",
    "    with open(file, \"a\" if os.path.exists(file) else \"w\") as f:\n",
    "        f.write(inspect.getsource(function))\n",
    "        print(function, \"written to\", file)\n",
    "\n",
    "write_agent_to_file(my_agent, \"submission.py\")"
   ]
  },
  {
   "cell_type": "markdown",
   "metadata": {
    "papermill": {
     "duration": 0.018285,
     "end_time": "2021-02-15T00:02:14.660558",
     "exception": false,
     "start_time": "2021-02-15T00:02:14.642273",
     "status": "completed"
    },
    "tags": []
   },
   "source": [
    "Then, follow these steps to submit your agent to the competition:\n",
    "1. Begin by clicking on the blue **Save Version** button in the top right corner of the window.  This will generate a pop-up window.  \n",
    "2. Ensure that the **Save and Run All** option is selected, and then click on the blue **Save** button.\n",
    "3. This generates a window in the bottom left corner of the notebook.  After it has finished running, click on the number to the right of the **Save Version** button.  This pulls up a list of versions on the right of the screen.  Click on the ellipsis **(...)** to the right of the most recent version, and select **Open in Viewer**.  This brings you into view mode of the same page. You will need to scroll down to get back to these instructions.\n",
    "4. Click on the **Output** tab on the right of the screen.  Then, click on the blue **Submit** button to submit your results to the leaderboard.\n",
    "\n",
    "You have now successfully submitted to the competition!\n",
    "\n",
    "If you want to keep working to improve your performance, select the blue **Edit** button in the top right of the screen. Then you can change your code and repeat the process. There's a lot of room to improve, and you will climb up the leaderboard as you work.\n",
    "\n",
    "\n",
    "Go to **\"My Submissions\"** to view your score and episodes being played.\n",
    "\n",
    "# Keep going\n",
    "\n",
    "Move on to learn how to **[use deep reinforcement learning](https://www.kaggle.com/alexisbcook/deep-reinforcement-learning)** to develop an agent without a heuristic!"
   ]
  },
  {
   "cell_type": "markdown",
   "metadata": {
    "papermill": {
     "duration": 0.018622,
     "end_time": "2021-02-15T00:02:14.698046",
     "exception": false,
     "start_time": "2021-02-15T00:02:14.679424",
     "status": "completed"
    },
    "tags": []
   },
   "source": [
    "---\n",
    "\n",
    "\n",
    "\n",
    "\n",
    "*Have questions or comments? Visit the [Learn Discussion forum](https://www.kaggle.com/learn-forum/161477) to chat with other Learners.*"
   ]
  }
 ],
 "metadata": {
  "kernelspec": {
   "display_name": "Python 3",
   "language": "python",
   "name": "python3"
  },
  "language_info": {
   "codemirror_mode": {
    "name": "ipython",
    "version": 3
   },
   "file_extension": ".py",
   "mimetype": "text/x-python",
   "name": "python",
   "nbconvert_exporter": "python",
   "pygments_lexer": "ipython3",
   "version": "3.7.9"
  },
  "papermill": {
   "default_parameters": {},
   "duration": 7.603484,
   "end_time": "2021-02-15T00:02:15.327163",
   "environment_variables": {},
   "exception": null,
   "input_path": "__notebook__.ipynb",
   "output_path": "__notebook__.ipynb",
   "parameters": {},
   "start_time": "2021-02-15T00:02:07.723679",
   "version": "2.2.2"
  }
 },
 "nbformat": 4,
 "nbformat_minor": 4
}
